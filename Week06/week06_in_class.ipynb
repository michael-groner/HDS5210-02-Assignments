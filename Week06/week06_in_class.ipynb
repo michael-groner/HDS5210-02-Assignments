{
 "cells": [
  {
   "cell_type": "markdown",
   "metadata": {},
   "source": [
    "# Setup: Create sample data files for this worksheet's examples"
   ]
  },
  {
   "cell_type": "code",
   "execution_count": null,
   "metadata": {},
   "outputs": [],
   "source": [
    "import json\n",
    "import pickle\n",
    "\n",
    "with open(\"hello.txt\", \"w\") as f:\n",
    "    f.write(\"Hello World from a text file\")\n",
    "\n",
    "with open(\"sample_patient_data.csv\", \"w\") as f:\n",
    "    f.write(\"Patient ID,Name,Age,Condition,Admission Date\\n1001,John Doe,45,Hypertension,2023-09-01\\n1002,Jane Smith,34,Diabetes,2023-09-03\\n1003,Alice Johnson,29,Asthma,2023-09-05\\n1004,Robert Brown,67,COPD,2023-09-07\\n1005,Maria Garcia,53,Hypertension,2023-09-10\")\n",
    "\n",
    "with open(\"sample_patient_data.psv\", \"w\") as f:\n",
    "    f.write(\"Patient ID|Name|Age|Condition|Admission Date\\n1001|John Doe|45|Hypertension|2023-09-01\\n1002|Jane Smith|34|Diabetes|2023-09-03\\n1003|Alice Johnson|29|Asthma|2023-09-05\\n1004|Robert Brown|67|COPD|2023-09-07\\n1005|Maria Garcia|53|Hypertension|2023-09-10\")\n",
    "\n",
    "systems = []\n",
    "hospital1 = {\"Beds\":1432, \"Hospital\":\"BJC\", \"City\":\"St. Louis\"}\n",
    "hospital2 = {\"Beds\":1187, \"Hospital\":\"MOBap\", \"City\":\"Creve Coeur\"}\n",
    "systems.append({\"System\":\"BJC\", \"Hospitals\":[hospital1, hospital2]})\n",
    "hospital3 = {\"Beds\":965, \"Hospital\":\"SLUH\", \"City\":\"St. Louis\"}\n",
    "systems.append({\"System\":\"SSM\", \"Hospitals\":[hospital3]})\n",
    "hospital4 = {\"Beds\":983, \"Hospital\":\"Mercy STL\", \"City\":\"Creve Coeur\"}\n",
    "systems.append({\"System\":\"Mercy\", \"Hospitals\":[hospital4]})\n",
    "\n",
    "with open(\"hospitals.json\", \"w\") as json_file:\n",
    "    json.dump(systems, json_file, indent=4)\n",
    "\n",
    "data = b'\\x80\\x04\\x95\\xb6\\x0f\\x00\\x00\\x00\\x00\\x00\\x00X\\xaf\\x0f\\x00\\x00<?xml version=\"1.0\" encoding=\"UTF-8\"?>\\n\\n<Patient xmlns=\"http://hl7.org/fhir\">\\n  <id value=\"example\"/> \\n  <!--    MRN assigned by ACME healthcare on 6-May 2001    -->\\n  <identifier> \\n    <use value=\"usual\"/> \\n    <type> \\n      <coding> \\n        <system value=\"http://terminology.hl7.org/CodeSystem/v2-0203\"/> \\n        <code value=\"MR\"/> \\n      </coding> \\n    </type> \\n    <system value=\"urn:oid:1.2.36.146.595.217.0.1\"/> \\n    <value value=\"12345\"/> \\n    <period> \\n      <start value=\"2001-05-06\"/> \\n    </period> \\n    <assigner> \\n      <display value=\"Acme Healthcare\"/> \\n    </assigner> \\n  </identifier> \\n  <active value=\"true\"/> \\n  <!--    Peter James Chalmers, but called \"Jim\"    -->\\n  <name> \\n    <use value=\"official\"/> \\n    <family value=\"Chalmers\"/> \\n    <given value=\"Peter\"/> \\n    <given value=\"James\"/> \\n  </name> \\n  <name> \\n    <use value=\"usual\"/> \\n    <given value=\"Jim\"/> \\n  </name> \\n  <name> \\n    <!--   Maiden names apply for anyone whose name changes as a result of marriage - irrespective\\n     of gender   -->\\n    <use value=\"maiden\"/> \\n    <family value=\"Windsor\"/> \\n    <given value=\"Peter\"/> \\n    <given value=\"James\"/> \\n    <period> \\n      <end value=\"2002\"/> \\n    </period> \\n  </name> \\n  <!--    home communication details aren\\'t known    -->\\n  <telecom> \\n    <use value=\"home\"/> \\n  </telecom> \\n  <telecom> \\n    <system value=\"phone\"/> \\n    <value value=\"(03) 5555 6473\"/> \\n    <use value=\"work\"/> \\n    <rank value=\"1\"/> \\n  </telecom> \\n  <telecom> \\n    <system value=\"phone\"/> \\n    <value value=\"(03) 3410 5613\"/> \\n    <use value=\"mobile\"/> \\n    <rank value=\"2\"/> \\n  </telecom> \\n  <telecom> \\n    <system value=\"phone\"/> \\n    <value value=\"(03) 5555 8834\"/> \\n    <use value=\"old\"/> \\n    <period> \\n      <end value=\"2014\"/> \\n    </period> \\n  </telecom> \\n  <!--    use FHIR code system for male / female    -->\\n  <gender value=\"male\"/> \\n  <birthDate value=\"1974-12-25\">\\n    <extension url=\"http://hl7.org/fhir/StructureDefinition/patient-birthTime\">\\n      <valueDateTime value=\"1974-12-25T14:35:45-05:00\"/> \\n    </extension> \\n  </birthDate> \\n  <deceasedBoolean value=\"false\"/> \\n  <address> \\n    <use value=\"home\"/> \\n    <type value=\"both\"/> \\n    <text value=\"534 Erewhon St PeasantVille, Rainbow, Vic  3999\"/> \\n    <line value=\"534 Erewhon St\"/> \\n    <city value=\"PleasantVille\"/> \\n    <district value=\"Rainbow\"/> \\n    <state value=\"Vic\"/> \\n    <postalCode value=\"3999\"/> \\n    <period> \\n      <start value=\"1974-12-25\"/> \\n    </period> \\n  </address> \\n  <contact> \\n    <relationship> \\n      <coding> \\n        <system value=\"http://terminology.hl7.org/CodeSystem/v2-0131\"/> \\n        <code value=\"N\"/> \\n      </coding> \\n    </relationship> \\n    <name> \\n      <family value=\"du March\\xc3\\xa9\">\\n        <!--    the \"du\" part is a family name prefix (VV in iso 21090)    -->\\n        <extension url=\"http://hl7.org/fhir/StructureDefinition/humanname-own-prefix\">\\n          <valueString value=\"VV\"/> \\n        </extension> \\n      </family> \\n      <given value=\"B\\xc3\\xa9n\\xc3\\xa9dicte\"/> \\n    </name> \\n    <additionalName> \\n      <use value=\"nickname\"/> \\n      <given value=\"B\\xc3\\xa9n\\xc3\\xa9\"/> \\n    </additionalName> \\n    <telecom> \\n      <system value=\"phone\"/> \\n      <value value=\"+33 (237) 998327\"/> \\n    </telecom> \\n    <address> \\n      <use value=\"home\"/> \\n      <type value=\"both\"/> \\n      <line value=\"534 Erewhon St\"/> \\n      <city value=\"PleasantVille\"/> \\n      <district value=\"Rainbow\"/> \\n      <state value=\"Vic\"/> \\n      <postalCode value=\"3999\"/> \\n      <period> \\n        <start value=\"1974-12-25\"/> \\n      </period> \\n    </address> \\n    <additionalAddress> \\n      <use value=\"work\"/> \\n      <line value=\"123 Smart St\"/> \\n      <city value=\"PleasantVille\"/> \\n      <state value=\"Vic\"/> \\n      <postalCode value=\"3999\"/> \\n    </additionalAddress> \\n    <gender value=\"female\"/> \\n    <period> \\n      <!--    The contact relationship started in 2012    -->\\n      <start value=\"2012\"/> \\n    </period> \\n  </contact> \\n  <managingOrganization> \\n    <reference value=\"Organization/1\"/> \\n  </managingOrganization> \\n</Patient> \\x94.'\n",
    "with open(\"patient.xml\", \"w\") as f:\n",
    "    f.write(pickle.loads(data))\n",
    "\n",
    "\n"
   ]
  },
  {
   "cell_type": "markdown",
   "metadata": {},
   "source": [
    "# Module 19: Files with built-in Python commands"
   ]
  },
  {
   "cell_type": "markdown",
   "metadata": {},
   "source": [
    "## Reading file with `fopen()`\n",
    "\n",
    "The variable 'f' is known as a *file handle*. Consider it a variable holding the information needed to read or write a file."
   ]
  },
  {
   "cell_type": "code",
   "execution_count": null,
   "metadata": {},
   "outputs": [],
   "source": [
    "f = open('hello.txt')\n",
    "message = f.read()\n",
    "f.close()\n",
    "print(message)\n"
   ]
  },
  {
   "cell_type": "markdown",
   "metadata": {},
   "source": [
    "## Reading file using `with`\n",
    "\n",
    "The `with` command will automatically close the file after the indented code runs, even if an exception is thrown"
   ]
  },
  {
   "cell_type": "code",
   "execution_count": null,
   "metadata": {},
   "outputs": [],
   "source": [
    "with open('hello.txt') as f:\n",
    "    message = f.read()\n",
    "\n",
    "print(message)"
   ]
  },
  {
   "cell_type": "markdown",
   "metadata": {},
   "source": [
    "## Write to a file\n",
    "\n",
    "Using a second parameter with a \"w\" (for write) in the `open()` command tells Python that you are going to write to this file"
   ]
  },
  {
   "cell_type": "code",
   "execution_count": null,
   "metadata": {},
   "outputs": [],
   "source": [
    "with open(\"hello2.txt\", \"w\") as f:\n",
    "    f.write(\"Hello from a file I created\\n\")"
   ]
  },
  {
   "cell_type": "markdown",
   "metadata": {},
   "source": [
    "## Append to a file\n",
    "\n",
    "Sending an \"a\" (for append) to the `open()` command will append test to the end of a file."
   ]
  },
  {
   "cell_type": "code",
   "execution_count": null,
   "metadata": {},
   "outputs": [],
   "source": [
    "with open(\"Hello2.txt\", \"a\") as f:\n",
    "    f.write(\"Hello again\")"
   ]
  },
  {
   "cell_type": "markdown",
   "metadata": {},
   "source": [
    "# Exercise 1 - Write and read your own file\n",
    "\n",
    "First:\n",
    "- Open a file for writing called \"hello3.txt\".\n",
    "- Write the string \"Hello YOUR_NAME\" to the file.\n",
    "- Close the file.\n",
    "\n",
    "Second:\n",
    "- Open the file \"hello3.txt\" for reading.\n",
    "- Read the contents of the file.\n",
    "- Close the file.\n",
    "- Print the contents of the file to the screen.\n",
    "\n"
   ]
  },
  {
   "cell_type": "code",
   "execution_count": null,
   "metadata": {},
   "outputs": [],
   "source": [
    "# Your code for Exercise 1 here"
   ]
  },
  {
   "cell_type": "markdown",
   "metadata": {},
   "source": [
    "# Module 20: Working with CSV files"
   ]
  },
  {
   "cell_type": "markdown",
   "metadata": {},
   "source": [
    "## Read from CSV file\n",
    "\n",
    "Note the following in this function:\n",
    "- Looping over reads, one line at a file using the `readline()` command\n",
    "- The `split()` function separates each line into a list using the stated delimiter \",\" (comma) as the separation value\n",
    "- Note that each last value of the list has the value AND a \"\\n\"\n",
    "-- The \"\\n\" is the `new line character` telling the computer to move to a next line when printing\n",
    "-- The `readline()` command does not strip \"extra\" characters at the end of a new line"
   ]
  },
  {
   "cell_type": "code",
   "execution_count": null,
   "metadata": {},
   "outputs": [],
   "source": [
    "with open(\"sample_patient_data.csv\") as f:\n",
    "    result = []\n",
    "    for line in f:\n",
    "        result.append( line.split(','))\n",
    "\n",
    "result"
   ]
  },
  {
   "cell_type": "markdown",
   "metadata": {},
   "source": [
    "## Use `strip()` to remove new line characters from the line"
   ]
  },
  {
   "cell_type": "code",
   "execution_count": null,
   "metadata": {},
   "outputs": [],
   "source": [
    "with open(\"sample_patient_data.csv\") as f:\n",
    "    result = []\n",
    "    for line in f:\n",
    "        clean_line = line.strip()\n",
    "        result.append( clean_line.split(','))\n",
    "\n",
    "result"
   ]
  },
  {
   "cell_type": "markdown",
   "metadata": {},
   "source": [
    "# Module 20: Using the CSV Reader module"
   ]
  },
  {
   "cell_type": "markdown",
   "metadata": {},
   "source": [
    "## Collect list of patients using csv reader\n",
    "\n",
    "Note that the \"header line\" is included as the first element in the list\n",
    "- You might need to remove the header line from the list if that data isn't valuable"
   ]
  },
  {
   "cell_type": "code",
   "execution_count": null,
   "metadata": {},
   "outputs": [],
   "source": [
    "import csv\n",
    "\n",
    "patients = []\n",
    "with open(\"sample_patient_data.csv\") as f:\n",
    "    csv_reader = csv.reader(f)\n",
    "    for row in csv_reader:\n",
    "        patients.append(row)\n",
    "\n",
    "patients"
   ]
  },
  {
   "cell_type": "markdown",
   "metadata": {},
   "source": [
    "## Create a list of dictionaries using the `DictReader()` function in the csv module\n",
    "\n",
    "Note that the header line provides the keys for the valus in the dictionaries"
   ]
  },
  {
   "cell_type": "code",
   "execution_count": null,
   "metadata": {},
   "outputs": [],
   "source": [
    "import csv\n",
    "\n",
    "patients = []\n",
    "with open(\"sample_patient_data.csv\") as f:\n",
    "    csv_reader = csv.DictReader(f)\n",
    "    for row in csv_reader:\n",
    "        patients.append(row)\n",
    "\n",
    "patients"
   ]
  },
  {
   "cell_type": "markdown",
   "metadata": {},
   "source": [
    "## Use the cvs module to read a pipe delimited file\n",
    "\n",
    "You can tell the cvs module what character, or characters, you want to use at the vaule demiliter"
   ]
  },
  {
   "cell_type": "code",
   "execution_count": null,
   "metadata": {},
   "outputs": [],
   "source": [
    "import csv\n",
    "\n",
    "patients = []\n",
    "with open(\"sample_patient_data.psv\") as f:\n",
    "    csv_reader = csv.reader(f, delimiter=\"|\")\n",
    "    for row in csv_reader:\n",
    "        patients.append(row)\n",
    "\n",
    "patients"
   ]
  },
  {
   "cell_type": "markdown",
   "metadata": {},
   "source": [
    "# Exercise 2: Convert data types when reading csv file\n",
    "\n",
    "Read the `sample_patient_data.csv` CSV file into memory\n",
    "- The memory should be a list of all patients\n",
    "- Each patient in the list is a list of the fields in that row\n",
    "- The age field should be converted to an integer\n",
    "- The admission date field should be converted to a date data type\n",
    "\n",
    "Hints:\n",
    "- Import the csv module using the command `import csv`\n",
    "- Use the `csv.reader()` command to read the sample_patient_data.csv file\n",
    "- Don't copy the first line of the file, containing the header information, into your list\n",
    "- Convert the Age column to integers\n",
    "    - Calling `int(x)` where x is a string, will return an integer\n",
    "- Convert the Admission Data Column to a datatime type\n",
    "    - Import the Datetime module `from datetime import datetime` at the top of the file\n",
    "    - Convert the string containing the date in the form \"YYYY-MM-DD\" to a date using the command `date = datetime.strptime(date_string, \"%Y-%m-%d\")`"
   ]
  },
  {
   "cell_type": "code",
   "execution_count": null,
   "metadata": {},
   "outputs": [],
   "source": [
    "# Your code goes here\n",
    "        "
   ]
  },
  {
   "cell_type": "markdown",
   "metadata": {},
   "source": [
    "# Module 20: Reading CSV Using Pandas Module"
   ]
  },
  {
   "cell_type": "code",
   "execution_count": null,
   "metadata": {},
   "outputs": [],
   "source": [
    "import pandas as pd\n",
    "\n",
    "data = pd.read_csv(\"sample_patient_data.csv\")\n",
    "\n",
    "data"
   ]
  },
  {
   "cell_type": "markdown",
   "metadata": {},
   "source": [
    "# Module 21 JSON Files"
   ]
  },
  {
   "cell_type": "markdown",
   "metadata": {},
   "source": [
    "## Read JSON file into memory\n",
    "\n",
    "The JSON module's `load()` command takes the file pointer to a JSON file and returns the memory structure to your variable"
   ]
  },
  {
   "cell_type": "code",
   "execution_count": null,
   "metadata": {},
   "outputs": [],
   "source": [
    "import json\n",
    "\n",
    "with open(\"hospitals.json\") as f:\n",
    "    systems = json.load(f)\n",
    "\n",
    "systems"
   ]
  },
  {
   "cell_type": "markdown",
   "metadata": {},
   "source": []
  },
  {
   "cell_type": "markdown",
   "metadata": {},
   "source": [
    "## Write JSON file into memory\n",
    "\n",
    "The JSON module's `dump()` function takes the open file pointer to a JSON file and write the memory to disk\n",
    "\n",
    "Note: The `dump()` function takes three arguements\n",
    "- First, the memory element to write to file\n",
    "- Second, the file pointer \n",
    "- Third, optionally, the number of spaces to use for each indentation when showing the memory structure"
   ]
  },
  {
   "cell_type": "code",
   "execution_count": null,
   "metadata": {},
   "outputs": [],
   "source": [
    "import json\n",
    "\n",
    "list_to_write_to_disk = [1,2,3,4,5]\n",
    "\n",
    "with open(\"data_to_file.json\", \"w\") as f:\n",
    "    json.dump(list_to_write_to_disk, f, indent=4)\n"
   ]
  },
  {
   "cell_type": "markdown",
   "metadata": {},
   "source": [
    "# Module 22: XML Files"
   ]
  },
  {
   "cell_type": "markdown",
   "metadata": {},
   "source": [
    "## Read XML to an object tree"
   ]
  },
  {
   "cell_type": "code",
   "execution_count": null,
   "metadata": {},
   "outputs": [],
   "source": [
    "from lxml import objectify\n",
    "\n",
    "with open(\"patient.xml\") as f:\n",
    "    xml = objectify.parse(f)\n",
    "\n",
    "patient = xml.getroot()\n",
    "\n",
    "patient\n"
   ]
  },
  {
   "cell_type": "code",
   "execution_count": null,
   "metadata": {},
   "outputs": [],
   "source": [
    "for child in patient.getchildren():\n",
    "    print(child.tag + \":\" + str(child.attrib))\n",
    "    "
   ]
  },
  {
   "cell_type": "markdown",
   "metadata": {},
   "source": [
    "## XPath\n"
   ]
  },
  {
   "cell_type": "code",
   "execution_count": null,
   "metadata": {},
   "outputs": [],
   "source": [
    "ns = {\"fhir\": \"http://hl7.org/fhir\"}\n",
    "\n",
    "for address in patient.findall('fhir:address', namespaces=ns):\n",
    "    city = address.find(\"fhir:city\", namespaces=ns)\n",
    "    print(\"Address city: \" + city.attrib.get('value'))\n",
    "      "
   ]
  }
 ],
 "metadata": {
  "kernelspec": {
   "display_name": "Python 3 (ipykernel)",
   "language": "python",
   "name": "python3"
  },
  "language_info": {
   "codemirror_mode": {
    "name": "ipython",
    "version": 3
   },
   "file_extension": ".py",
   "mimetype": "text/x-python",
   "name": "python",
   "nbconvert_exporter": "python",
   "pygments_lexer": "ipython3",
   "version": "3.9.6"
  }
 },
 "nbformat": 4,
 "nbformat_minor": 4
}
