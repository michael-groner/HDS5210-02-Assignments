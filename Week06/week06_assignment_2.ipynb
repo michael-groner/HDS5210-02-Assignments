{
 "cells": [
  {
   "cell_type": "markdown",
   "metadata": {
    "nbgrader": {
     "grade": false,
     "grade_id": "intro",
     "locked": true,
     "schema_version": 1,
     "solution": false
    }
   },
   "source": [
    "# Week 6 Exercises\n",
    "\n",
    "_McKinney 6.1_\n",
    "\n",
    "There are multiple ways to solve the problems below.  You can use any one of several approaches.  For example, you can read CSV files using Pandas or the csv module.  Your score won't depend on which modules you choose to use unless explicitly noted below, but your programming style will still matter."
   ]
  },
  {
   "cell_type": "markdown",
   "metadata": {},
   "source": [
    "### 30.0 Create sample data in local directory"
   ]
  },
  {
   "cell_type": "code",
   "execution_count": 1,
   "metadata": {},
   "outputs": [],
   "source": [
    "import pickle\n",
    "\n",
    "raw = b'\\x80\\x04\\x95\\xac\\x10\\x00\\x00\\x00\\x00\\x00\\x00X\\xa5\\x10\\x00\\x00{\\n  \"entry\": [\\n    {\\n      \"resource\": {\\n        \"resourceType\": \"AllergyIntolerance\",\\n        \"recordedDate\": \"2015-08-24T23:11:36Z\",\\n        \"status\": \"confirmed\",\\n        \"criticality\": \"CRITL\",\\n        \"onset\": \"2012-11-07T00:00:00Z\",\\n        \"patient\": {\\n          \"display\": \"Jason Argonaut\"\\n        },\\n        \"substance\": {\\n          \"text\": \"PENICILLIN G\",\\n          \"coding\": [\\n            {\\n              \"system\": \"http://www.nlm.nih.gov/research/umls/rxnorm\",\\n              \"code\": \"7980\",\\n              \"display\": \"PENICILLIN G\"\\n            },\\n            {\\n              \"system\": \"http://fdasis.nlm.nih.gov\",\\n              \"code\": \"Q42T66VG0C\",\\n              \"display\": \"PENICILLIN G\"\\n            }\\n          ]\\n        },\\n        \"reaction\": [\\n          {\\n            \"certainty\": \"confirmed\",\\n            \"onset\": \"2012-11-07T00:00:00Z\",\\n            \"manifestation\": [\\n              {\\n                \"text\": \"Hives\"\\n              }\\n            ],\\n            \"note\": {\\n              \"text\": \"Severity low enough to be prescribed if needed.\"\\n            }\\n          }\\n        ],\\n        \"note\": {\\n          \"text\": \"Severity low enough to be prescribed if needed.\"\\n        }\\n      }\\n    },\\n    {\\n      \"resource\": {\\n        \"resourceType\": \"AllergyIntolerance\",\\n        \"recordedDate\": \"2015-11-07T20:55:10Z\",\\n        \"status\": \"confirmed\",\\n        \"criticality\": \"CRITL\",\\n        \"id\": \"TPcWiBG2h2E114Vh0sRT8fQB\",\\n        \"onset\": \"2010-05-02T00:00:00Z\",\\n        \"patient\": {\\n          \"display\": \"Jason Argonaut\"\\n        },\\n        \"substance\": {\\n          \"text\": \"SHELLFISH-DERIVED PRODUCTS\",\\n          \"coding\": [\\n            {\\n              \"system\": \"http://hl7.org/fhir/ndfrt\",\\n              \"code\": \"N0000007624\",\\n              \"display\": \"SHELLFISH-DERIVED PRODUCTS\"\\n            }\\n          ]\\n        },\\n        \"reaction\": [\\n          {\\n            \"certainty\": \"confirmed\",\\n            \"onset\": \"2010-05-02T00:00:00Z\",\\n            \"manifestation\": [\\n              {\\n                \"text\": \"Itching\"\\n              }\\n            ]\\n          }\\n        ]\\n      }\\n    },\\n    {\\n      \"resource\": {\\n        \"resourceType\": \"AllergyIntolerance\",\\n        \"recordedDate\": \"2015-11-07T20:56:34Z\",\\n        \"status\": \"confirmed\",\\n        \"criticality\": \"CRITH\",\\n        \"id\": \"TKebKfLXzu6Sp.LY-IpvpmQB\",\\n        \"onset\": \"2014-03-07T00:00:00Z\",\\n        \"patient\": {\\n          \"display\": \"Jason Argonaut\"\\n        },\\n        \"substance\": {\\n          \"text\": \"STRAWBERRY\",\\n          \"coding\": [\\n            {\\n              \"system\": \"http://www.nlm.nih.gov/research/umls/rxnorm\",\\n              \"code\": \"892484\",\\n              \"display\": \"STRAWBERRY\"\\n            },\\n            {\\n              \"system\": \"http://fdasis.nlm.nih.gov\",\\n              \"code\": \"4J2TY8Y81V\",\\n              \"display\": \"STRAWBERRY\"\\n            }\\n          ]\\n        },\\n        \"reaction\": [\\n          {\\n            \"certainty\": \"confirmed\",\\n            \"onset\": \"2014-03-07T00:00:00Z\",\\n            \"manifestation\": [\\n              {\\n                \"text\": \"Anaphylaxis\"\\n              }\\n            ]\\n          }\\n        ]\\n      }\\n    },\\n    {\\n      \"resource\": {\\n        \"resourceType\": \"AllergyIntolerance\",\\n        \"recordedDate\": \"2015-08-24T23:11:36Z\",\\n        \"status\": \"confirmed\",\\n        \"criticality\": \"CRITL\",\\n        \"onset\": \"1978-12-08T00:00:00Z\",\\n        \"patient\": {\\n          \"display\": \"Paul Boal\"\\n        },\\n        \"substance\": {\\n          \"text\": \"PENICILLIN G\",\\n          \"coding\": [\\n            {\\n              \"system\": \"http://www.nlm.nih.gov/research/umls/rxnorm\",\\n              \"code\": \"7980\",\\n              \"display\": \"PENICILLIN G\"\\n            },\\n            {\\n              \"system\": \"http://fdasis.nlm.nih.gov\",\\n              \"code\": \"Q42T66VG0C\",\\n              \"display\": \"PENICILLIN G\"\\n            }\\n          ]\\n        },\\n        \"reaction\": [\\n          {\\n            \"certainty\": \"confirmed\",\\n            \"onset\": \"1978-12-08T00:00:00Z\",\\n            \"manifestation\": [\\n              {\\n                \"text\": \"Bruising\"\\n              }\\n            ],\\n            \"note\": {\\n              \"text\": \"Do not prescribe!\"\\n            }\\n          }\\n        ],\\n        \"note\": {\\n          \"text\": \"Do not prescribe!\"\\n        }\\n      }\\n    }\\n  ]\\n}\\n\\x94.'\n",
    "json_data = pickle.loads(raw)\n",
    "\n",
    "with open(\"allergies.json\", \"w\") as f:\n",
    "    f.write(json_data)"
   ]
  },
  {
   "cell_type": "markdown",
   "metadata": {
    "nbgrader": {
     "grade": false,
     "grade_id": "q1-description",
     "locked": true,
     "schema_version": 1,
     "solution": false
    }
   },
   "source": [
    "### 30.1 List of Allergies\n",
    "\n",
    "After running 30.0 to create your input data file, there is a file called `allergies.json` that contains a list of patient allergies. It is taken from sample data provided by the EHR vendor, Epic, here: https://open.epic.com/Clinical/Allergy\n",
    "\n",
    "Take some time to look at the structure of the file.  You can open it directly in Jupyter by clicking the _Home_ icon, then the _from_instructor_ folder, and then the _data_ folder.\n",
    "\n",
    "Within the file, you'll see that it is a dictionary with many items in it.  One of those items is called `entry` and that item is a list of things.  You can tell that because the item name is immediately followed by an opening square bracket, signifying the start of a list.  It's line 11 of the file: `  \"entry\": [`\n",
    "\n",
    "Write a function named `allergy_count(json_file)` that takes as one parameter the name of the JSON file and returns an integer number of entries in that file.  Your function should open the file, read the json into a Python object, and return how many items there are in the list of `entry`s."
   ]
  },
  {
   "cell_type": "code",
   "execution_count": 2,
   "metadata": {},
   "outputs": [],
   "source": [
    "import json\n",
    "ALLERGIES_FILE=\"allergies.json\""
   ]
  },
  {
   "cell_type": "code",
   "execution_count": 3,
   "metadata": {
    "nbgrader": {
     "grade": false,
     "grade_id": "q1-answer",
     "locked": false,
     "schema_version": 1,
     "solution": true
    }
   },
   "outputs": [],
   "source": [
    "# Put your solution here"
   ]
  },
  {
   "cell_type": "code",
   "execution_count": null,
   "metadata": {},
   "outputs": [],
   "source": [
    "allergy_count(ALLERGIES_FILE)"
   ]
  },
  {
   "cell_type": "code",
   "execution_count": null,
   "metadata": {
    "nbgrader": {
     "grade": true,
     "grade_id": "q1-tests",
     "locked": true,
     "points": 5,
     "schema_version": 1,
     "solution": false
    }
   },
   "outputs": [],
   "source": [
    "assert type(allergy_count(ALLERGIES_FILE)) == int\n",
    "assert allergy_count(ALLERGIES_FILE) == 4"
   ]
  },
  {
   "cell_type": "markdown",
   "metadata": {},
   "source": [
    "### 30.2 Number of Patients\n",
    "\n",
    "If you dig a little bit deaper into this list of allergies, you'll see that each result has a patient associated with it.  Create a funcation called `patient_count(json_file)` that will count how many unique patients we have in this JSON structure.  "
   ]
  },
  {
   "cell_type": "code",
   "execution_count": null,
   "metadata": {},
   "outputs": [],
   "source": [
    "# Put your solution here"
   ]
  },
  {
   "cell_type": "code",
   "execution_count": null,
   "metadata": {},
   "outputs": [],
   "source": [
    "patient_count(ALLERGIES_FILE)"
   ]
  },
  {
   "cell_type": "code",
   "execution_count": null,
   "metadata": {},
   "outputs": [],
   "source": [
    "assert type(patient_count(ALLERGIES_FILE)) == int\n",
    "assert patient_count(ALLERGIES_FILE) == 2"
   ]
  },
  {
   "cell_type": "markdown",
   "metadata": {},
   "source": [
    "### 30.3 How Many Allergies per Patient\n",
    "\n",
    "Although each entry is a separate allergy, several of them are for the same patient.  Write a function called `allergy_per_patient(json_file)` that counts up how many allergies each patient has.\n"
   ]
  },
  {
   "cell_type": "code",
   "execution_count": null,
   "metadata": {},
   "outputs": [],
   "source": [
    "# Put your solution here"
   ]
  },
  {
   "cell_type": "code",
   "execution_count": null,
   "metadata": {},
   "outputs": [],
   "source": [
    "allergy_per_patient(ALLERGIES_FILE)"
   ]
  },
  {
   "cell_type": "code",
   "execution_count": null,
   "metadata": {},
   "outputs": [],
   "source": [
    "assert type(allergy_per_patient(ALLERGIES_FILE)) == dict\n",
    "assert allergy_per_patient(ALLERGIES_FILE) == {'Paul Boal': 1, 'Jason Argonaut': 3}"
   ]
  },
  {
   "cell_type": "markdown",
   "metadata": {
    "nbgrader": {
     "grade": false,
     "grade_id": "q2-question",
     "locked": true,
     "schema_version": 1,
     "solution": false
    }
   },
   "source": [
    "### 30.4 Patient Allergies and Reaction\n",
    "\n",
    "You'll see in the file that each of the items in the `entry` list have several other attributes including a patient name, substance text representation, and a reaction manifestation.  Create a function named `allergy_list(json_file)` that will create an output list that has patient name, allergy, and reaction for each `entry`.  The actual result you should get will be:\n",
    "\n",
    "```python\n",
    "[['Jason Argonaut', 'PENICILLIN G', 'Hives'],\n",
    " ['Paul Boal', 'PENICILLIN G', 'Bruising'],\n",
    " ['Jason Argonaut', 'SHELLFISH-DERIVED PRODUCTS', 'Itching'],\n",
    " ['Jason Argonaut', 'STRAWBERRY', 'Anaphylaxis']]\n",
    "```\n",
    "\n",
    "You'll notice that the reaction and the manifestation of that action are lists.  You only need to capture the first reaction and the first manifestation of the action.  That is, if there is a list of things, just output the first one."
   ]
  },
  {
   "cell_type": "code",
   "execution_count": null,
   "metadata": {
    "nbgrader": {
     "grade": false,
     "grade_id": "q2-answer",
     "locked": false,
     "schema_version": 1,
     "solution": true
    }
   },
   "outputs": [],
   "source": [
    "# Put your solution here"
   ]
  },
  {
   "cell_type": "code",
   "execution_count": null,
   "metadata": {},
   "outputs": [],
   "source": [
    "allergy_list(ALLERGIES_FILE)"
   ]
  },
  {
   "cell_type": "code",
   "execution_count": null,
   "metadata": {
    "nbgrader": {
     "grade": true,
     "grade_id": "q2-tests",
     "locked": true,
     "points": 10,
     "schema_version": 1,
     "solution": false
    }
   },
   "outputs": [],
   "source": [
    "assert allergy_list(ALLERGIES_FILE) == [['Jason Argonaut', 'PENICILLIN G', 'Hives'],\n",
    " ['Jason Argonaut', 'SHELLFISH-DERIVED PRODUCTS', 'Itching'],\n",
    " ['Jason Argonaut', 'STRAWBERRY', 'Anaphylaxis'],\n",
    " ['Paul Boal', 'PENICILLIN G', 'Bruising']]\n"
   ]
  },
  {
   "cell_type": "markdown",
   "metadata": {
    "nbgrader": {
     "grade": false,
     "grade_id": "q3-question",
     "locked": true,
     "schema_version": 1,
     "solution": false
    }
   },
   "source": [
    "### 30.5 Allergy Reaction\n",
    "\n",
    "Write a function called `allergy_reaction(json_file,patient,substance)` that takes three parameter and returns the reaction that will happen if the patient takes the specified substance.  You can solve this, in part, by calling your `allergy_list` function inside your new `allergy_reaction` function.\n",
    "\n",
    "If the substance is not found in the allergy list, the function should return None."
   ]
  },
  {
   "cell_type": "code",
   "execution_count": null,
   "metadata": {
    "nbgrader": {
     "grade": false,
     "grade_id": "q3-answer",
     "locked": false,
     "schema_version": 1,
     "solution": true
    }
   },
   "outputs": [],
   "source": [
    "# Put your solution here"
   ]
  },
  {
   "cell_type": "code",
   "execution_count": null,
   "metadata": {},
   "outputs": [],
   "source": [
    "allergy_reaction(ALLERGIES_FILE, 'Jason Argonaut', 'PENICILLIN G')"
   ]
  },
  {
   "cell_type": "code",
   "execution_count": null,
   "metadata": {
    "nbgrader": {
     "grade": true,
     "grade_id": "q3-tests",
     "locked": true,
     "points": 5,
     "schema_version": 1,
     "solution": false
    }
   },
   "outputs": [],
   "source": [
    "assert allergy_reaction(ALLERGIES_FILE, 'Jason Argonaut', 'PENICILLIN G') == 'Hives'\n",
    "assert allergy_reaction(ALLERGIES_FILE, 'Jason Argonaut', 'SHELLFISH-DERIVED PRODUCTS') == 'Itching'\n",
    "assert allergy_reaction(ALLERGIES_FILE, 'Jason Argonaut', 'STRAWBERRY') == 'Anaphylaxis'\n",
    "assert allergy_reaction(ALLERGIES_FILE, 'Jason Argonaut', 'PENICILLIN') == None\n",
    "assert allergy_reaction(ALLERGIES_FILE, 'Paul Boal', 'PENICILLIN G') == 'Bruising'"
   ]
  },
  {
   "cell_type": "markdown",
   "metadata": {},
   "source": [
    "---\n",
    "\n",
    "## Check your work above\n",
    "\n",
    "If you didn't get them all correct, take a few minutes to think through those that aren't correct.\n",
    "\n",
    "\n",
    "## Submitting Your Work\n",
    "\n",
    "In order to submit your work, you'll need to save this notebook file back to GitHub.  To do that in Google Colab:\n",
    "1. File -> Save a Copy in GitHub\n",
    "2. Make sure your HDS5210 repository is selected\n",
    "3. Make sure the file name includes the week number like this: `week06/week06_assignment_2.ipynb`\n",
    "4. Add a commit message that means something\n",
    "\n",
    "**Be sure week names are lowercase and use a two digit week number!!**\n",
    "\n",
    "**Be sure you use the same file name provided by the instructor!!**\n",
    "\n"
   ]
  }
 ],
 "metadata": {
  "celltoolbar": "Create Assignment",
  "kernelspec": {
   "display_name": "Python 3",
   "language": "python",
   "name": "python3"
  },
  "language_info": {
   "codemirror_mode": {
    "name": "ipython",
    "version": 3
   },
   "file_extension": ".py",
   "mimetype": "text/x-python",
   "name": "python",
   "nbconvert_exporter": "python",
   "pygments_lexer": "ipython3",
   "version": "3.9.6"
  }
 },
 "nbformat": 4,
 "nbformat_minor": 2
}
