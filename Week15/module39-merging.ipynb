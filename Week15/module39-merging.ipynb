{
 "cells": [
  {
   "cell_type": "markdown",
   "metadata": {
    "colab_type": "text",
    "id": "view-in-github"
   },
   "source": [
    "<a href=\"https://colab.research.google.com/github/paulboal/hds5210-2023/blob/main/week14/module56-merging.ipynb\" target=\"_parent\"><img src=\"https://colab.research.google.com/assets/colab-badge.svg\" alt=\"Open In Colab\"/></a>"
   ]
  },
  {
   "cell_type": "markdown",
   "metadata": {
    "id": "ghfJWm7I-1Ie"
   },
   "source": [
    "# Merging DataFrames Together\n",
    "\n",
    "In this module, we're going to talk about two different types of merging: concatenation and masking"
   ]
  },
  {
   "cell_type": "markdown",
   "metadata": {
    "id": "yMMtw5dE-1Ig"
   },
   "source": [
    "## Concatenation\n",
    "\n",
    "To \"concatenate\" means to combine things end-to-end.  That is, we're going to merge together multiple data sets in a way that we just keep appending more rows end-on-end.\n"
   ]
  },
  {
   "cell_type": "code",
   "execution_count": null,
   "metadata": {},
   "outputs": [],
   "source": [
    "import pandas as pd\n",
    "\n",
    "# Creating the first DataFrame\n",
    "data1 = {\n",
    "    'Patient_ID': [101, 102, 103],\n",
    "    'Visit_Date': ['2024-12-01', '2024-12-02', '2024-12-03'],\n",
    "    'Doctor': ['Dr. Smith', 'Dr. Adams', 'Dr. Lee']\n",
    "}\n",
    "df1 = pd.DataFrame(data1)\n",
    "\n",
    "# Creating the second DataFrame\n",
    "data2 = {\n",
    "    'Patient_ID': [104, 105],\n",
    "    'Visit_Date': ['2024-12-04', '2024-12-05'],\n",
    "    'Doctor': ['Dr. Patel', 'Dr. Johnson']\n",
    "}\n",
    "df2 = pd.DataFrame(data2)\n",
    "\n",
    "# Creating the third DataFrame\n",
    "data3 = {\n",
    "    'Patient_ID': [106, 107, 108],\n",
    "    'Visit_Date': ['2024-12-06', '2024-12-07', '2024-12-08'],\n",
    "    'Doctor': ['Dr. Carter', 'Dr. Davis', 'Dr. White']\n",
    "}\n",
    "df3 = pd.DataFrame(data3)\n",
    "\n",
    "\n",
    "# Displaying the result\n",
    "print(\"DataFrame 1:\")\n",
    "print(df1)\n",
    "print(\"\\nDataFrame 2:\")\n",
    "print(df2)\n",
    "print(\"\\nDataFrame 3:\")\n",
    "print(df3)\n"
   ]
  },
  {
   "cell_type": "code",
   "execution_count": null,
   "metadata": {},
   "outputs": [],
   "source": [
    "# Concatenating the DataFrames with keys\n",
    "concatenated_df = pd.concat([df1, df2, df3])\n",
    "\n",
    "print(\"\\nConcatenated DataFrame:\")\n",
    "print(concatenated_df)\n"
   ]
  },
  {
   "cell_type": "code",
   "execution_count": null,
   "metadata": {},
   "outputs": [],
   "source": [
    "# Concatenating the DataFrames with keys\n",
    "concatenated_df = pd.concat([df1, df2, df3], keys=['Batch1', 'Batch2', 'Batch3'])\n",
    "\n",
    "print(\"\\nConcatenated DataFrame with Keys:\")\n",
    "print(concatenated_df)\n"
   ]
  },
  {
   "cell_type": "code",
   "execution_count": null,
   "metadata": {},
   "outputs": [],
   "source": [
    "concatenated_df = concatenated_df.reset_index()\n",
    "\n",
    "print(\"\\nConcatenated DataFrame with Keys and index reset:\")\n",
    "print(concatenated_df)"
   ]
  },
  {
   "cell_type": "markdown",
   "metadata": {},
   "source": [
    "# What happens if you try to concatenate dataframes with partially matching columns?"
   ]
  },
  {
   "cell_type": "code",
   "execution_count": null,
   "metadata": {},
   "outputs": [],
   "source": [
    "# Creating the fourth DataFrame with partially matching columns\n",
    "data4 = {\n",
    "    'Patient_ID': [106, 107, 108],\n",
    "    'Doctor': ['Dr. Carter', 'Dr. Davis', 'Dr. White'],\n",
    "    'Parent': ['Abigal', 'Scott', 'Jeffrey']\n",
    "}\n",
    "df4 = pd.DataFrame(data4)\n",
    "\n",
    "print( pd.concat([df1, df4]))"
   ]
  },
  {
   "cell_type": "markdown",
   "metadata": {
    "id": "LcSCJs0R-1Ih"
   },
   "source": [
    "## Concatenating Side-by-Side\n",
    "\n",
    "The stacking example above is more common, but it might be interesting to concatenate data side-by-side."
   ]
  },
  {
   "cell_type": "code",
   "execution_count": null,
   "metadata": {
    "id": "QSwPd55W-1Ih"
   },
   "outputs": [],
   "source": [
    "names1=[['Paul','Boal'],['Anny', 'Monroe'],['Eric','Westhus'],['Andy','Slavitt']]\n",
    "names2=[['Paul Boal'],['Anny Monroe'],['Eric Westhus'],[''],['Mario Garza']]\n",
    "n1 = pd.DataFrame(names1, columns=['First','Last'])\n",
    "n2 = pd.DataFrame(names2, columns=['Full Name'])"
   ]
  },
  {
   "cell_type": "code",
   "execution_count": null,
   "metadata": {
    "id": "5-OrN-kO-1Ih"
   },
   "outputs": [],
   "source": [
    "n1"
   ]
  },
  {
   "cell_type": "code",
   "execution_count": null,
   "metadata": {
    "id": "CiWec7OH-1Ih"
   },
   "outputs": [],
   "source": [
    "n2"
   ]
  },
  {
   "cell_type": "code",
   "execution_count": null,
   "metadata": {
    "id": "EgjFkvZC-1Ih"
   },
   "outputs": [],
   "source": [
    "pd.concat([n1,n2], axis=1)"
   ]
  },
  {
   "cell_type": "markdown",
   "metadata": {
    "id": "wZeeZ6Tg-1Ih"
   },
   "source": [
    "## Masking\n",
    "\n",
    "With \"masking\", we are taking two data sets and overlaying one ontop of the other.  If the first has values, then those will be kept.  If the first has a blank (NaN), then the underlying value from the next data set will be shown."
   ]
  },
  {
   "cell_type": "code",
   "execution_count": null,
   "metadata": {
    "id": "z8VXClsu-1Ih"
   },
   "outputs": [],
   "source": [
    "nppes1 = pd.read_csv('https://hds5210-data.s3.amazonaws.com/nppes1.csv')\n",
    "nppes2 = pd.read_csv('https://hds5210-data.s3.amazonaws.com/nppes2.csv')\n",
    "nppes1.set_index('NPI', inplace=True)\n",
    "nppes2.set_index('NPI', inplace=True)"
   ]
  },
  {
   "cell_type": "code",
   "execution_count": null,
   "metadata": {},
   "outputs": [],
   "source": [
    "nppes2.head()"
   ]
  },
  {
   "cell_type": "code",
   "execution_count": null,
   "metadata": {
    "id": "5P6zQ2az-1Ii"
   },
   "outputs": [],
   "source": [
    "nppes1['State'].count()\n"
   ]
  },
  {
   "cell_type": "code",
   "execution_count": null,
   "metadata": {
    "id": "SEhWFWRX-1Ii"
   },
   "outputs": [],
   "source": [
    "len(nppes1)"
   ]
  },
  {
   "cell_type": "code",
   "execution_count": null,
   "metadata": {
    "id": "Nxb2cTxz-1Ii"
   },
   "outputs": [],
   "source": [
    "len(nppes2)"
   ]
  },
  {
   "cell_type": "code",
   "execution_count": null,
   "metadata": {
    "id": "Ip9cmT5j-1Ii"
   },
   "outputs": [],
   "source": [
    "nppes2"
   ]
  },
  {
   "cell_type": "code",
   "execution_count": null,
   "metadata": {
    "id": "dnrE14bg-1Ii"
   },
   "outputs": [],
   "source": [
    "nppes1[pd.isnull(nppes1['State'])]"
   ]
  },
  {
   "cell_type": "code",
   "execution_count": null,
   "metadata": {
    "id": "xjNVck3d-1Ii"
   },
   "outputs": [],
   "source": [
    "combined = nppes1.combine_first(nppes2)"
   ]
  },
  {
   "cell_type": "code",
   "execution_count": null,
   "metadata": {
    "id": "Gm9whIZk-1Ip"
   },
   "outputs": [],
   "source": [
    "combined['State'].count()"
   ]
  },
  {
   "cell_type": "code",
   "execution_count": null,
   "metadata": {
    "id": "dVb3aOwM-1Ip"
   },
   "outputs": [],
   "source": [
    "len(nppes1)"
   ]
  },
  {
   "cell_type": "code",
   "execution_count": null,
   "metadata": {
    "id": "7jh1Howk-1Ip"
   },
   "outputs": [],
   "source": [
    "combined.loc[1225590060]"
   ]
  },
  {
   "cell_type": "code",
   "execution_count": null,
   "metadata": {
    "id": "YGkt6ojv-1Ip"
   },
   "outputs": [],
   "source": [
    "nppes1.loc[1225590060]"
   ]
  }
 ],
 "metadata": {
  "colab": {
   "include_colab_link": true,
   "provenance": []
  },
  "kernelspec": {
   "display_name": "Python 3 (ipykernel)",
   "language": "python",
   "name": "python3"
  }
 },
 "nbformat": 4,
 "nbformat_minor": 0
}
