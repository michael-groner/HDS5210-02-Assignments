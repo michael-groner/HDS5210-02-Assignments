{
 "cells": [
  {
   "cell_type": "markdown",
   "metadata": {},
   "source": [
    "# Week 07 - In class notebook"
   ]
  },
  {
   "cell_type": "markdown",
   "metadata": {},
   "source": [
    "## Request library"
   ]
  },
  {
   "cell_type": "markdown",
   "metadata": {},
   "source": [
    "Retrieve file from the internet"
   ]
  },
  {
   "cell_type": "code",
   "execution_count": null,
   "metadata": {},
   "outputs": [
    {
     "name": "stderr",
     "output_type": "stream",
     "text": [
      "/Users/michaelgroner/Library/Python/3.9/lib/python/site-packages/urllib3/__init__.py:35: NotOpenSSLWarning: urllib3 v2 only supports OpenSSL 1.1.1+, currently the 'ssl' module is compiled with 'LibreSSL 2.8.3'. See: https://github.com/urllib3/urllib3/issues/3020\n",
      "  warnings.warn(\n"
     ]
    }
   ],
   "source": [
    "import requests\n",
    "\n",
    "# The following url points to the data set we discussed in class\n",
    "url = \"https://download.medicaid.gov/data/nadac-national-average-drug-acquisition-cost-10-02-2024.csv\"\n",
    "\n",
    "results = requests.get(url)\n",
    "if results.status_code == 200:\n",
    "    print(results.text)"
   ]
  },
  {
   "cell_type": "markdown",
   "metadata": {},
   "source": []
  },
  {
   "cell_type": "markdown",
   "metadata": {},
   "source": [
    "# Midterm Review"
   ]
  },
  {
   "cell_type": "markdown",
   "metadata": {},
   "source": [
    "## Set up test files for example below"
   ]
  },
  {
   "cell_type": "code",
   "execution_count": null,
   "metadata": {},
   "outputs": [],
   "source": [
    "import json\n",
    "import pickle\n",
    "\n",
    "with open(\"hello.txt\", \"w\") as f:\n",
    "    f.write(\"Hello World from a text file\")\n",
    "\n",
    "with open(\"sample_patient_data.csv\", \"w\") as f:\n",
    "    f.write(\"Patient ID,Name,Age,Condition,Admission Date\\n1001,John Doe,45,Hypertension,2023-09-01\\n1002,Jane Smith,34,Diabetes,2023-09-03\\n1003,Alice Johnson,29,Asthma,2023-09-05\\n1004,Robert Brown,67,COPD,2023-09-07\\n1005,Maria Garcia,53,Hypertension,2023-09-10\")\n",
    "\n",
    "with open(\"sample_patient_data.psv\", \"w\") as f:\n",
    "    f.write(\"Patient ID|Name|Age|Condition|Admission Date\\n1001|John Doe|45|Hypertension|2023-09-01\\n1002|Jane Smith|34|Diabetes|2023-09-03\\n1003|Alice Johnson|29|Asthma|2023-09-05\\n1004|Robert Brown|67|COPD|2023-09-07\\n1005|Maria Garcia|53|Hypertension|2023-09-10\")\n",
    "\n",
    "systems = []\n",
    "hospital1 = {\"Beds\":1432, \"Hospital\":\"BJC\", \"City\":\"St. Louis\"}\n",
    "hospital2 = {\"Beds\":1187, \"Hospital\":\"MOBap\", \"City\":\"Creve Coeur\"}\n",
    "systems.append({\"System\":\"BJC\", \"Hospitals\":[hospital1, hospital2]})\n",
    "hospital3 = {\"Beds\":965, \"Hospital\":\"SLUH\", \"City\":\"St. Louis\"}\n",
    "systems.append({\"System\":\"SSM\", \"Hospitals\":[hospital3]})\n",
    "hospital4 = {\"Beds\":983, \"Hospital\":\"Mercy STL\", \"City\":\"Creve Coeur\"}\n",
    "systems.append({\"System\":\"Mercy\", \"Hospitals\":[hospital4]})\n",
    "\n",
    "with open(\"hospitals.json\", \"w\") as json_file:\n",
    "    json.dump(systems, json_file, indent=4)\n",
    "\n",
    "data = b'\\x80\\x04\\x95\\xb6\\x0f\\x00\\x00\\x00\\x00\\x00\\x00X\\xaf\\x0f\\x00\\x00<?xml version=\"1.0\" encoding=\"UTF-8\"?>\\n\\n<Patient xmlns=\"http://hl7.org/fhir\">\\n  <id value=\"example\"/> \\n  <!--    MRN assigned by ACME healthcare on 6-May 2001    -->\\n  <identifier> \\n    <use value=\"usual\"/> \\n    <type> \\n      <coding> \\n        <system value=\"http://terminology.hl7.org/CodeSystem/v2-0203\"/> \\n        <code value=\"MR\"/> \\n      </coding> \\n    </type> \\n    <system value=\"urn:oid:1.2.36.146.595.217.0.1\"/> \\n    <value value=\"12345\"/> \\n    <period> \\n      <start value=\"2001-05-06\"/> \\n    </period> \\n    <assigner> \\n      <display value=\"Acme Healthcare\"/> \\n    </assigner> \\n  </identifier> \\n  <active value=\"true\"/> \\n  <!--    Peter James Chalmers, but called \"Jim\"    -->\\n  <name> \\n    <use value=\"official\"/> \\n    <family value=\"Chalmers\"/> \\n    <given value=\"Peter\"/> \\n    <given value=\"James\"/> \\n  </name> \\n  <name> \\n    <use value=\"usual\"/> \\n    <given value=\"Jim\"/> \\n  </name> \\n  <name> \\n    <!--   Maiden names apply for anyone whose name changes as a result of marriage - irrespective\\n     of gender   -->\\n    <use value=\"maiden\"/> \\n    <family value=\"Windsor\"/> \\n    <given value=\"Peter\"/> \\n    <given value=\"James\"/> \\n    <period> \\n      <end value=\"2002\"/> \\n    </period> \\n  </name> \\n  <!--    home communication details aren\\'t known    -->\\n  <telecom> \\n    <use value=\"home\"/> \\n  </telecom> \\n  <telecom> \\n    <system value=\"phone\"/> \\n    <value value=\"(03) 5555 6473\"/> \\n    <use value=\"work\"/> \\n    <rank value=\"1\"/> \\n  </telecom> \\n  <telecom> \\n    <system value=\"phone\"/> \\n    <value value=\"(03) 3410 5613\"/> \\n    <use value=\"mobile\"/> \\n    <rank value=\"2\"/> \\n  </telecom> \\n  <telecom> \\n    <system value=\"phone\"/> \\n    <value value=\"(03) 5555 8834\"/> \\n    <use value=\"old\"/> \\n    <period> \\n      <end value=\"2014\"/> \\n    </period> \\n  </telecom> \\n  <!--    use FHIR code system for male / female    -->\\n  <gender value=\"male\"/> \\n  <birthDate value=\"1974-12-25\">\\n    <extension url=\"http://hl7.org/fhir/StructureDefinition/patient-birthTime\">\\n      <valueDateTime value=\"1974-12-25T14:35:45-05:00\"/> \\n    </extension> \\n  </birthDate> \\n  <deceasedBoolean value=\"false\"/> \\n  <address> \\n    <use value=\"home\"/> \\n    <type value=\"both\"/> \\n    <text value=\"534 Erewhon St PeasantVille, Rainbow, Vic  3999\"/> \\n    <line value=\"534 Erewhon St\"/> \\n    <city value=\"PleasantVille\"/> \\n    <district value=\"Rainbow\"/> \\n    <state value=\"Vic\"/> \\n    <postalCode value=\"3999\"/> \\n    <period> \\n      <start value=\"1974-12-25\"/> \\n    </period> \\n  </address> \\n  <contact> \\n    <relationship> \\n      <coding> \\n        <system value=\"http://terminology.hl7.org/CodeSystem/v2-0131\"/> \\n        <code value=\"N\"/> \\n      </coding> \\n    </relationship> \\n    <name> \\n      <family value=\"du March\\xc3\\xa9\">\\n        <!--    the \"du\" part is a family name prefix (VV in iso 21090)    -->\\n        <extension url=\"http://hl7.org/fhir/StructureDefinition/humanname-own-prefix\">\\n          <valueString value=\"VV\"/> \\n        </extension> \\n      </family> \\n      <given value=\"B\\xc3\\xa9n\\xc3\\xa9dicte\"/> \\n    </name> \\n    <additionalName> \\n      <use value=\"nickname\"/> \\n      <given value=\"B\\xc3\\xa9n\\xc3\\xa9\"/> \\n    </additionalName> \\n    <telecom> \\n      <system value=\"phone\"/> \\n      <value value=\"+33 (237) 998327\"/> \\n    </telecom> \\n    <address> \\n      <use value=\"home\"/> \\n      <type value=\"both\"/> \\n      <line value=\"534 Erewhon St\"/> \\n      <city value=\"PleasantVille\"/> \\n      <district value=\"Rainbow\"/> \\n      <state value=\"Vic\"/> \\n      <postalCode value=\"3999\"/> \\n      <period> \\n        <start value=\"1974-12-25\"/> \\n      </period> \\n    </address> \\n    <additionalAddress> \\n      <use value=\"work\"/> \\n      <line value=\"123 Smart St\"/> \\n      <city value=\"PleasantVille\"/> \\n      <state value=\"Vic\"/> \\n      <postalCode value=\"3999\"/> \\n    </additionalAddress> \\n    <gender value=\"female\"/> \\n    <period> \\n      <!--    The contact relationship started in 2012    -->\\n      <start value=\"2012\"/> \\n    </period> \\n  </contact> \\n  <managingOrganization> \\n    <reference value=\"Organization/1\"/> \\n  </managingOrganization> \\n</Patient> \\x94.'\n",
    "with open(\"patient.xml\", \"w\") as f:\n",
    "    f.write(pickle.loads(data))\n",
    "\n",
    "\n"
   ]
  },
  {
   "cell_type": "markdown",
   "metadata": {},
   "source": [
    "## Variables and Types"
   ]
  },
  {
   "cell_type": "code",
   "execution_count": 2,
   "metadata": {},
   "outputs": [],
   "source": [
    "int1 = 1\n",
    "str1 = \"test string\"\n",
    "float1 = 3.14\n",
    "boolean1 = True\n",
    "none1 = None\n",
    "list1 = [ 1, 2, 3]\n",
    "dict1 = { \"a\": 1, \"b\": 2 }\n",
    "tuple1 = ( \"a\", \"b\", \"c\")\n",
    "set1 = {1, 2, 3}"
   ]
  },
  {
   "cell_type": "markdown",
   "metadata": {},
   "source": [
    "### Converting between types"
   ]
  },
  {
   "cell_type": "code",
   "execution_count": 3,
   "metadata": {},
   "outputs": [
    {
     "name": "stdout",
     "output_type": "stream",
     "text": [
      "16\n",
      "32\n"
     ]
    }
   ],
   "source": [
    "int1 = 16\n",
    "\n",
    "str1 = str(int1)\n",
    "print(str1)\n",
    "\n",
    "str2 = \"32\"\n",
    "int2 = int(str2)\n",
    "print( int2 )"
   ]
  },
  {
   "cell_type": "markdown",
   "metadata": {},
   "source": [
    "### Determining type when running"
   ]
  },
  {
   "cell_type": "code",
   "execution_count": 4,
   "metadata": {},
   "outputs": [
    {
     "name": "stdout",
     "output_type": "stream",
     "text": [
      "<class 'int'>\n",
      "<class 'str'>\n",
      "<class 'float'>\n",
      "<class 'bool'>\n",
      "<class 'NoneType'>\n",
      "<class 'list'>\n",
      "<class 'dict'>\n",
      "<class 'tuple'>\n",
      "<class 'set'>\n"
     ]
    }
   ],
   "source": [
    "print( type( int1 ))\n",
    "print( type( str1 ))\n",
    "print( type( float1 ))\n",
    "print( type( boolean1 ))\n",
    "print( type( none1 ))\n",
    "print( type( list1 ))\n",
    "print( type( dict1 ))\n",
    "print( type( tuple1 ))\n",
    "print( type( set1))\n",
    "\n"
   ]
  },
  {
   "cell_type": "markdown",
   "metadata": {},
   "source": [
    "## Printing"
   ]
  },
  {
   "cell_type": "code",
   "execution_count": 5,
   "metadata": {},
   "outputs": [
    {
     "name": "stdout",
     "output_type": "stream",
     "text": [
      "Hello World\n",
      "32\n",
      "My age is 40\n"
     ]
    }
   ],
   "source": [
    "print(\"Hello World\")\n",
    "\n",
    "int1 = 32\n",
    "print(int1)\n",
    "\n",
    "age = 40\n",
    "print(f\"My age is {age}\")"
   ]
  },
  {
   "cell_type": "markdown",
   "metadata": {},
   "source": [
    "### Convert string to upper or lower case"
   ]
  },
  {
   "cell_type": "code",
   "execution_count": 6,
   "metadata": {},
   "outputs": [
    {
     "name": "stdout",
     "output_type": "stream",
     "text": [
      "This is A Test Case\n",
      "THIS IS A TEST CASE\n",
      "this is a test case\n"
     ]
    }
   ],
   "source": [
    "str1 = \"This is A Test Case\"\n",
    "print(str1)\n",
    "print(str1.upper())\n",
    "print(str1.lower())"
   ]
  },
  {
   "cell_type": "markdown",
   "metadata": {},
   "source": [
    "## Logical operators for comparison"
   ]
  },
  {
   "cell_type": "code",
   "execution_count": 7,
   "metadata": {},
   "outputs": [
    {
     "name": "stdout",
     "output_type": "stream",
     "text": [
      "False\n",
      "True\n",
      "True\n"
     ]
    }
   ],
   "source": [
    "has_fever = True\n",
    "has_sore_throat = False\n",
    "has_body_aches = True\n",
    "\n",
    "print(has_fever and has_sore_throat)\n",
    "print(has_fever or has_sore_throat)\n",
    "print(has_fever and not has_sore_throat)\n",
    "\n"
   ]
  },
  {
   "cell_type": "markdown",
   "metadata": {},
   "source": [
    "## Conditionals"
   ]
  },
  {
   "cell_type": "code",
   "execution_count": 8,
   "metadata": {},
   "outputs": [
    {
     "name": "stdout",
     "output_type": "stream",
     "text": [
      "The patient is not well\n"
     ]
    }
   ],
   "source": [
    "has_fever = True\n",
    "has_sore_throat = False\n",
    "has_body_aches = False\n",
    "\n",
    "if( has_fever or has_sore_throat):\n",
    "    print(\"The patient is not well\")"
   ]
  },
  {
   "cell_type": "code",
   "execution_count": 9,
   "metadata": {},
   "outputs": [],
   "source": [
    "has_fever = True\n",
    "has_sore_throat = False\n",
    "has_body_aches = False\n",
    "\n",
    "if( has_fever and has_sore_throat):\n",
    "    print(\"The patient is very not well\")\n"
   ]
  },
  {
   "cell_type": "code",
   "execution_count": 10,
   "metadata": {},
   "outputs": [
    {
     "name": "stdout",
     "output_type": "stream",
     "text": [
      "The patient has a fever\n"
     ]
    }
   ],
   "source": [
    "has_fever = True\n",
    "has_sore_throat = False\n",
    "has_body_aches = False\n",
    "\n",
    "if( has_sore_throat ):\n",
    "    print(\"The patient has a sore throat\")\n",
    "elif( has_body_aches):\n",
    "    print(\"The patient has body aches\")\n",
    "elif( has_fever ):\n",
    "    print(\"The patient has a fever\")\n",
    "else:\n",
    "    print(\"The patient is well\")    "
   ]
  },
  {
   "cell_type": "markdown",
   "metadata": {},
   "source": [
    "## The \"in\" operator as a test of membership"
   ]
  },
  {
   "cell_type": "markdown",
   "metadata": {},
   "source": [
    "`in` can be used as a test of membership"
   ]
  },
  {
   "cell_type": "code",
   "execution_count": 11,
   "metadata": {},
   "outputs": [
    {
     "data": {
      "text/plain": [
       "True"
      ]
     },
     "execution_count": 11,
     "metadata": {},
     "output_type": "execute_result"
    }
   ],
   "source": [
    "list1 = [ 1, 2, 3, 4]\n",
    "\n",
    "2 in list1"
   ]
  },
  {
   "cell_type": "code",
   "execution_count": 12,
   "metadata": {},
   "outputs": [
    {
     "name": "stdout",
     "output_type": "stream",
     "text": [
      "Five is not in the list\n"
     ]
    }
   ],
   "source": [
    "list1 = [1, 2, 3, 4]\n",
    "\n",
    "if 5 in list1:\n",
    "    print(\"Five is in the list\")\n",
    "else:\n",
    "    print(\"Five is not in the list\")"
   ]
  },
  {
   "cell_type": "markdown",
   "metadata": {},
   "source": [
    "## `for` loops\n",
    "\n",
    "`for` loops run the same code for every element in a data structure\n",
    "\n",
    "Note: when `in` is used with `for` loops, it provides the loop each element of the data structure in succession"
   ]
  },
  {
   "cell_type": "code",
   "execution_count": 13,
   "metadata": {},
   "outputs": [
    {
     "name": "stdout",
     "output_type": "stream",
     "text": [
      "0\n",
      "1\n",
      "2\n",
      "3\n",
      "4\n",
      "5\n",
      "6\n",
      "7\n",
      "8\n",
      "9\n"
     ]
    }
   ],
   "source": [
    "for i in range(10):\n",
    "    print(i)"
   ]
  },
  {
   "cell_type": "markdown",
   "metadata": {},
   "source": [
    "## Using the CSV Reader module\n",
    "\n",
    " Collect list of patients using csv reader\n",
    "\n",
    "Note that the \"header line\" is included as the first element in the list\n",
    "- You might need to remove the header line from the list if that data isn't valuable"
   ]
  },
  {
   "cell_type": "code",
   "execution_count": 14,
   "metadata": {},
   "outputs": [
    {
     "data": {
      "text/plain": [
       "[['Patient ID', 'Name', 'Age', 'Condition', 'Admission Date'],\n",
       " ['1001', 'John Doe', '45', 'Hypertension', '2023-09-01'],\n",
       " ['1002', 'Jane Smith', '34', 'Diabetes', '2023-09-03'],\n",
       " ['1003', 'Alice Johnson', '29', 'Asthma', '2023-09-05'],\n",
       " ['1004', 'Robert Brown', '67', 'COPD', '2023-09-07'],\n",
       " ['1005', 'Maria Garcia', '53', 'Hypertension', '2023-09-10']]"
      ]
     },
     "execution_count": 14,
     "metadata": {},
     "output_type": "execute_result"
    }
   ],
   "source": [
    "import csv\n",
    "\n",
    "patients = []\n",
    "with open(\"sample_patient_data.csv\") as f:\n",
    "    csv_reader = csv.reader(f)\n",
    "    for row in csv_reader:\n",
    "        patients.append(row)\n",
    "\n",
    "patients"
   ]
  },
  {
   "cell_type": "markdown",
   "metadata": {},
   "source": [
    "## Read JSON file into memory\n",
    "\n",
    "The JSON module's `load()` command takes the file pointer to a JSON file and returns the memory structure to your variable"
   ]
  },
  {
   "cell_type": "code",
   "execution_count": 15,
   "metadata": {},
   "outputs": [
    {
     "data": {
      "text/plain": [
       "[{'System': 'BJC',\n",
       "  'Hospitals': [{'Beds': 1432, 'Hospital': 'BJC', 'City': 'St. Louis'},\n",
       "   {'Beds': 1187, 'Hospital': 'MOBap', 'City': 'Creve Coeur'}]},\n",
       " {'System': 'SSM',\n",
       "  'Hospitals': [{'Beds': 965, 'Hospital': 'SLUH', 'City': 'St. Louis'}]},\n",
       " {'System': 'Mercy',\n",
       "  'Hospitals': [{'Beds': 983,\n",
       "    'Hospital': 'Mercy STL',\n",
       "    'City': 'Creve Coeur'}]}]"
      ]
     },
     "execution_count": 15,
     "metadata": {},
     "output_type": "execute_result"
    }
   ],
   "source": [
    "import json\n",
    "\n",
    "with open(\"hospitals.json\") as f:\n",
    "    systems = json.load(f)\n",
    "\n",
    "systems"
   ]
  }
 ],
 "metadata": {
  "kernelspec": {
   "display_name": "Python 3",
   "language": "python",
   "name": "python3"
  },
  "language_info": {
   "codemirror_mode": {
    "name": "ipython",
    "version": 3
   },
   "file_extension": ".py",
   "mimetype": "text/x-python",
   "name": "python",
   "nbconvert_exporter": "python",
   "pygments_lexer": "ipython3",
   "version": "3.9.6"
  }
 },
 "nbformat": 4,
 "nbformat_minor": 2
}
