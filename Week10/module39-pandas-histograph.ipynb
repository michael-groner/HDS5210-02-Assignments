{
  "cells": [
    {
      "cell_type": "markdown",
      "source": [
        "# Run this first to download test data"
      ],
      "metadata": {
        "id": "2lOxtzI1Qre2"
      }
    },
    {
      "cell_type": "code",
      "source": [
        "import requests\n",
        "\n",
        "url = \"https://hds5210-data.s3.amazonaws.com/flu_2016_2017.csv\"\n",
        "filename = \"flu_2016_2017.csv\"\n",
        "\n",
        "response = requests.get(url)\n",
        "with open(filename, \"wb\") as file:\n",
        "  file.write(response.content)"
      ],
      "metadata": {
        "id": "iVJMDd2DQuZ_"
      },
      "execution_count": null,
      "outputs": []
    },
    {
      "cell_type": "markdown",
      "metadata": {
        "id": "YwkYigglQqZ7"
      },
      "source": [
        "Use `%matplotlib notebook` to make plots interactive"
      ]
    },
    {
      "cell_type": "code",
      "execution_count": null,
      "metadata": {
        "id": "QZaglXpKQqZ9"
      },
      "outputs": [],
      "source": [
        "%matplotlib inline"
      ]
    },
    {
      "cell_type": "markdown",
      "metadata": {
        "id": "fwuh72V6QqZ-"
      },
      "source": [
        "Plotting from pandas\n",
        "---"
      ]
    },
    {
      "cell_type": "code",
      "execution_count": null,
      "metadata": {
        "id": "-x7VYceYQqZ-"
      },
      "outputs": [],
      "source": [
        "import pandas as pd\n",
        "data = pd.read_csv('flu_2016_2017.csv', quotechar='\"')\n",
        "data.shape"
      ]
    },
    {
      "cell_type": "code",
      "execution_count": null,
      "metadata": {
        "id": "T-3w-IqvQqZ-"
      },
      "outputs": [],
      "source": [
        "data[0:2]"
      ]
    },
    {
      "cell_type": "code",
      "execution_count": null,
      "metadata": {
        "id": "4uWj-ofyQqZ_"
      },
      "outputs": [],
      "source": [
        "usa = data[\n",
        "    (data['Country'] == 'United States of America') &\n",
        "    (data['Year'] == 2016)\n",
        "]"
      ]
    },
    {
      "cell_type": "code",
      "execution_count": null,
      "metadata": {
        "id": "4xfJtwZHQqZ_"
      },
      "outputs": [],
      "source": [
        "usa[0:10]"
      ]
    },
    {
      "cell_type": "markdown",
      "metadata": {
        "id": "yFjowBSBQqZ_"
      },
      "source": [
        "---\n",
        "\n",
        "Histogram\n",
        "---\n",
        "\n",
        "Plot a histogram of the number of Influenza B cases per week"
      ]
    },
    {
      "cell_type": "code",
      "execution_count": null,
      "metadata": {
        "id": "EIpmarb9QqZ_"
      },
      "outputs": [],
      "source": [
        "usa['INF_B'].hist()"
      ]
    },
    {
      "cell_type": "code",
      "execution_count": null,
      "metadata": {
        "id": "N6ZS3vhuQqZ_"
      },
      "outputs": [],
      "source": [
        "usa['INF_B'].plot.kde()"
      ]
    },
    {
      "cell_type": "code",
      "execution_count": null,
      "metadata": {
        "id": "x6Y8SWAQQqZ_"
      },
      "outputs": [],
      "source": [
        "usa[['INF_B','INF_A','SPEC_RECEIVED_NB']].hist(bins=10)\n"
      ]
    },
    {
      "cell_type": "code",
      "execution_count": null,
      "metadata": {
        "id": "VE7UaBPbQqZ_"
      },
      "outputs": [],
      "source": [
        "import matplotlib.pyplot as plt\n",
        "\n",
        "usa_history = data[(data['Country'] == 'United States of America')]\n",
        "usa_history.groupby(['Year'])['INF_A'].plot.kde()\n",
        "plt.legend()"
      ]
    },
    {
      "cell_type": "code",
      "execution_count": null,
      "metadata": {
        "id": "dE7o1BRxQqZ_"
      },
      "outputs": [],
      "source": []
    },
    {
      "cell_type": "code",
      "execution_count": null,
      "metadata": {
        "id": "oLSIkNtGQqZ_"
      },
      "outputs": [],
      "source": []
    }
  ],
  "metadata": {
    "kernelspec": {
      "display_name": "Python 3",
      "language": "python",
      "name": "python3"
    },
    "language_info": {
      "codemirror_mode": {
        "name": "ipython",
        "version": 3
      },
      "file_extension": ".py",
      "mimetype": "text/x-python",
      "name": "python",
      "nbconvert_exporter": "python",
      "pygments_lexer": "ipython3",
      "version": "3.6.7"
    },
    "colab": {
      "provenance": []
    }
  },
  "nbformat": 4,
  "nbformat_minor": 0
}