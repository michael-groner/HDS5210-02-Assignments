{
  "cells": [
    {
      "cell_type": "markdown",
      "source": [
        "# Run this first to download test data"
      ],
      "metadata": {
        "id": "lXM0lo7sRRug"
      }
    },
    {
      "cell_type": "code",
      "source": [
        "import requests\n",
        "\n",
        "url = \"https://hds5210-data.s3.amazonaws.com/flu_2016_2017.csv\"\n",
        "filename = \"flu_2016_2017.csv\"\n",
        "\n",
        "response = requests.get(url)\n",
        "with open(filename, \"wb\") as file:\n",
        "  file.write(response.content)"
      ],
      "metadata": {
        "id": "aayBoiEwRVDI"
      },
      "execution_count": null,
      "outputs": []
    },
    {
      "cell_type": "markdown",
      "metadata": {
        "id": "sA0uQnCqRNsW"
      },
      "source": [
        "Use `%matplotlib notebook` to make plots interactive"
      ]
    },
    {
      "cell_type": "code",
      "execution_count": null,
      "metadata": {
        "id": "hyMWCDeCRNsb"
      },
      "outputs": [],
      "source": [
        "%matplotlib inline"
      ]
    },
    {
      "cell_type": "code",
      "execution_count": null,
      "metadata": {
        "id": "7KCObx6MRNsd"
      },
      "outputs": [],
      "source": [
        "import pandas as pd\n",
        "data = pd.read_csv('flu_2016_2017.csv', quotechar='\"')\n",
        "usa = data[(data['Country'] == 'United States of America') &\n",
        "           (data['Year'] == 2016)]\n",
        "usa.shape"
      ]
    },
    {
      "cell_type": "code",
      "execution_count": null,
      "metadata": {
        "id": "j3HIPFOmRNsd"
      },
      "outputs": [],
      "source": [
        "usa[0:10]"
      ]
    },
    {
      "cell_type": "markdown",
      "metadata": {
        "id": "1Qi8yefFRNsd"
      },
      "source": [
        "---\n",
        "\n",
        "Scatter Plot\n",
        "---\n",
        "\n",
        "Use a scatter plot to see if there are some possible relationship"
      ]
    },
    {
      "cell_type": "code",
      "execution_count": null,
      "metadata": {
        "id": "X5KRm8-QRNsd"
      },
      "outputs": [],
      "source": [
        "axes = usa.plot.scatter(x='SPEC_RECEIVED_NB', y='INF_A', color='DarkRed', label='Influeza A')\n",
        "axes.set_ylabel('Positive Cases')\n",
        "axes.set_xlabel('Specimens Received')"
      ]
    },
    {
      "cell_type": "code",
      "execution_count": null,
      "metadata": {
        "id": "ViN0VBntRNse"
      },
      "outputs": [],
      "source": [
        "axes = usa.plot.scatter(x='SPEC_RECEIVED_NB', y='INF_B', color='DarkBlue', label='Influeza B')\n",
        "axes.set_ylabel('Positive Cases')\n",
        "axes.set_xlabel('Specimens Received')"
      ]
    },
    {
      "cell_type": "code",
      "execution_count": null,
      "metadata": {
        "id": "XG4Xuui7RNse"
      },
      "outputs": [],
      "source": [
        "axes = usa.plot.scatter(x='SPEC_RECEIVED_NB', y='INF_A', color='DarkRed', label='Influeza A')\n",
        "axes = usa.plot.scatter(x='SPEC_RECEIVED_NB', y='INF_B', color='DarkBlue', label='Influenza B', ax=axes)\n",
        "axes.set_ylabel('Positive Cases')\n",
        "axes.set_xlabel('Specimens Received')"
      ]
    },
    {
      "cell_type": "code",
      "execution_count": null,
      "metadata": {
        "id": "Z0c7y14fRNse"
      },
      "outputs": [],
      "source": []
    },
    {
      "cell_type": "code",
      "execution_count": null,
      "metadata": {
        "id": "3qzEZyPGRNse"
      },
      "outputs": [],
      "source": [
        "import seaborn as sns\n",
        "\n",
        "ax = sns.regplot(data=usa, x='SPEC_RECEIVED_NB', y='INF_A', order=2, label='Flu A')\n",
        "sns.regplot(data=usa, x='SPEC_RECEIVED_NB', y='INF_B', label='Flu B', ax=ax)\n",
        "ax.legend()\n",
        "ax.set_ylabel('Positive Cases')\n",
        "ax.set_xlabel('Specimens Received')"
      ]
    },
    {
      "cell_type": "code",
      "execution_count": null,
      "metadata": {
        "id": "cE6aP8-IRNse"
      },
      "outputs": [],
      "source": [
        "import seaborn as sns\n",
        "ax = sns.jointplot(data=usa, x='SPEC_RECEIVED_NB', y='INF_B')\n"
      ]
    },
    {
      "cell_type": "markdown",
      "metadata": {
        "id": "WB5ESF9zRNse"
      },
      "source": [
        "---\n",
        "\n",
        "See if there are always a similar ratio of type A to type B cases of influenza"
      ]
    },
    {
      "cell_type": "code",
      "execution_count": null,
      "metadata": {
        "id": "eX83fyurRNse"
      },
      "outputs": [],
      "source": [
        "ax = usa.plot.scatter(x='INF_A', y='INF_B')"
      ]
    },
    {
      "cell_type": "code",
      "execution_count": null,
      "metadata": {
        "id": "xAirb0JnRNsf"
      },
      "outputs": [],
      "source": []
    }
  ],
  "metadata": {
    "kernelspec": {
      "display_name": "Python 3",
      "language": "python",
      "name": "python3"
    },
    "language_info": {
      "codemirror_mode": {
        "name": "ipython",
        "version": 3
      },
      "file_extension": ".py",
      "mimetype": "text/x-python",
      "name": "python",
      "nbconvert_exporter": "python",
      "pygments_lexer": "ipython3",
      "version": "3.6.7"
    },
    "colab": {
      "provenance": []
    }
  },
  "nbformat": 4,
  "nbformat_minor": 0
}