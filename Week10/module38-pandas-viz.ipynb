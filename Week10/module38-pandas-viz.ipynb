{
  "cells": [
    {
      "cell_type": "markdown",
      "source": [
        "# Run this first to download test data"
      ],
      "metadata": {
        "id": "dVZ1FFvnPPJY"
      }
    },
    {
      "cell_type": "code",
      "source": [
        "import requests\n",
        "\n",
        "url = \"https://hds5210-data.s3.amazonaws.com/flu_2016_2017.csv\"\n",
        "filename = \"flu_2016_2017.csv\"\n",
        "\n",
        "response = requests.get(url)\n",
        "with open(filename, \"wb\") as file:\n",
        "  file.write(response.content)\n",
        "\n",
        "url = \"https://hds5210-data.s3.amazonaws.com/hhcaps.csv\"\n",
        "filename = \"hhcaps.csv\"\n",
        "\n",
        "response = requests.get(url)\n",
        "with open(filename, \"wb\") as file:\n",
        "  file.write(response.content)"
      ],
      "metadata": {
        "id": "lVUHKIUsPS9c"
      },
      "execution_count": null,
      "outputs": []
    },
    {
      "cell_type": "markdown",
      "metadata": {
        "id": "zNprvs5nPGmd"
      },
      "source": [
        "### Books on Business Graphics\n",
        "\n",
        "Wall Street Journal Guide to Information Graphics by Dona Wong\n",
        "\n",
        "https://www.amazon.com/Street-Journal-Guide-Information-Graphics/dp/0393347281\n",
        "\n",
        "---\n",
        "\n",
        "* Exploratory plots with pandas\n",
        "  * Histograms\n",
        "  * Scatter Plots\n",
        "  \n",
        "* Descriptive and presentable plots with matplotlib\n",
        "  * Multiple plots per figure\n",
        "  * Adjusting axes and formatting\n",
        "\n",
        "---"
      ]
    },
    {
      "cell_type": "markdown",
      "metadata": {
        "id": "73-PJR3ePGme"
      },
      "source": [
        "Use `%matplotlib notebook` to make plots interactive"
      ]
    },
    {
      "cell_type": "code",
      "execution_count": null,
      "metadata": {
        "id": "xuLGdqWBPGme"
      },
      "outputs": [],
      "source": [
        "%matplotlib inline"
      ]
    },
    {
      "cell_type": "markdown",
      "metadata": {
        "id": "VGI-jFNkPGme"
      },
      "source": [
        "Plotting from pandas\n",
        "---"
      ]
    },
    {
      "cell_type": "code",
      "execution_count": null,
      "metadata": {
        "id": "a5Cow3nRPGme"
      },
      "outputs": [],
      "source": [
        "import pandas as pd\n",
        "data = pd.read_csv('flu_2016_2017.csv', quotechar='\"')\n",
        "usa = data[(data['Country'] == 'United States of America') &\n",
        "           (data['Year'] == 2016)]\n",
        "usa.shape"
      ]
    },
    {
      "cell_type": "code",
      "execution_count": null,
      "metadata": {
        "id": "8jbU0NwWPGme"
      },
      "outputs": [],
      "source": [
        "data[0:2]"
      ]
    },
    {
      "cell_type": "code",
      "execution_count": null,
      "metadata": {
        "id": "W5wc9At6PGme"
      },
      "outputs": [],
      "source": [
        "usa.dtypes"
      ]
    },
    {
      "cell_type": "code",
      "execution_count": null,
      "metadata": {
        "id": "hyr2MieKPGmf"
      },
      "outputs": [],
      "source": [
        "usa[0:1]"
      ]
    },
    {
      "cell_type": "code",
      "execution_count": null,
      "metadata": {
        "id": "bhvRGNuZPGmf"
      },
      "outputs": [],
      "source": []
    },
    {
      "cell_type": "code",
      "execution_count": null,
      "metadata": {
        "id": "lAtIrUN8PGmf"
      },
      "outputs": [],
      "source": [
        "country_filter = data['Country'] == 'United States of America'"
      ]
    },
    {
      "cell_type": "code",
      "execution_count": null,
      "metadata": {
        "id": "xOwHAuYVPGmf"
      },
      "outputs": [],
      "source": [
        "country_filter.head()"
      ]
    },
    {
      "cell_type": "code",
      "execution_count": null,
      "metadata": {
        "id": "fImQt5SkPGmf"
      },
      "outputs": [],
      "source": [
        "data[country_filter].head()"
      ]
    },
    {
      "cell_type": "code",
      "execution_count": null,
      "metadata": {
        "id": "SEz8jPr_PGmf"
      },
      "outputs": [],
      "source": [
        "filter_year = data['Year'] == 2016"
      ]
    },
    {
      "cell_type": "code",
      "execution_count": null,
      "metadata": {
        "id": "ZWid8KY5PGmf"
      },
      "outputs": [],
      "source": [
        "filter_year.head()"
      ]
    },
    {
      "cell_type": "code",
      "execution_count": null,
      "metadata": {
        "id": "2t-NA3X4PGmf"
      },
      "outputs": [],
      "source": [
        "(filter_year | country_filter).head()"
      ]
    },
    {
      "cell_type": "code",
      "execution_count": null,
      "metadata": {
        "id": "F9DZ2lW2PGmg"
      },
      "outputs": [],
      "source": [
        "filter_big = data['SPEC_RECEIVED_NB'] > 21000"
      ]
    },
    {
      "cell_type": "code",
      "execution_count": null,
      "metadata": {
        "id": "SXVbhT4BPGmg"
      },
      "outputs": [],
      "source": [
        "data[(filter_year & country_filter & filter_big)]"
      ]
    },
    {
      "cell_type": "code",
      "execution_count": null,
      "metadata": {
        "id": "6nlMZ9XmPGmg"
      },
      "outputs": [],
      "source": [
        "data.query('Country == \"United States of America\" & Year == 2016 & SPEC_RECEIVED_NB > 22000')"
      ]
    },
    {
      "cell_type": "markdown",
      "metadata": {
        "id": "UT2b0CDOPGmg"
      },
      "source": [
        "---\n",
        "\n",
        "Histogram\n",
        "---\n",
        "\n",
        "Plot a histogram of the number of Influenza B cases per week"
      ]
    },
    {
      "cell_type": "code",
      "execution_count": null,
      "metadata": {
        "id": "0u3NGXWAPGmg"
      },
      "outputs": [],
      "source": [
        "usa"
      ]
    },
    {
      "cell_type": "code",
      "execution_count": null,
      "metadata": {
        "id": "3_lcreN2PGmg"
      },
      "outputs": [],
      "source": [
        "usa['INF_B'].hist()"
      ]
    },
    {
      "cell_type": "code",
      "execution_count": null,
      "metadata": {
        "id": "uF1KUgF7PGmg"
      },
      "outputs": [],
      "source": [
        "usa[['INF_B','INF_A','SPEC_RECEIVED_NB']].hist(bins=5)\n"
      ]
    },
    {
      "cell_type": "markdown",
      "metadata": {
        "id": "ECxzYol4PGmg"
      },
      "source": [
        "---\n",
        "\n",
        "Line Plot (default)\n",
        "---\n",
        "\n",
        "Plot the number of cases by week"
      ]
    },
    {
      "cell_type": "code",
      "execution_count": null,
      "metadata": {
        "id": "gO37Rfu9PGmh"
      },
      "outputs": [],
      "source": [
        "import seaborn as sns\n",
        "usa.plot(x='SDATE', y=['INF_B','INF_A','SPEC_RECEIVED_NB','SPEC_PROCESSED_NB', 'ALL_INF'])"
      ]
    },
    {
      "cell_type": "code",
      "execution_count": null,
      "metadata": {
        "id": "1ieHrFYyPGmh"
      },
      "outputs": [],
      "source": [
        "usa[0:10].plot(x='SDATE', y=['INF_B','INF_A','SPEC_RECEIVED_NB','SPEC_PROCESSED_NB'])"
      ]
    },
    {
      "cell_type": "markdown",
      "metadata": {
        "id": "G59tEugmPGmh"
      },
      "source": [
        "---\n",
        "\n",
        "Scatter Plot\n",
        "---\n",
        "\n",
        "Use a scatter plot to see if there are some possible relationship"
      ]
    },
    {
      "cell_type": "code",
      "execution_count": null,
      "metadata": {
        "id": "1fpZ0EIGPGmh"
      },
      "outputs": [],
      "source": []
    },
    {
      "cell_type": "code",
      "execution_count": null,
      "metadata": {
        "id": "e0vKbKM3PGmh"
      },
      "outputs": [],
      "source": [
        "axes = usa.plot.scatter(x='SPEC_RECEIVED_NB', y='INF_A', color='DarkRed', label='Influeza A')\n",
        "axes = usa.plot.scatter(x='SPEC_RECEIVED_NB', y='INF_B', color='DarkBlue', label='Influenza B', ax=axes)\n",
        "axes = usa.plot.scatter(x='SPEC_RECEIVED_NB', y='ALL_INF', color='LightGreen', label='All Flu', ax=axes)\n",
        "\n",
        "axes.set_ylabel('Positive Cases')\n",
        "axes.set_xlabel('Specimens Received')"
      ]
    },
    {
      "cell_type": "code",
      "execution_count": null,
      "metadata": {
        "id": "KvVh2v9wPGmh"
      },
      "outputs": [],
      "source": [
        "import seaborn as sns\n",
        "ax = sns.regplot(data=usa, x='SPEC_RECEIVED_NB', y='INF_A', order=2, label='Flu A')\n",
        "sns.regplot(data=usa, x='SPEC_RECEIVED_NB', y='INF_B', label='Flu B', ax=ax)\n",
        "ax.legend()\n",
        "ax.set_ylabel('Positive Cases')\n",
        "ax.set_xlabel('Specimens Received')"
      ]
    },
    {
      "cell_type": "code",
      "execution_count": null,
      "metadata": {
        "id": "iVX3kQCRPGmh"
      },
      "outputs": [],
      "source": [
        "import seaborn as sns\n",
        "ax = sns.jointplot(data=usa, x='SPEC_RECEIVED_NB', y='INF_B')\n"
      ]
    },
    {
      "cell_type": "markdown",
      "metadata": {
        "id": "kUAVHSj6PGmh"
      },
      "source": [
        "---\n",
        "\n",
        "See if there are always a similar ratio of type A to type B cases of influenza"
      ]
    },
    {
      "cell_type": "code",
      "execution_count": null,
      "metadata": {
        "id": "VlOuXLPmPGmh"
      },
      "outputs": [],
      "source": [
        "ax = usa.plot.scatter(x='INF_A', y='INF_B')"
      ]
    },
    {
      "cell_type": "markdown",
      "metadata": {
        "id": "7iHNDFlGPGmh"
      },
      "source": [
        "Other Examples\n",
        "==="
      ]
    },
    {
      "cell_type": "markdown",
      "metadata": {
        "id": "3-fiAADiPGmh"
      },
      "source": [
        "Plot by State\n",
        "---"
      ]
    },
    {
      "cell_type": "code",
      "execution_count": null,
      "metadata": {
        "id": "bc-zvXAyPGmh"
      },
      "outputs": [],
      "source": [
        "%matplotlib inline"
      ]
    },
    {
      "cell_type": "code",
      "execution_count": null,
      "metadata": {
        "id": "skphG3NzPGmh"
      },
      "outputs": [],
      "source": [
        "import pandas as pd\n",
        "import matplotlib.pyplot as plt\n",
        "\n",
        "d = pd.read_csv('hhcaps.csv', quotechar='\"')\n",
        "d.replace(to_replace='Not Available', value=0, inplace=True)\n",
        "d = d[d['State'].isin(['CA','IL','WY'])]\n",
        "by_state = d.groupby('State')"
      ]
    },
    {
      "cell_type": "code",
      "execution_count": null,
      "metadata": {
        "id": "g0218G9ZPGmh"
      },
      "outputs": [],
      "source": [
        "d.head()"
      ]
    },
    {
      "cell_type": "code",
      "execution_count": null,
      "metadata": {
        "id": "ythuIXSaPGmh"
      },
      "outputs": [],
      "source": [
        "import matplotlib.pyplot as plt\n",
        "\n",
        "fig, ax = plt.subplots()\n",
        "ax.margins(0.05) # Optional, just adds 5% padding to the autoscaling\n",
        "\n",
        "for name, group in by_state:\n",
        "    recommend = group['Percent of patients who reported YES, they would definitely recommend the home health agency to friends and family'].astype(float)\n",
        "    professional = group['Percent of patients who reported that their home health team gave care in a professional way'].astype(float)\n",
        "    ax.plot(recommend, professional, marker='o', linestyle='', ms=5, alpha=0.5, label=name)\n",
        "ax.legend()\n",
        "\n",
        "plt.show()"
      ]
    },
    {
      "cell_type": "markdown",
      "metadata": {
        "id": "FGqMs4QBPGmh"
      },
      "source": [
        "Time Series Plots\n",
        "---"
      ]
    },
    {
      "cell_type": "code",
      "execution_count": null,
      "metadata": {
        "id": "EBZhWlSpPGmi"
      },
      "outputs": [],
      "source": [
        "%matplotlib inline\n",
        "import numpy as np\n",
        "import matplotlib.pyplot as plt\n",
        "import seaborn as sns\n",
        "import pandas as pd\n",
        "\n",
        "\n",
        "d = pd.read_csv('hhcaps.csv', quotechar='\"')\n",
        "d = d[d['Percent of patients who reported YES, they would definitely recommend the home health agency to friends and family'] != 'Not Available']\n",
        "#d.replace(to_replace='Not Available', value=0, inplace=True)\n"
      ]
    },
    {
      "cell_type": "code",
      "execution_count": null,
      "metadata": {
        "id": "zf4cCTxXPGmi"
      },
      "outputs": [],
      "source": [
        "d.dtypes"
      ]
    },
    {
      "cell_type": "code",
      "execution_count": null,
      "metadata": {
        "id": "mMAJl1v4PGmi"
      },
      "outputs": [],
      "source": [
        "d['Date Certified'].head()"
      ]
    },
    {
      "cell_type": "code",
      "execution_count": null,
      "metadata": {
        "id": "cGopToUpPGmi"
      },
      "outputs": [],
      "source": [
        "data = pd.DataFrame()\n",
        "data['Year Certified'] = pd.to_datetime(d['Date Certified'].str[0:4] + '-01-01', format='%Y-%m-%d')\n",
        "data['Percent Recommend'] = d['Percent of patients who reported YES, they would definitely recommend the home health agency to friends and family'].astype(float)\n",
        "\n",
        "\n",
        "g = data.groupby(['Year Certified']).mean().plot(style='-')\n",
        "g.set_ylim(0,100)\n",
        "g"
      ]
    },
    {
      "cell_type": "code",
      "execution_count": null,
      "metadata": {
        "scrolled": true,
        "id": "Qmq96bx2PGmi"
      },
      "outputs": [],
      "source": [
        "data = pd.DataFrame()\n",
        "data['Date Certified'] = pd.to_datetime(d['Date Certified'].str[0:4] + '-01-01', format='%Y-%m-%d')\n",
        "data['Percent Recommend'] = d['Percent of patients who reported YES, they would definitely recommend the home health agency to friends and family'].astype(float)\n",
        "\n",
        "g = data.groupby(['Date Certified']).mean().plot(style='.', alpha=.1)\n",
        "g.set_ylim(0,100)"
      ]
    },
    {
      "cell_type": "code",
      "execution_count": null,
      "metadata": {
        "id": "ea6gYSuCPGmi"
      },
      "outputs": [],
      "source": [
        "recommend = pd.DataFrame()\n",
        "recommend['Date Certified'] = pd.to_datetime(d['Date Certified'].str[0:4] + '-01-01', format='%Y-%m-%d')\n",
        "recommend['Percent Recommend'] = d['Percent of patients who reported YES, they would definitely recommend the home health agency to friends and family'].astype(float)\n",
        "\n",
        "data = recommend.groupby(['Date Certified']).mean()\n",
        "\n",
        "ma = data.rolling(20).mean()\n",
        "\n",
        "mstd = data.rolling(20).std()\n",
        "\n",
        "plt.figure()\n",
        "\n",
        "plt.plot(data.index, data, 'k')\n",
        "\n",
        "plt.plot(ma.index, ma, 'b')\n",
        "\n",
        "#plt.fill_between(mstd.index, ma-2*mstd, ma+2*mstd, color='b', alpha=0.2)\n"
      ]
    },
    {
      "cell_type": "code",
      "execution_count": null,
      "metadata": {
        "id": "XX5z0XANPGmi"
      },
      "outputs": [],
      "source": []
    },
    {
      "cell_type": "code",
      "execution_count": null,
      "metadata": {
        "id": "8YvuDXqMPGmi"
      },
      "outputs": [],
      "source": []
    },
    {
      "cell_type": "code",
      "execution_count": null,
      "metadata": {
        "id": "mkyXK2zgPGmi"
      },
      "outputs": [],
      "source": []
    }
  ],
  "metadata": {
    "kernelspec": {
      "display_name": "Python 3",
      "language": "python",
      "name": "python3"
    },
    "language_info": {
      "codemirror_mode": {
        "name": "ipython",
        "version": 3
      },
      "file_extension": ".py",
      "mimetype": "text/x-python",
      "name": "python",
      "nbconvert_exporter": "python",
      "pygments_lexer": "ipython3",
      "version": "3.6.7"
    },
    "colab": {
      "provenance": []
    }
  },
  "nbformat": 4,
  "nbformat_minor": 0
}