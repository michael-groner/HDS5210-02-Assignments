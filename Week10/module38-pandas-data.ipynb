{
  "cells": [
    {
      "cell_type": "markdown",
      "source": [
        "# Run this first to download test data"
      ],
      "metadata": {
        "id": "0qWhVTIpOYaI"
      }
    },
    {
      "cell_type": "code",
      "execution_count": null,
      "metadata": {
        "id": "CKZgQTy6M6zw"
      },
      "outputs": [],
      "source": [
        "import requests\n",
        "\n",
        "url = \"https://hds5210-data.s3.amazonaws.com/visits.csv\"\n",
        "filename = \"visits.csv\"\n",
        "\n",
        "response = requests.get(url)\n",
        "with open(filename, \"wb\") as file:\n",
        "  file.write(response.content)\n",
        "\n",
        "url = \"https://hds5210-data.s3.amazonaws.com/negotiated_rates.json\"\n",
        "filename = \"negotiated_rates.json\"\n",
        "\n",
        "response = requests.get(url)\n",
        "with open(filename, \"wb\") as file:\n",
        "  file.write(response.content)"
      ]
    },
    {
      "cell_type": "markdown",
      "metadata": {
        "id": "bMYqBua1M6zx"
      },
      "source": [
        "# Creating Pandas dataframes"
      ]
    },
    {
      "cell_type": "code",
      "execution_count": null,
      "metadata": {
        "id": "CDMRp896M6zy"
      },
      "outputs": [],
      "source": [
        "import pandas as pd"
      ]
    },
    {
      "cell_type": "code",
      "execution_count": null,
      "metadata": {
        "id": "H9_5WizGM6zz"
      },
      "outputs": [],
      "source": [
        "names = [\n",
        "    ['Paul','Boal','E'],\n",
        "    ['Eric','Westhus','D'],\n",
        "    ['Bill','Jones','A']\n",
        "    ]"
      ]
    },
    {
      "cell_type": "code",
      "execution_count": null,
      "metadata": {
        "id": "8cpclaY-M6zz"
      },
      "outputs": [],
      "source": [
        "pd.DataFrame(names)"
      ]
    },
    {
      "cell_type": "code",
      "execution_count": null,
      "metadata": {
        "id": "__j7l6rOM6zz"
      },
      "outputs": [],
      "source": [
        "pd.DataFrame(names, columns=['first','last','middle'])"
      ]
    },
    {
      "cell_type": "code",
      "execution_count": null,
      "metadata": {
        "id": "oQ_oUfbgM6zz"
      },
      "outputs": [],
      "source": [
        "data = pd.DataFrame(names, columns=['first','last','middle'])"
      ]
    },
    {
      "cell_type": "code",
      "execution_count": null,
      "metadata": {
        "id": "Ny6idDxvM6zz"
      },
      "outputs": [],
      "source": [
        "data['first']"
      ]
    },
    {
      "cell_type": "code",
      "execution_count": null,
      "metadata": {
        "id": "4C78VIIBM6zz"
      },
      "outputs": [],
      "source": [
        "data.size"
      ]
    },
    {
      "cell_type": "code",
      "execution_count": null,
      "metadata": {
        "id": "iGY39dlVM6z0"
      },
      "outputs": [],
      "source": []
    },
    {
      "cell_type": "code",
      "execution_count": null,
      "metadata": {
        "id": "jIRz_Qj3M6z0"
      },
      "outputs": [],
      "source": [
        "first_names = ['Paul','Eric','Bill']\n",
        "middle_names = ['E','D','A']\n",
        "last_names = ['Boal','Westhus','Jones']"
      ]
    },
    {
      "cell_type": "code",
      "execution_count": null,
      "metadata": {
        "id": "VR7veV99M6z0"
      },
      "outputs": [],
      "source": [
        "list(zip(first_names, middle_names, last_names))"
      ]
    },
    {
      "cell_type": "code",
      "execution_count": null,
      "metadata": {
        "id": "TlOH6RpqM6z0"
      },
      "outputs": [],
      "source": [
        "pd.DataFrame(list(zip(first_names, middle_names, last_names)), columns=['first','middle','last'])"
      ]
    },
    {
      "cell_type": "code",
      "execution_count": null,
      "metadata": {
        "id": "HtuAPLm5M6z0"
      },
      "outputs": [],
      "source": []
    },
    {
      "cell_type": "code",
      "execution_count": null,
      "metadata": {
        "id": "NKiNeJczM6z0"
      },
      "outputs": [],
      "source": [
        "people = [\n",
        "    { 'first': 'Paul', 'last': 'Boal', 'middle': 'E' },\n",
        "    { 'first': 'Eric', 'last': 'Westhus', 'middle': 'D'},\n",
        "    { 'first': 'Bill', 'last': 'Jones', 'middle': 'A'}\n",
        "]"
      ]
    },
    {
      "cell_type": "code",
      "execution_count": null,
      "metadata": {
        "id": "XRrYGBk3M6z0"
      },
      "outputs": [],
      "source": [
        "pd.DataFrame(people)"
      ]
    },
    {
      "cell_type": "code",
      "execution_count": null,
      "metadata": {
        "id": "TceycQxdM6z0"
      },
      "outputs": [],
      "source": []
    },
    {
      "cell_type": "code",
      "execution_count": null,
      "metadata": {
        "id": "xfhrCMagM6z0"
      },
      "outputs": [],
      "source": [
        "people = [\n",
        "    { 'first': 'Paul', 'last': 'Boal', 'middle': 'E' },\n",
        "    { 'first': 'Eric', 'last': 'Westhus', 'middle': 'D'},\n",
        "    {  'last': 'Jones', 'first': 'Bill'}\n",
        "]"
      ]
    },
    {
      "cell_type": "code",
      "execution_count": null,
      "metadata": {
        "id": "EYgwvDqpM6z1"
      },
      "outputs": [],
      "source": [
        "pd.DataFrame(people)"
      ]
    },
    {
      "cell_type": "code",
      "execution_count": null,
      "metadata": {
        "id": "2Wu3QcgIM6z1"
      },
      "outputs": [],
      "source": [
        "import pandas as pd\n",
        "people = [\n",
        "    { 'first': 'Paul', 'last': 'Boal', 'middle': 'E' },\n",
        "    { 'first': 'Eric', 'last': 'Westhus', 'middle': 'D'},\n",
        "    { 'first': 'Bill', 'last': 'Jones', 'middle': 'A'},\n",
        "    { 'first': 'Walter', 'last': 'Cronkite'},\n",
        "    { 'first': 'Eddie', 'last': 'Murphy'},\n",
        "    { 'first': 'Cher'}\n",
        "]\n",
        "pd.DataFrame(people)"
      ]
    },
    {
      "cell_type": "code",
      "execution_count": null,
      "metadata": {
        "id": "mlW58PmjM6z1"
      },
      "outputs": [],
      "source": [
        "visits = pd.read_csv('visits.csv')"
      ]
    },
    {
      "cell_type": "code",
      "execution_count": null,
      "metadata": {
        "id": "LHdTymyjM6z1"
      },
      "outputs": [],
      "source": [
        "visits"
      ]
    },
    {
      "cell_type": "code",
      "execution_count": null,
      "metadata": {
        "id": "xPiZne7JM6z1"
      },
      "outputs": [],
      "source": [
        "len(visits)"
      ]
    },
    {
      "cell_type": "code",
      "execution_count": null,
      "metadata": {
        "id": "itz_lMvvM6z1"
      },
      "outputs": [],
      "source": [
        "visits.shape"
      ]
    },
    {
      "cell_type": "code",
      "execution_count": null,
      "metadata": {
        "id": "e-80uCPlM6z1"
      },
      "outputs": [],
      "source": [
        "visits['PATIENT_AGE'].mean()"
      ]
    },
    {
      "cell_type": "code",
      "execution_count": null,
      "metadata": {
        "id": "P4DilZorM6z1"
      },
      "outputs": [],
      "source": [
        "visits.dtypes"
      ]
    },
    {
      "cell_type": "code",
      "execution_count": null,
      "metadata": {
        "id": "B1sF-pGDM6z1"
      },
      "outputs": [],
      "source": [
        "pd.read_json('negotiated_rates.json')"
      ]
    },
    {
      "cell_type": "code",
      "execution_count": null,
      "metadata": {
        "id": "-chxUSCsM6z1"
      },
      "outputs": [],
      "source": [
        "dfs = pd.read_html('https://en.wikipedia.org/wiki/List_of_cities_proper_by_population_density')"
      ]
    },
    {
      "cell_type": "code",
      "execution_count": null,
      "metadata": {
        "id": "iYikH2EBM6z1"
      },
      "outputs": [],
      "source": [
        "len(dfs)"
      ]
    },
    {
      "cell_type": "code",
      "execution_count": null,
      "metadata": {
        "id": "qaO-YbkTM6z2"
      },
      "outputs": [],
      "source": [
        "dfs[0]"
      ]
    },
    {
      "cell_type": "code",
      "execution_count": null,
      "metadata": {
        "id": "xDi9bsM1M6z2"
      },
      "outputs": [],
      "source": [
        "dfs[1]"
      ]
    },
    {
      "cell_type": "code",
      "execution_count": null,
      "metadata": {
        "id": "SU9hpPwcM6z2"
      },
      "outputs": [],
      "source": [
        "dfs[2]"
      ]
    },
    {
      "cell_type": "code",
      "execution_count": null,
      "metadata": {
        "id": "-gx2eI2-M6z2"
      },
      "outputs": [],
      "source": []
    }
  ],
  "metadata": {
    "kernelspec": {
      "display_name": "Python 3",
      "language": "python",
      "name": "python3"
    },
    "language_info": {
      "codemirror_mode": {
        "name": "ipython",
        "version": 3
      },
      "file_extension": ".py",
      "mimetype": "text/x-python",
      "name": "python",
      "nbconvert_exporter": "python",
      "pygments_lexer": "ipython3",
      "version": "3.6.7"
    },
    "colab": {
      "provenance": []
    }
  },
  "nbformat": 4,
  "nbformat_minor": 0
}