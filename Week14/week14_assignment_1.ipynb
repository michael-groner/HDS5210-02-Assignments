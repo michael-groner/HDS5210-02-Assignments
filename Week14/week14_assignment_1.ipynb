{
 "cells": [
  {
   "cell_type": "markdown",
   "metadata": {
    "nbgrader": {
     "grade": false,
     "grade_id": "cell-fc1c39d0d6f8b82a",
     "locked": true,
     "schema_version": 1,
     "solution": false
    }
   },
   "source": [
    "# Week 14 Review Assignmnet\n",
    "\n",
    "For the questions below, we're going to refer exclusively to an HHCAPS survey data set that is available in `/data/hhcaps.csv`.  Use whatever commands you want to calculate the information required to get to the answer.  Then, enter your answer in the answers cell as usual.\n",
    "\n",
    "**NOTE: Enter your answers as string values (inside quotation marks \"\") even if the answer is actually numeric.**\n",
    "\n",
    "---\n",
    "---\n"
   ]
  },
  {
   "cell_type": "code",
   "execution_count": 38,
   "metadata": {
    "nbgrader": {
     "grade": false,
     "grade_id": "intro",
     "locked": true,
     "schema_version": 1,
     "solution": false
    }
   },
   "outputs": [],
   "source": [
    "%matplotlib inline\n",
    "import pandas as pd\n",
    "\n",
    "hhcaps = pd.read_csv('https://hds5210-data.s3.amazonaws.com/hhcaps.csv')"
   ]
  },
  {
   "cell_type": "markdown",
   "metadata": {
    "nbgrader": {
     "grade": false,
     "grade_id": "q01-intro",
     "locked": true,
     "schema_version": 1,
     "solution": false
    }
   },
   "source": [
    "## #01 - \n",
    "\n",
    "How many columns does this file contain?"
   ]
  },
  {
   "cell_type": "code",
   "execution_count": 39,
   "metadata": {},
   "outputs": [],
   "source": [
    "# Write some code to figure it out\n",
    "column_count = len(hhcaps.columns)"
   ]
  },
  {
   "cell_type": "code",
   "execution_count": 40,
   "metadata": {},
   "outputs": [
    {
     "data": {
      "text/plain": [
       "39"
      ]
     },
     "execution_count": 40,
     "metadata": {},
     "output_type": "execute_result"
    }
   ],
   "source": [
    "column_count"
   ]
  },
  {
   "cell_type": "code",
   "execution_count": 41,
   "metadata": {},
   "outputs": [],
   "source": [
    "from numpy import int64"
   ]
  },
  {
   "cell_type": "code",
   "execution_count": 42,
   "metadata": {},
   "outputs": [],
   "source": [
    "column_count = int64(column_count)"
   ]
  },
  {
   "cell_type": "code",
   "execution_count": 43,
   "metadata": {
    "nbgrader": {
     "grade": false,
     "grade_id": "q01-solution",
     "locked": false,
     "schema_version": 1,
     "solution": true
    }
   },
   "outputs": [],
   "source": [
    "answers={}\n",
    "answers['40.1'] = column_count"
   ]
  },
  {
   "cell_type": "markdown",
   "metadata": {
    "nbgrader": {
     "grade": false,
     "grade_id": "q02-intro",
     "locked": true,
     "schema_version": 1,
     "solution": false
    }
   },
   "source": [
    "## #02 - \n",
    "\n",
    "How many different values for State are there in this file?"
   ]
  },
  {
   "cell_type": "code",
   "execution_count": 44,
   "metadata": {},
   "outputs": [],
   "source": [
    "# Write some code to figure it out"
   ]
  },
  {
   "cell_type": "code",
   "execution_count": 45,
   "metadata": {
    "nbgrader": {
     "grade": false,
     "grade_id": "q02-solution",
     "locked": false,
     "schema_version": 1,
     "solution": true
    }
   },
   "outputs": [],
   "source": [
    "answers['40.2'] = \"00\""
   ]
  },
  {
   "cell_type": "markdown",
   "metadata": {
    "nbgrader": {
     "grade": false,
     "grade_id": "q03-intro",
     "locked": true,
     "schema_version": 1,
     "solution": false
    }
   },
   "source": [
    "## #03 - \n",
    "\n",
    "Which of those State values has the highest frequency of occurence?"
   ]
  },
  {
   "cell_type": "code",
   "execution_count": 46,
   "metadata": {},
   "outputs": [
    {
     "data": {
      "text/html": [
       "<div>\n",
       "<style scoped>\n",
       "    .dataframe tbody tr th:only-of-type {\n",
       "        vertical-align: middle;\n",
       "    }\n",
       "\n",
       "    .dataframe tbody tr th {\n",
       "        vertical-align: top;\n",
       "    }\n",
       "\n",
       "    .dataframe thead th {\n",
       "        text-align: right;\n",
       "    }\n",
       "</style>\n",
       "<table border=\"1\" class=\"dataframe\">\n",
       "  <thead>\n",
       "    <tr style=\"text-align: right;\">\n",
       "      <th></th>\n",
       "      <th>State</th>\n",
       "      <th>CMS Certification Number (CCN)*</th>\n",
       "      <th>Provider Name</th>\n",
       "      <th>Address</th>\n",
       "      <th>City</th>\n",
       "      <th>Zip</th>\n",
       "      <th>Phone</th>\n",
       "      <th>Type of Ownership</th>\n",
       "      <th>Offers Nursing Care Services</th>\n",
       "      <th>Offers Physical Therapy Services</th>\n",
       "      <th>...</th>\n",
       "      <th>Star Rating for how patients rated overall care from agency</th>\n",
       "      <th>Footnote for Star Rating for overall care from agency</th>\n",
       "      <th>Percent of patients who gave their home health agency a rating of 9 or 10 on a scale from 0 (lowest) to 10 (highest)</th>\n",
       "      <th>Footnote for percent of patients who gave their home health agency a rating of 9 or 10 on a scale from 0 (lowest) to 10 (highest)</th>\n",
       "      <th>Percent of patients who reported YES, they would definitely recommend the home health agency to friends and family</th>\n",
       "      <th>Footnote for percent of patients who reported YES, they would definitely recommend the home health agency to friends and family</th>\n",
       "      <th>Number of completed Surveys</th>\n",
       "      <th>Footnote for number of completed surveys</th>\n",
       "      <th>Response rate</th>\n",
       "      <th>Footnote for response rate</th>\n",
       "    </tr>\n",
       "  </thead>\n",
       "  <tbody>\n",
       "    <tr>\n",
       "      <th>0</th>\n",
       "      <td>AL</td>\n",
       "      <td>17000</td>\n",
       "      <td>BUREAU OF HOME &amp; COMMUNITY SERVICES           ...</td>\n",
       "      <td>201 MONROE STREET, THE RSA TOWER,  SUITE 1200 ...</td>\n",
       "      <td>MONTGOMERY</td>\n",
       "      <td>36104</td>\n",
       "      <td>3342065341</td>\n",
       "      <td>Official Health Agency</td>\n",
       "      <td>True</td>\n",
       "      <td>True</td>\n",
       "      <td>...</td>\n",
       "      <td>NaN</td>\n",
       "      <td>No survey results are available for this period.</td>\n",
       "      <td>Not Available</td>\n",
       "      <td>No survey results are available for this period.</td>\n",
       "      <td>Not Available</td>\n",
       "      <td>No survey results are available for this period.</td>\n",
       "      <td>Not Available</td>\n",
       "      <td>No survey results are available for this period.</td>\n",
       "      <td>Not Available</td>\n",
       "      <td>No survey results are available for this period.</td>\n",
       "    </tr>\n",
       "    <tr>\n",
       "      <th>1</th>\n",
       "      <td>AL</td>\n",
       "      <td>17008</td>\n",
       "      <td>JEFFERSON COUNTY HOME CARE                    ...</td>\n",
       "      <td>2201 ARLINGTON AVENUE                         ...</td>\n",
       "      <td>BESSEMER</td>\n",
       "      <td>35020</td>\n",
       "      <td>2059169500</td>\n",
       "      <td>Official Health Agency</td>\n",
       "      <td>True</td>\n",
       "      <td>True</td>\n",
       "      <td>...</td>\n",
       "      <td>4.0</td>\n",
       "      <td>Fewer than 100 patients completed the survey. ...</td>\n",
       "      <td>91</td>\n",
       "      <td>Fewer than 100 patients completed the survey. ...</td>\n",
       "      <td>77</td>\n",
       "      <td>Fewer than 100 patients completed the survey. ...</td>\n",
       "      <td>55</td>\n",
       "      <td>Fewer than 100 patients completed the survey. ...</td>\n",
       "      <td>23</td>\n",
       "      <td>Fewer than 100 patients completed the survey. ...</td>\n",
       "    </tr>\n",
       "    <tr>\n",
       "      <th>2</th>\n",
       "      <td>AL</td>\n",
       "      <td>17009</td>\n",
       "      <td>ALACARE HOME HEALTH &amp; HOSPICE                 ...</td>\n",
       "      <td>2970 LORNA ROAD                               ...</td>\n",
       "      <td>BIRMINGHAM</td>\n",
       "      <td>35216</td>\n",
       "      <td>2058242680</td>\n",
       "      <td>Local</td>\n",
       "      <td>True</td>\n",
       "      <td>True</td>\n",
       "      <td>...</td>\n",
       "      <td>4.0</td>\n",
       "      <td>NaN</td>\n",
       "      <td>88</td>\n",
       "      <td>NaN</td>\n",
       "      <td>81</td>\n",
       "      <td>NaN</td>\n",
       "      <td>327</td>\n",
       "      <td>NaN</td>\n",
       "      <td>32</td>\n",
       "      <td>NaN</td>\n",
       "    </tr>\n",
       "    <tr>\n",
       "      <th>3</th>\n",
       "      <td>AL</td>\n",
       "      <td>17013</td>\n",
       "      <td>GENTIVA HEALTH SERVICES                       ...</td>\n",
       "      <td>1239 RUCKER BLVD                              ...</td>\n",
       "      <td>ENTERPRISE</td>\n",
       "      <td>36330</td>\n",
       "      <td>3343470234</td>\n",
       "      <td>Official Health Agency</td>\n",
       "      <td>True</td>\n",
       "      <td>True</td>\n",
       "      <td>...</td>\n",
       "      <td>4.0</td>\n",
       "      <td>NaN</td>\n",
       "      <td>91</td>\n",
       "      <td>NaN</td>\n",
       "      <td>91</td>\n",
       "      <td>NaN</td>\n",
       "      <td>252</td>\n",
       "      <td>NaN</td>\n",
       "      <td>34</td>\n",
       "      <td>NaN</td>\n",
       "    </tr>\n",
       "    <tr>\n",
       "      <th>4</th>\n",
       "      <td>AL</td>\n",
       "      <td>17014</td>\n",
       "      <td>AMEDISYS HOME HEALTH                          ...</td>\n",
       "      <td>68278 MAIN STREET                             ...</td>\n",
       "      <td>BLOUNTSVILLE</td>\n",
       "      <td>35031</td>\n",
       "      <td>2054294919</td>\n",
       "      <td>Local</td>\n",
       "      <td>True</td>\n",
       "      <td>True</td>\n",
       "      <td>...</td>\n",
       "      <td>4.0</td>\n",
       "      <td>NaN</td>\n",
       "      <td>88</td>\n",
       "      <td>NaN</td>\n",
       "      <td>79</td>\n",
       "      <td>NaN</td>\n",
       "      <td>205</td>\n",
       "      <td>NaN</td>\n",
       "      <td>34</td>\n",
       "      <td>NaN</td>\n",
       "    </tr>\n",
       "    <tr>\n",
       "      <th>...</th>\n",
       "      <td>...</td>\n",
       "      <td>...</td>\n",
       "      <td>...</td>\n",
       "      <td>...</td>\n",
       "      <td>...</td>\n",
       "      <td>...</td>\n",
       "      <td>...</td>\n",
       "      <td>...</td>\n",
       "      <td>...</td>\n",
       "      <td>...</td>\n",
       "      <td>...</td>\n",
       "      <td>...</td>\n",
       "      <td>...</td>\n",
       "      <td>...</td>\n",
       "      <td>...</td>\n",
       "      <td>...</td>\n",
       "      <td>...</td>\n",
       "      <td>...</td>\n",
       "      <td>...</td>\n",
       "      <td>...</td>\n",
       "      <td>...</td>\n",
       "    </tr>\n",
       "    <tr>\n",
       "      <th>11995</th>\n",
       "      <td>TX</td>\n",
       "      <td>747978</td>\n",
       "      <td>EXECUTIVE HOME HEALTH LLC                     ...</td>\n",
       "      <td>860 WEST PRICE RD SUITE B                     ...</td>\n",
       "      <td>BROWNSVILLE</td>\n",
       "      <td>78520</td>\n",
       "      <td>9564650557</td>\n",
       "      <td>Local</td>\n",
       "      <td>True</td>\n",
       "      <td>True</td>\n",
       "      <td>...</td>\n",
       "      <td>NaN</td>\n",
       "      <td>No survey results are available for this period.</td>\n",
       "      <td>Not Available</td>\n",
       "      <td>No survey results are available for this period.</td>\n",
       "      <td>Not Available</td>\n",
       "      <td>No survey results are available for this period.</td>\n",
       "      <td>Not Available</td>\n",
       "      <td>No survey results are available for this period.</td>\n",
       "      <td>Not Available</td>\n",
       "      <td>No survey results are available for this period.</td>\n",
       "    </tr>\n",
       "    <tr>\n",
       "      <th>11996</th>\n",
       "      <td>TX</td>\n",
       "      <td>747979</td>\n",
       "      <td>A1 ULTRA HOMECARE                             ...</td>\n",
       "      <td>20031 PARK RANCH                              ...</td>\n",
       "      <td>SAN ANTONIO</td>\n",
       "      <td>78259</td>\n",
       "      <td>2107452250</td>\n",
       "      <td>Local</td>\n",
       "      <td>True</td>\n",
       "      <td>True</td>\n",
       "      <td>...</td>\n",
       "      <td>NaN</td>\n",
       "      <td>No survey results are available for this period.</td>\n",
       "      <td>Not Available</td>\n",
       "      <td>No survey results are available for this period.</td>\n",
       "      <td>Not Available</td>\n",
       "      <td>No survey results are available for this period.</td>\n",
       "      <td>Not Available</td>\n",
       "      <td>No survey results are available for this period.</td>\n",
       "      <td>Not Available</td>\n",
       "      <td>No survey results are available for this period.</td>\n",
       "    </tr>\n",
       "    <tr>\n",
       "      <th>11997</th>\n",
       "      <td>TX</td>\n",
       "      <td>747980</td>\n",
       "      <td>SUNSHINE THERAPY &amp; NURSING SERVICES           ...</td>\n",
       "      <td>4609 SAN DARIO AVENUE SUITE 9                 ...</td>\n",
       "      <td>LAREDO</td>\n",
       "      <td>78041</td>\n",
       "      <td>9567236600</td>\n",
       "      <td>Local</td>\n",
       "      <td>True</td>\n",
       "      <td>True</td>\n",
       "      <td>...</td>\n",
       "      <td>NaN</td>\n",
       "      <td>No survey results are available for this period.</td>\n",
       "      <td>Not Available</td>\n",
       "      <td>No survey results are available for this period.</td>\n",
       "      <td>Not Available</td>\n",
       "      <td>No survey results are available for this period.</td>\n",
       "      <td>Not Available</td>\n",
       "      <td>No survey results are available for this period.</td>\n",
       "      <td>Not Available</td>\n",
       "      <td>No survey results are available for this period.</td>\n",
       "    </tr>\n",
       "    <tr>\n",
       "      <th>11998</th>\n",
       "      <td>TX</td>\n",
       "      <td>747981</td>\n",
       "      <td>CMB HEALTHCARE, INCORPORATED                  ...</td>\n",
       "      <td>1400 8TH STREET SUITE 6B                      ...</td>\n",
       "      <td>BAY CITY</td>\n",
       "      <td>77414</td>\n",
       "      <td>8323875358</td>\n",
       "      <td>Local</td>\n",
       "      <td>True</td>\n",
       "      <td>True</td>\n",
       "      <td>...</td>\n",
       "      <td>NaN</td>\n",
       "      <td>No survey results are available for this period.</td>\n",
       "      <td>Not Available</td>\n",
       "      <td>No survey results are available for this period.</td>\n",
       "      <td>Not Available</td>\n",
       "      <td>No survey results are available for this period.</td>\n",
       "      <td>Not Available</td>\n",
       "      <td>No survey results are available for this period.</td>\n",
       "      <td>Not Available</td>\n",
       "      <td>No survey results are available for this period.</td>\n",
       "    </tr>\n",
       "    <tr>\n",
       "      <th>11999</th>\n",
       "      <td>TX</td>\n",
       "      <td>747982</td>\n",
       "      <td>LILY HOME HEALTH INC                          ...</td>\n",
       "      <td>234 MEYER STREET SUITE P                      ...</td>\n",
       "      <td>SEALY</td>\n",
       "      <td>77474</td>\n",
       "      <td>9792534938</td>\n",
       "      <td>Local</td>\n",
       "      <td>True</td>\n",
       "      <td>True</td>\n",
       "      <td>...</td>\n",
       "      <td>NaN</td>\n",
       "      <td>No survey results are available for this period.</td>\n",
       "      <td>Not Available</td>\n",
       "      <td>No survey results are available for this period.</td>\n",
       "      <td>Not Available</td>\n",
       "      <td>No survey results are available for this period.</td>\n",
       "      <td>Not Available</td>\n",
       "      <td>No survey results are available for this period.</td>\n",
       "      <td>Not Available</td>\n",
       "      <td>No survey results are available for this period.</td>\n",
       "    </tr>\n",
       "  </tbody>\n",
       "</table>\n",
       "<p>12000 rows × 39 columns</p>\n",
       "</div>"
      ],
      "text/plain": [
       "      State  CMS Certification Number (CCN)*  \\\n",
       "0        AL                            17000   \n",
       "1        AL                            17008   \n",
       "2        AL                            17009   \n",
       "3        AL                            17013   \n",
       "4        AL                            17014   \n",
       "...     ...                              ...   \n",
       "11995    TX                           747978   \n",
       "11996    TX                           747979   \n",
       "11997    TX                           747980   \n",
       "11998    TX                           747981   \n",
       "11999    TX                           747982   \n",
       "\n",
       "                                           Provider Name  \\\n",
       "0      BUREAU OF HOME & COMMUNITY SERVICES           ...   \n",
       "1      JEFFERSON COUNTY HOME CARE                    ...   \n",
       "2      ALACARE HOME HEALTH & HOSPICE                 ...   \n",
       "3      GENTIVA HEALTH SERVICES                       ...   \n",
       "4      AMEDISYS HOME HEALTH                          ...   \n",
       "...                                                  ...   \n",
       "11995  EXECUTIVE HOME HEALTH LLC                     ...   \n",
       "11996  A1 ULTRA HOMECARE                             ...   \n",
       "11997  SUNSHINE THERAPY & NURSING SERVICES           ...   \n",
       "11998  CMB HEALTHCARE, INCORPORATED                  ...   \n",
       "11999  LILY HOME HEALTH INC                          ...   \n",
       "\n",
       "                                                 Address  \\\n",
       "0      201 MONROE STREET, THE RSA TOWER,  SUITE 1200 ...   \n",
       "1      2201 ARLINGTON AVENUE                         ...   \n",
       "2      2970 LORNA ROAD                               ...   \n",
       "3      1239 RUCKER BLVD                              ...   \n",
       "4      68278 MAIN STREET                             ...   \n",
       "...                                                  ...   \n",
       "11995  860 WEST PRICE RD SUITE B                     ...   \n",
       "11996  20031 PARK RANCH                              ...   \n",
       "11997  4609 SAN DARIO AVENUE SUITE 9                 ...   \n",
       "11998  1400 8TH STREET SUITE 6B                      ...   \n",
       "11999  234 MEYER STREET SUITE P                      ...   \n",
       "\n",
       "                       City    Zip       Phone       Type of Ownership  \\\n",
       "0      MONTGOMERY            36104  3342065341  Official Health Agency   \n",
       "1      BESSEMER              35020  2059169500  Official Health Agency   \n",
       "2      BIRMINGHAM            35216  2058242680                   Local   \n",
       "3      ENTERPRISE            36330  3343470234  Official Health Agency   \n",
       "4      BLOUNTSVILLE          35031  2054294919                   Local   \n",
       "...                     ...    ...         ...                     ...   \n",
       "11995  BROWNSVILLE           78520  9564650557                   Local   \n",
       "11996  SAN ANTONIO           78259  2107452250                   Local   \n",
       "11997  LAREDO                78041  9567236600                   Local   \n",
       "11998  BAY CITY              77414  8323875358                   Local   \n",
       "11999  SEALY                 77474  9792534938                   Local   \n",
       "\n",
       "       Offers Nursing Care Services  Offers Physical Therapy Services  ...  \\\n",
       "0                              True                              True  ...   \n",
       "1                              True                              True  ...   \n",
       "2                              True                              True  ...   \n",
       "3                              True                              True  ...   \n",
       "4                              True                              True  ...   \n",
       "...                             ...                               ...  ...   \n",
       "11995                          True                              True  ...   \n",
       "11996                          True                              True  ...   \n",
       "11997                          True                              True  ...   \n",
       "11998                          True                              True  ...   \n",
       "11999                          True                              True  ...   \n",
       "\n",
       "       Star Rating for how patients rated overall care from agency  \\\n",
       "0                                                    NaN             \n",
       "1                                                    4.0             \n",
       "2                                                    4.0             \n",
       "3                                                    4.0             \n",
       "4                                                    4.0             \n",
       "...                                                  ...             \n",
       "11995                                                NaN             \n",
       "11996                                                NaN             \n",
       "11997                                                NaN             \n",
       "11998                                                NaN             \n",
       "11999                                                NaN             \n",
       "\n",
       "       Footnote for Star Rating for overall care from agency  \\\n",
       "0       No survey results are available for this period.       \n",
       "1      Fewer than 100 patients completed the survey. ...       \n",
       "2                                                    NaN       \n",
       "3                                                    NaN       \n",
       "4                                                    NaN       \n",
       "...                                                  ...       \n",
       "11995   No survey results are available for this period.       \n",
       "11996   No survey results are available for this period.       \n",
       "11997   No survey results are available for this period.       \n",
       "11998   No survey results are available for this period.       \n",
       "11999   No survey results are available for this period.       \n",
       "\n",
       "       Percent of patients who gave their home health agency a rating of 9 or 10 on a scale from 0 (lowest) to 10 (highest)  \\\n",
       "0                                          Not Available                                                                      \n",
       "1                                                     91                                                                      \n",
       "2                                                     88                                                                      \n",
       "3                                                     91                                                                      \n",
       "4                                                     88                                                                      \n",
       "...                                                  ...                                                                      \n",
       "11995                                      Not Available                                                                      \n",
       "11996                                      Not Available                                                                      \n",
       "11997                                      Not Available                                                                      \n",
       "11998                                      Not Available                                                                      \n",
       "11999                                      Not Available                                                                      \n",
       "\n",
       "       Footnote for percent of patients who gave their home health agency a rating of 9 or 10 on a scale from 0 (lowest) to 10 (highest)  \\\n",
       "0       No survey results are available for this period.                                                                                   \n",
       "1      Fewer than 100 patients completed the survey. ...                                                                                   \n",
       "2                                                    NaN                                                                                   \n",
       "3                                                    NaN                                                                                   \n",
       "4                                                    NaN                                                                                   \n",
       "...                                                  ...                                                                                   \n",
       "11995   No survey results are available for this period.                                                                                   \n",
       "11996   No survey results are available for this period.                                                                                   \n",
       "11997   No survey results are available for this period.                                                                                   \n",
       "11998   No survey results are available for this period.                                                                                   \n",
       "11999   No survey results are available for this period.                                                                                   \n",
       "\n",
       "      Percent of patients who reported YES, they would definitely recommend the home health agency to friends and family  \\\n",
       "0                                          Not Available                                                                   \n",
       "1                                                     77                                                                   \n",
       "2                                                     81                                                                   \n",
       "3                                                     91                                                                   \n",
       "4                                                     79                                                                   \n",
       "...                                                  ...                                                                   \n",
       "11995                                      Not Available                                                                   \n",
       "11996                                      Not Available                                                                   \n",
       "11997                                      Not Available                                                                   \n",
       "11998                                      Not Available                                                                   \n",
       "11999                                      Not Available                                                                   \n",
       "\n",
       "       Footnote for percent of patients who reported YES, they would definitely recommend the home health agency to friends and family  \\\n",
       "0       No survey results are available for this period.                                                                                 \n",
       "1      Fewer than 100 patients completed the survey. ...                                                                                 \n",
       "2                                                    NaN                                                                                 \n",
       "3                                                    NaN                                                                                 \n",
       "4                                                    NaN                                                                                 \n",
       "...                                                  ...                                                                                 \n",
       "11995   No survey results are available for this period.                                                                                 \n",
       "11996   No survey results are available for this period.                                                                                 \n",
       "11997   No survey results are available for this period.                                                                                 \n",
       "11998   No survey results are available for this period.                                                                                 \n",
       "11999   No survey results are available for this period.                                                                                 \n",
       "\n",
       "      Number of completed Surveys  \\\n",
       "0                   Not Available   \n",
       "1                              55   \n",
       "2                             327   \n",
       "3                             252   \n",
       "4                             205   \n",
       "...                           ...   \n",
       "11995               Not Available   \n",
       "11996               Not Available   \n",
       "11997               Not Available   \n",
       "11998               Not Available   \n",
       "11999               Not Available   \n",
       "\n",
       "                Footnote for number of completed surveys  Response rate  \\\n",
       "0       No survey results are available for this period.  Not Available   \n",
       "1      Fewer than 100 patients completed the survey. ...             23   \n",
       "2                                                    NaN             32   \n",
       "3                                                    NaN             34   \n",
       "4                                                    NaN             34   \n",
       "...                                                  ...            ...   \n",
       "11995   No survey results are available for this period.  Not Available   \n",
       "11996   No survey results are available for this period.  Not Available   \n",
       "11997   No survey results are available for this period.  Not Available   \n",
       "11998   No survey results are available for this period.  Not Available   \n",
       "11999   No survey results are available for this period.  Not Available   \n",
       "\n",
       "                              Footnote for response rate  \n",
       "0       No survey results are available for this period.  \n",
       "1      Fewer than 100 patients completed the survey. ...  \n",
       "2                                                    NaN  \n",
       "3                                                    NaN  \n",
       "4                                                    NaN  \n",
       "...                                                  ...  \n",
       "11995   No survey results are available for this period.  \n",
       "11996   No survey results are available for this period.  \n",
       "11997   No survey results are available for this period.  \n",
       "11998   No survey results are available for this period.  \n",
       "11999   No survey results are available for this period.  \n",
       "\n",
       "[12000 rows x 39 columns]"
      ]
     },
     "execution_count": 46,
     "metadata": {},
     "output_type": "execute_result"
    }
   ],
   "source": [
    "hhcaps"
   ]
  },
  {
   "cell_type": "code",
   "execution_count": 47,
   "metadata": {
    "nbgrader": {
     "grade": false,
     "grade_id": "q03-solution",
     "locked": false,
     "schema_version": 1,
     "solution": true
    }
   },
   "outputs": [],
   "source": [
    "# Write some code to figure it out"
   ]
  },
  {
   "cell_type": "code",
   "execution_count": 48,
   "metadata": {
    "nbgrader": {
     "grade": true,
     "grade_id": "q03-test",
     "locked": true,
     "points": 2,
     "schema_version": 1,
     "solution": false
    }
   },
   "outputs": [],
   "source": [
    "answers['40.3'] = \"XX\""
   ]
  },
  {
   "cell_type": "markdown",
   "metadata": {
    "nbgrader": {
     "grade": false,
     "grade_id": "q04-intro",
     "locked": true,
     "schema_version": 1,
     "solution": false
    }
   },
   "source": [
    "## #04 - \n",
    "\n",
    "Which of those State values has the best average performance on the `Star Rating for health team communicated well with them` score?"
   ]
  },
  {
   "cell_type": "code",
   "execution_count": 49,
   "metadata": {
    "nbgrader": {
     "grade": false,
     "grade_id": "q04-solution",
     "locked": false,
     "schema_version": 1,
     "solution": true
    }
   },
   "outputs": [],
   "source": [
    "# Write some code to figure it out"
   ]
  },
  {
   "cell_type": "code",
   "execution_count": 50,
   "metadata": {
    "nbgrader": {
     "grade": true,
     "grade_id": "q04-test",
     "locked": true,
     "points": 2,
     "schema_version": 1,
     "solution": false
    }
   },
   "outputs": [],
   "source": [
    "answers['40.4'] = \"XX\""
   ]
  },
  {
   "cell_type": "markdown",
   "metadata": {
    "nbgrader": {
     "grade": false,
     "grade_id": "q05-intro",
     "locked": true,
     "schema_version": 1,
     "solution": false
    }
   },
   "source": [
    "## #05 - \n",
    "\n",
    "What was the average score on `Star Rating for how patients rated overall care from agency` for providers listed as having a `Type of Ownership` of `Hospital Based Program`\n",
    "\n",
    "**NOTE: Enter your answer with two decimal precision: 0.00**"
   ]
  },
  {
   "cell_type": "code",
   "execution_count": 51,
   "metadata": {
    "nbgrader": {
     "grade": false,
     "grade_id": "q05-solution",
     "locked": false,
     "schema_version": 1,
     "solution": true
    }
   },
   "outputs": [],
   "source": [
    "# Write some code to figure it out"
   ]
  },
  {
   "cell_type": "code",
   "execution_count": 52,
   "metadata": {
    "nbgrader": {
     "grade": true,
     "grade_id": "q05-test",
     "locked": true,
     "points": 2,
     "schema_version": 1,
     "solution": false
    }
   },
   "outputs": [],
   "source": [
    "answers['40.5'] = \"0.00\""
   ]
  },
  {
   "cell_type": "markdown",
   "metadata": {},
   "source": [
    "---\n",
    "\n",
    "Checking Your Work\n",
    "---\n",
    "\n",
    "After completing your work above and running each cell, you can check your answers by running the code below. \n",
    "\n",
    "The easiest way to do this is to use the `Kernel` -> `Restart Kernel and Run All Cells` menu option. This option restarts Python and runs every cell from top to bottom until it encounters an exception of some kind.  It will stop after running the cell below and outputing a summary of how many answers you have correct or incorrect.\n"
   ]
  },
  {
   "cell_type": "code",
   "execution_count": 53,
   "metadata": {},
   "outputs": [
    {
     "name": "stdout",
     "output_type": "stream",
     "text": [
      "Collecting boto3\n",
      "  Downloading boto3-1.35.66-py3-none-any.whl.metadata (6.7 kB)\n",
      "Collecting botocore<1.36.0,>=1.35.66 (from boto3)\n",
      "  Downloading botocore-1.35.66-py3-none-any.whl.metadata (5.7 kB)\n",
      "Collecting jmespath<2.0.0,>=0.7.1 (from boto3)\n",
      "  Using cached jmespath-1.0.1-py3-none-any.whl.metadata (7.6 kB)\n",
      "Collecting s3transfer<0.11.0,>=0.10.0 (from boto3)\n",
      "  Downloading s3transfer-0.10.4-py3-none-any.whl.metadata (1.7 kB)\n",
      "Requirement already satisfied: python-dateutil<3.0.0,>=2.1 in ./myenv/lib/python3.13/site-packages (from botocore<1.36.0,>=1.35.66->boto3) (2.9.0.post0)\n",
      "Requirement already satisfied: urllib3!=2.2.0,<3,>=1.25.4 in ./myenv/lib/python3.13/site-packages (from botocore<1.36.0,>=1.35.66->boto3) (2.2.3)\n",
      "Requirement already satisfied: six>=1.5 in ./myenv/lib/python3.13/site-packages (from python-dateutil<3.0.0,>=2.1->botocore<1.36.0,>=1.35.66->boto3) (1.16.0)\n",
      "Downloading boto3-1.35.66-py3-none-any.whl (139 kB)\n",
      "Downloading botocore-1.35.66-py3-none-any.whl (12.9 MB)\n",
      "\u001b[2K   \u001b[38;2;114;156;31m━━━━━━━━━━━━━━━━━━━━━━━━━━━━━━━━━━━━━━━━\u001b[0m \u001b[32m12.9/12.9 MB\u001b[0m \u001b[31m43.1 MB/s\u001b[0m eta \u001b[36m0:00:00\u001b[0mMB/s\u001b[0m eta \u001b[36m0:00:01\u001b[0m\n",
      "\u001b[?25hDownloading jmespath-1.0.1-py3-none-any.whl (20 kB)\n",
      "Downloading s3transfer-0.10.4-py3-none-any.whl (83 kB)\n",
      "Installing collected packages: jmespath, botocore, s3transfer, boto3\n",
      "Successfully installed boto3-1.35.66 botocore-1.35.66 jmespath-1.0.1 s3transfer-0.10.4\n"
     ]
    },
    {
     "ename": "ModuleNotFoundError",
     "evalue": "No module named 'httpimport'",
     "output_type": "error",
     "traceback": [
      "\u001b[0;31m---------------------------------------------------------------------------\u001b[0m",
      "\u001b[0;31mModuleNotFoundError\u001b[0m                       Traceback (most recent call last)",
      "Cell \u001b[0;32mIn[53], line 2\u001b[0m\n\u001b[1;32m      1\u001b[0m get_ipython()\u001b[38;5;241m.\u001b[39msystem(\u001b[38;5;124m'\u001b[39m\u001b[38;5;124mpip install boto3\u001b[39m\u001b[38;5;124m'\u001b[39m)\n\u001b[0;32m----> 2\u001b[0m \u001b[38;5;28;01mimport\u001b[39;00m \u001b[38;5;21;01mhttpimport\u001b[39;00m\n\u001b[1;32m      3\u001b[0m \u001b[38;5;28;01mwith\u001b[39;00m httpimport\u001b[38;5;241m.\u001b[39mremote_repo(\u001b[38;5;124m'\u001b[39m\u001b[38;5;124mhttps://gist.githubusercontent.com/paulboal/f14bead2d24fcb9499f4de4607908824/raw/4c3c0e75ea1510bb090bada047372954160e64d4\u001b[39m\u001b[38;5;124m'\u001b[39m):\n\u001b[1;32m      4\u001b[0m     \u001b[38;5;28;01mimport\u001b[39;00m \u001b[38;5;21;01mchecker\u001b[39;00m\n",
      "\u001b[0;31mModuleNotFoundError\u001b[0m: No module named 'httpimport'"
     ]
    }
   ],
   "source": [
    "!pip install boto3\n",
    "import httpimport\n",
    "with httpimport.remote_repo('https://gist.githubusercontent.com/paulboal/f14bead2d24fcb9499f4de4607908824/raw/4c3c0e75ea1510bb090bada047372954160e64d4'):\n",
    "    import checker\n",
    "\n",
    "checker.check_hds5210(answers, 'week13')"
   ]
  },
  {
   "cell_type": "markdown",
   "metadata": {},
   "source": [
    "---\n",
    "\n",
    "## Check your work above\n",
    "\n",
    "If you didn't get them all correct, take a few minutes to think through those that aren't correct.\n",
    "\n",
    "\n",
    "## Submitting Your Work\n",
    "\n",
    "In order to submit your work, you'll need to save this notebook file back to GitHub.  To do that in Google Colab:\n",
    "1. File -> Save a Copy in GitHub\n",
    "2. Make sure your HDS5210 repository is selected\n",
    "3. Make sure the file name includes the week number like this: `week14/week14_assignment_1.ipynb`\n",
    "4. Add a commit message that means something\n",
    "\n",
    "**Be sure week names are lowercase and use a two digit week number!!**\n",
    "\n",
    "**Be sure you use the same file name provided by the instructor!!**\n",
    "\n"
   ]
  }
 ],
 "metadata": {
  "celltoolbar": "Create Assignment",
  "kernelspec": {
   "display_name": "Python 3 (ipykernel)",
   "language": "python",
   "name": "python3"
  },
  "language_info": {
   "codemirror_mode": {
    "name": "ipython",
    "version": 3
   },
   "file_extension": ".py",
   "mimetype": "text/x-python",
   "name": "python",
   "nbconvert_exporter": "python",
   "pygments_lexer": "ipython3",
   "version": "3.13.0"
  }
 },
 "nbformat": 4,
 "nbformat_minor": 2
}
