{
 "cells": [
  {
   "cell_type": "markdown",
   "metadata": {
    "colab_type": "text",
    "id": "view-in-github"
   },
   "source": [
    "<a href=\"https://colab.research.google.com/github/paulboal/hds5210-2023/blob/main/week13/module38-aggregation.ipynb\" target=\"_parent\"><img src=\"https://colab.research.google.com/assets/colab-badge.svg\" alt=\"Open In Colab\"/></a>"
   ]
  },
  {
   "cell_type": "code",
   "execution_count": null,
   "metadata": {
    "id": "9FsWl2PXbira"
   },
   "outputs": [],
   "source": [
    "import pandas as pd\n",
    "liver = pd.read_csv('https://hds5210-data.s3.amazonaws.com/indian_liver_patient.csv')"
   ]
  },
  {
   "cell_type": "code",
   "execution_count": null,
   "metadata": {
    "colab": {
     "base_uri": "https://localhost:8080/",
     "height": 226
    },
    "id": "CLJY3Z6obirb",
    "outputId": "23ae4b2d-9ed3-40d4-be0b-88bad4af1657"
   },
   "outputs": [],
   "source": [
    "liver.head()"
   ]
  },
  {
   "cell_type": "markdown",
   "metadata": {
    "id": "F3ezjKmDbirb"
   },
   "source": [
    "## Description\n",
    "\n",
    "This is a data set about people from India who were in a liver disease project.  There are several pieces of information about the individuals as well as a flag in the last column called `Dataset`.  In this column a `2` means the individual did **not** have liver disease.  A `1` indicates that the individual **did** have liver disease.\n",
    "\n",
    "We wan to run some basic statistics on the Age, Gender, and Total Bilirubin BY if they had liver disease or not\n",
    "\n",
    "The first step is to group by the Dataset column\n"
   ]
  },
  {
   "cell_type": "code",
   "execution_count": null,
   "metadata": {
    "id": "ce9DKR-Lbirb"
   },
   "outputs": [],
   "source": [
    "liver = liver.groupby('Dataset')"
   ]
  },
  {
   "cell_type": "code",
   "execution_count": null,
   "metadata": {
    "colab": {
     "base_uri": "https://localhost:8080/"
    },
    "id": "BPC1vIuMbirb",
    "outputId": "f12073db-1fb0-4c53-9318-a8e9049ada5e"
   },
   "outputs": [],
   "source": [
    "type(liver)"
   ]
  },
  {
   "cell_type": "markdown",
   "metadata": {
    "id": "8CgHIjzhbirc"
   },
   "source": [
    "Then we can calculate som metrics on a few columns..."
   ]
  },
  {
   "cell_type": "code",
   "execution_count": null,
   "metadata": {
    "colab": {
     "base_uri": "https://localhost:8080/"
    },
    "id": "pqhfZC4jbirc",
    "outputId": "3d1e4333-2c7d-4321-f882-55c98f76a20f"
   },
   "outputs": [],
   "source": [
    "liver[\"Age\"].mean()"
   ]
  },
  {
   "cell_type": "code",
   "execution_count": null,
   "metadata": {
    "colab": {
     "base_uri": "https://localhost:8080/",
     "height": 143
    },
    "id": "TA4LqyMlbirc",
    "outputId": "525aed01-d045-4ce8-b1d5-d9be08666e91"
   },
   "outputs": [],
   "source": [
    "liver[\"Age\"].agg(['min','max','mean','median','std','count'])"
   ]
  },
  {
   "cell_type": "code",
   "execution_count": null,
   "metadata": {
    "colab": {
     "base_uri": "https://localhost:8080/",
     "height": 499
    },
    "id": "guL-kqG4birc",
    "outputId": "ef0fdd50-f738-4a39-dbc8-112eabaeb59b"
   },
   "outputs": [],
   "source": [
    "liver[\"Age\"].hist()"
   ]
  },
  {
   "cell_type": "markdown",
   "metadata": {
    "id": "OzYlreD6birc"
   },
   "source": [
    "Let's look at Bilirubin measure, too..."
   ]
  },
  {
   "cell_type": "code",
   "execution_count": null,
   "metadata": {
    "colab": {
     "base_uri": "https://localhost:8080/",
     "height": 143
    },
    "id": "j7pkcGeSbirc",
    "outputId": "bf926a3d-09e9-478b-b048-9d92d2e207a9"
   },
   "outputs": [],
   "source": [
    "liver[\"Total_Bilirubin\"].agg(['min','max','mean','std','count'])"
   ]
  },
  {
   "cell_type": "code",
   "execution_count": null,
   "metadata": {
    "colab": {
     "base_uri": "https://localhost:8080/",
     "height": 175
    },
    "id": "jJ79Blnsbirc",
    "outputId": "ea459cbb-ac6c-4978-bd82-7a81f258bfa4"
   },
   "outputs": [],
   "source": [
    "liver.agg({'Total_Bilirubin': ['min','max','mean','std'], 'Direct_Bilirubin': ['mean','std']})"
   ]
  },
  {
   "cell_type": "code",
   "execution_count": null,
   "metadata": {
    "colab": {
     "base_uri": "https://localhost:8080/",
     "height": 499
    },
    "id": "ln8FzICObirc",
    "outputId": "71d25501-0aef-45e7-8503-dcd46811dbb5"
   },
   "outputs": [],
   "source": [
    "liver[\"Total_Bilirubin\"].hist()"
   ]
  },
  {
   "cell_type": "markdown",
   "metadata": {
    "id": "cu_3VoNpbirc"
   },
   "source": [
    "# Custom Aggregation Function\n",
    "\n",
    "It can also be handy to be able to create custom aggregation functions.  For our example, we're going to create a `percent_male` function that returns the percent of items in each group that are male."
   ]
  },
  {
   "cell_type": "code",
   "execution_count": null,
   "metadata": {
    "id": "IGpSmbO7birc"
   },
   "outputs": [],
   "source": [
    "def percent_male(series):\n",
    "    total = len(series)\n",
    "    male = sum(series == 'Male')\n",
    "    return male/total"
   ]
  },
  {
   "cell_type": "code",
   "execution_count": null,
   "metadata": {
    "colab": {
     "base_uri": "https://localhost:8080/",
     "height": 143
    },
    "id": "2Sd_09yzbirc",
    "outputId": "b94a46ff-71f9-407e-e240-258ebbfaeb93"
   },
   "outputs": [],
   "source": [
    "liver.agg({'Gender': percent_male})"
   ]
  },
  {
   "cell_type": "markdown",
   "metadata": {
    "id": "QZRFRNCYbirc"
   },
   "source": [
    "## Custom Aggregation with `apply`"
   ]
  },
  {
   "cell_type": "code",
   "execution_count": null,
   "metadata": {
    "id": "_LPAQxy0birc"
   },
   "outputs": [],
   "source": [
    "def percent_val(df, column='Gender', value='Male'):\n",
    "    # Compute the percent of rows where *column* is *value*\n",
    "    total = len(df)\n",
    "    part = sum(df[column].astype(str) == str(value))\n",
    "    #part = sum(df['Gender'] == 'Male')\n",
    "\n",
    "    # Return this is a single valued Series\n",
    "    return pd.Series([part/total], index=[str(value)+'%'])"
   ]
  },
  {
   "cell_type": "code",
   "execution_count": null,
   "metadata": {
    "colab": {
     "base_uri": "https://localhost:8080/",
     "height": 143
    },
    "id": "2jTGlXFKbirc",
    "outputId": "e67d35b1-62f5-4989-af61-cb5e1d1db601"
   },
   "outputs": [],
   "source": [
    "liver.apply(percent_val)"
   ]
  },
  {
   "cell_type": "code",
   "execution_count": null,
   "metadata": {
    "colab": {
     "base_uri": "https://localhost:8080/",
     "height": 143
    },
    "id": "tsumMQAzbird",
    "outputId": "9b932e28-1ebb-4d04-9e98-1c24cfa8df96"
   },
   "outputs": [],
   "source": [
    "liver.apply(percent_val, column='Gender', value='Female')"
   ]
  },
  {
   "cell_type": "code",
   "execution_count": null,
   "metadata": {
    "colab": {
     "base_uri": "https://localhost:8080/",
     "height": 143
    },
    "id": "4LuDIbtYbird",
    "outputId": "994d8345-5c96-47f5-b413-1da2eeb018ea"
   },
   "outputs": [],
   "source": [
    "liver.apply(percent_val, column='Age', value=62)"
   ]
  },
  {
   "cell_type": "code",
   "execution_count": null,
   "metadata": {
    "id": "p5tqVDEgbird"
   },
   "outputs": [],
   "source": []
  },
  {
   "cell_type": "code",
   "execution_count": null,
   "metadata": {
    "id": "_yph21cdbird"
   },
   "outputs": [],
   "source": [
    "def percent_range(df, column='Age', min_value=-1, max_value=999):\n",
    "    # Compute the percent of rows where *column* is *value*\n",
    "    total = len(df)\n",
    "    part = sum((df[column].astype(float) >= float(min_value)) & (df[column].astype(float) <= float(max_value)))\n",
    "\n",
    "    # Return this is a single valued Series\n",
    "    return pd.Series([part, part/total],\n",
    "                     index=[str(min_value)+' to '+str(max_value),str(min_value)+' to '+str(max_value)+'%'])"
   ]
  },
  {
   "cell_type": "code",
   "execution_count": null,
   "metadata": {
    "colab": {
     "base_uri": "https://localhost:8080/",
     "height": 143
    },
    "id": "aKvT49xnbird",
    "outputId": "e36044b0-e9dc-4e90-e5ef-7296274df35d"
   },
   "outputs": [],
   "source": [
    "liver.apply(percent_range, column='Age', min_value=0, max_value=18)"
   ]
  },
  {
   "cell_type": "code",
   "execution_count": null,
   "metadata": {
    "colab": {
     "base_uri": "https://localhost:8080/",
     "height": 143
    },
    "id": "wUNGTAUbbird",
    "outputId": "c747934e-8c36-4a97-b70d-523f25ec1683"
   },
   "outputs": [],
   "source": [
    "liver.apply(percent_range, column='Total_Bilirubin', min_value=0, max_value=10)"
   ]
  },
  {
   "cell_type": "code",
   "execution_count": null,
   "metadata": {
    "id": "bmGLx-m4bird"
   },
   "outputs": [],
   "source": []
  },
  {
   "cell_type": "code",
   "execution_count": null,
   "metadata": {
    "id": "bjg0lDhEbird"
   },
   "outputs": [],
   "source": [
    "liver = pd.read_csv('https://hds5210-data.s3.amazonaws.com/indian_liver_patient.csv')"
   ]
  },
  {
   "cell_type": "code",
   "execution_count": null,
   "metadata": {
    "colab": {
     "base_uri": "https://localhost:8080/",
     "height": 226
    },
    "id": "UX-QtMUre4iO",
    "outputId": "bde92be1-b77e-4bd4-e048-f5ea41d0ac7a"
   },
   "outputs": [],
   "source": [
    "liver.head()"
   ]
  },
  {
   "cell_type": "code",
   "execution_count": null,
   "metadata": {
    "colab": {
     "base_uri": "https://localhost:8080/",
     "height": 175
    },
    "id": "zxmHqcL-e5mO",
    "outputId": "68e4310e-d625-47c4-c126-b5bc4069760b"
   },
   "outputs": [],
   "source": [
    "liver.groupby('Gender').agg({\n",
    "    'Age': ['mean','min','max']\n",
    "})"
   ]
  },
  {
   "cell_type": "code",
   "execution_count": null,
   "metadata": {
    "colab": {
     "base_uri": "https://localhost:8080/",
     "height": 237
    },
    "id": "gLVnQaGXfM-U",
    "outputId": "37abc75a-2cde-44ee-cd6c-73cec590d8d9"
   },
   "outputs": [],
   "source": [
    "liver.groupby(['Dataset','Gender']).agg({\n",
    "    'Age': ['mean','min','max']\n",
    "})"
   ]
  },
  {
   "cell_type": "code",
   "execution_count": null,
   "metadata": {
    "id": "rSbuzPA9faiH"
   },
   "outputs": [],
   "source": []
  }
 ],
 "metadata": {
  "colab": {
   "include_colab_link": true,
   "provenance": []
  },
  "kernelspec": {
   "display_name": "Python 3 (ipykernel)",
   "language": "python",
   "name": "python3"
  },
  "language_info": {
   "codemirror_mode": {
    "name": "ipython",
    "version": 3
   },
   "file_extension": ".py",
   "mimetype": "text/x-python",
   "name": "python",
   "nbconvert_exporter": "python",
   "pygments_lexer": "ipython3",
   "version": "3.13.0"
  }
 },
 "nbformat": 4,
 "nbformat_minor": 0
}
