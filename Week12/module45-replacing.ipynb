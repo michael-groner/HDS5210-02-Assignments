{
 "cells": [
  {
   "cell_type": "code",
   "execution_count": null,
   "metadata": {},
   "outputs": [],
   "source": [
    "import pandas as pd\n",
    "data = pd.DataFrame([['a',1],['B',None],['C c',3]], columns=['letter','number'])"
   ]
  },
  {
   "cell_type": "code",
   "execution_count": null,
   "metadata": {},
   "outputs": [],
   "source": [
    "data"
   ]
  },
  {
   "cell_type": "markdown",
   "metadata": {},
   "source": [
    "---\n",
    "### Fill NaN with a fixed value"
   ]
  },
  {
   "cell_type": "code",
   "execution_count": null,
   "metadata": {},
   "outputs": [],
   "source": [
    "data['number'].fillna(0)\n"
   ]
  },
  {
   "cell_type": "markdown",
   "metadata": {},
   "source": [
    "---\n",
    "### Fill NaN with a calculated value"
   ]
  },
  {
   "cell_type": "code",
   "execution_count": null,
   "metadata": {},
   "outputs": [],
   "source": [
    "data['number'].fillna(data['number'].mean())"
   ]
  },
  {
   "cell_type": "markdown",
   "metadata": {},
   "source": [
    "---\n",
    "### Fill NA with another column"
   ]
  },
  {
   "cell_type": "code",
   "execution_count": null,
   "metadata": {},
   "outputs": [],
   "source": [
    "data['number'].fillna(data['letter'])"
   ]
  },
  {
   "cell_type": "code",
   "execution_count": null,
   "metadata": {},
   "outputs": [],
   "source": [
    "import pandas as pd\n",
    "states = pd.DataFrame([\n",
    "    ['1','AK',703423],\n",
    "    [pd.NA, 'AL', 5634923],\n",
    "    [pd.NA, 'AR', 3029341],\n",
    "    [pd.NA, 'AZ', 2317412],\n",
    "    ['2', 'CA', 13493821],\n",
    "    [pd.NA, 'CO', 5434124]\n",
    "], columns=['region','state','population'])"
   ]
  },
  {
   "cell_type": "code",
   "execution_count": null,
   "metadata": {},
   "outputs": [],
   "source": [
    "states"
   ]
  },
  {
   "cell_type": "code",
   "execution_count": null,
   "metadata": {},
   "outputs": [],
   "source": [
    "states['region'] = states['region'].fillna(states['state'])\n",
    "#states['region'].fillna(states['state'], inplace=True)   # Old way of running this command in Pandas. Will not work in Pandas 3.0"
   ]
  },
  {
   "cell_type": "code",
   "execution_count": null,
   "metadata": {},
   "outputs": [],
   "source": [
    "states"
   ]
  },
  {
   "cell_type": "code",
   "execution_count": null,
   "metadata": {},
   "outputs": [],
   "source": [
    "import pandas as pd\n",
    "states = pd.DataFrame([\n",
    "    ['1','AK',703423],\n",
    "    [pd.NA, 'AL', 5634923],\n",
    "    [pd.NA, 'AR', 3029341],\n",
    "    [pd.NA, 'AZ', 2317412],\n",
    "    ['2', 'CA', 13493821],\n",
    "    [pd.NA, 'CO', 5434124]\n",
    "], columns=['region','state','population'])"
   ]
  },
  {
   "cell_type": "code",
   "execution_count": null,
   "metadata": {},
   "outputs": [],
   "source": [
    "states"
   ]
  },
  {
   "cell_type": "code",
   "execution_count": null,
   "metadata": {},
   "outputs": [],
   "source": [
    "states['region'] = states['region'].ffill() # ffill stands for 'Forward Fill'"
   ]
  },
  {
   "cell_type": "code",
   "execution_count": null,
   "metadata": {},
   "outputs": [],
   "source": [
    "states"
   ]
  },
  {
   "cell_type": "markdown",
   "metadata": {},
   "source": [
    "---\n",
    "---\n",
    "\n",
    "### String Functions"
   ]
  },
  {
   "cell_type": "code",
   "execution_count": null,
   "metadata": {},
   "outputs": [],
   "source": [
    "data = pd.DataFrame([['a',1],['B',None],['Cat c',3]], columns=['letter','number'])"
   ]
  },
  {
   "cell_type": "code",
   "execution_count": null,
   "metadata": {},
   "outputs": [],
   "source": [
    "data"
   ]
  },
  {
   "cell_type": "code",
   "execution_count": null,
   "metadata": {},
   "outputs": [],
   "source": [
    "data['letter'].str.lower()"
   ]
  },
  {
   "cell_type": "code",
   "execution_count": null,
   "metadata": {},
   "outputs": [],
   "source": [
    "data['letter'].str.upper()"
   ]
  },
  {
   "cell_type": "code",
   "execution_count": null,
   "metadata": {},
   "outputs": [],
   "source": [
    "data['letter'].str.title()"
   ]
  },
  {
   "cell_type": "code",
   "execution_count": null,
   "metadata": {},
   "outputs": [],
   "source": [
    "data['letter'].str.replace(r'^.* ','')"
   ]
  },
  {
   "cell_type": "code",
   "execution_count": null,
   "metadata": {},
   "outputs": [],
   "source": [
    "data['letter'].str[-1]"
   ]
  },
  {
   "cell_type": "markdown",
   "metadata": {},
   "source": [
    "# Situation / Problem\n",
    "\n",
    "In this data set, we want to group by the Proprietary Name.  How many drugs are represented here?\n",
    "\n",
    "* Does every row have a proprietary name? - If not, use the non-proprietary name instead\n",
    "* Are they formatted consistently? - Make them all upper case or lower case\n",
    "* Do any of the names have unusual characters that we may want to change?"
   ]
  },
  {
   "cell_type": "code",
   "execution_count": null,
   "metadata": {},
   "outputs": [],
   "source": [
    "import pandas as pd"
   ]
  },
  {
   "cell_type": "code",
   "execution_count": null,
   "metadata": {},
   "outputs": [],
   "source": [
    "ndc = pd.read_csv('https://hds5210-data.s3.amazonaws.com/ndc.txt', delimiter='\\t')"
   ]
  },
  {
   "cell_type": "code",
   "execution_count": null,
   "metadata": {},
   "outputs": [],
   "source": [
    "ndc"
   ]
  },
  {
   "cell_type": "code",
   "execution_count": null,
   "metadata": {},
   "outputs": [],
   "source": [
    "# STEP 1: Are any of them blank\n",
    "\n",
    "blank_filter = ndc['PROPRIETARYNAME'].isnull()\n",
    "blanks = ndc[blank_filter]\n",
    "blanks.shape"
   ]
  },
  {
   "cell_type": "code",
   "execution_count": null,
   "metadata": {},
   "outputs": [],
   "source": [
    "blanks"
   ]
  },
  {
   "cell_type": "code",
   "execution_count": null,
   "metadata": {},
   "outputs": [],
   "source": [
    "# ndc['PROPRIETARYNAME'].fillna(ndc['NONPROPRIETARYNAME'], inplace=True)  # -- Old way of replacing data with the values of another column\n",
    "ndc.fillna({'PROPRIETARYNAME': ndc['NONPROPRIETARYNAME']}, inplace=True)\n"
   ]
  },
  {
   "cell_type": "code",
   "execution_count": null,
   "metadata": {},
   "outputs": [],
   "source": [
    "null_filter = ndc['PROPRIETARYNAME'].isnull()\n",
    "blanks = ndc[null_filter]\n",
    "blanks.shape\n"
   ]
  },
  {
   "cell_type": "code",
   "execution_count": null,
   "metadata": {},
   "outputs": [],
   "source": [
    "florbetapir_filter = ndc['PROPRIETARYNAME'] == 'Florbetapir F 18'\n",
    "ndc[florbetapir_filter]"
   ]
  },
  {
   "cell_type": "code",
   "execution_count": null,
   "metadata": {},
   "outputs": [],
   "source": [
    "# STEP 2: Check the formats - how many are all caps, how many are all lowercase\n",
    "\n",
    "upper_filter = ndc['PROPRIETARYNAME'].str.contains(r'^[A-Z0-9 \\-]+$')\n",
    "all_caps = ndc[upper_filter]\n",
    "all_caps.shape"
   ]
  },
  {
   "cell_type": "code",
   "execution_count": null,
   "metadata": {},
   "outputs": [],
   "source": [
    "lower_filter = ndc['PROPRIETARYNAME'].str.contains(r'^[a-z0-9 \\-]+$')\n",
    "all_lc = ndc[ lower_filter ]\n",
    "all_lc.shape"
   ]
  },
  {
   "cell_type": "code",
   "execution_count": null,
   "metadata": {},
   "outputs": [],
   "source": [
    "# Let's just make them all lower case\n",
    "\n",
    "ndc['PROPRIETARYNAME'] = ndc['PROPRIETARYNAME'].str.lower()\n"
   ]
  },
  {
   "cell_type": "code",
   "execution_count": null,
   "metadata": {},
   "outputs": [],
   "source": [
    "lowercase_filter = ndc['PROPRIETARYNAME'] == ndc['PROPRIETARYNAME'].str.lower()\n",
    "all_lc = ndc[ lowercase_filter ]\n",
    "all_lc.shape"
   ]
  },
  {
   "cell_type": "code",
   "execution_count": null,
   "metadata": {},
   "outputs": [],
   "source": [
    "ndc.shape"
   ]
  },
  {
   "cell_type": "code",
   "execution_count": null,
   "metadata": {},
   "outputs": [],
   "source": [
    "# STEP 3: Look for any that might have strange characters or number\n",
    "weird_filter = ndc['PROPRIETARYNAME'].str.contains(r'[0-9\\-\\\\\\/]')\n",
    "weird = ndc[weird_filter]\n",
    "weird.shape"
   ]
  },
  {
   "cell_type": "code",
   "execution_count": null,
   "metadata": {},
   "outputs": [],
   "source": [
    "weird"
   ]
  }
 ],
 "metadata": {
  "kernelspec": {
   "display_name": "Python 3 (ipykernel)",
   "language": "python",
   "name": "python3"
  },
  "language_info": {
   "codemirror_mode": {
    "name": "ipython",
    "version": 3
   },
   "file_extension": ".py",
   "mimetype": "text/x-python",
   "name": "python",
   "nbconvert_exporter": "python",
   "pygments_lexer": "ipython3",
   "version": "3.13.0"
  }
 },
 "nbformat": 4,
 "nbformat_minor": 4
}
