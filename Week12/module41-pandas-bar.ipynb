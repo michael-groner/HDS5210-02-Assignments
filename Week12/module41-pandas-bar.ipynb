{
 "cells": [
  {
   "cell_type": "markdown",
   "metadata": {
    "id": "RoizvGuAR7YE"
   },
   "source": [
    "# Run this first to download test data"
   ]
  },
  {
   "cell_type": "code",
   "execution_count": null,
   "metadata": {
    "id": "jSlw4xffR99v"
   },
   "outputs": [],
   "source": [
    "import requests\n",
    "\n",
    "url = \"https://hds5210-data.s3.amazonaws.com/flu_2016_2017.csv\"\n",
    "filename = \"flu_2016_2017.csv\"\n",
    "\n",
    "response = requests.get(url)\n",
    "with open(filename, \"wb\") as file:\n",
    "  file.write(response.content)\n"
   ]
  },
  {
   "cell_type": "markdown",
   "metadata": {
    "id": "pQ9AWjBUR5Ma"
   },
   "source": [
    "Use `%matplotlib notebook` to make plots interactive"
   ]
  },
  {
   "cell_type": "code",
   "execution_count": null,
   "metadata": {
    "id": "fXpEEk4GR5Mb"
   },
   "outputs": [],
   "source": [
    "%matplotlib inline"
   ]
  },
  {
   "cell_type": "markdown",
   "metadata": {
    "id": "_-9A-zGzR5Mc"
   },
   "source": [
    "Plotting from pandas\n",
    "---"
   ]
  },
  {
   "cell_type": "code",
   "execution_count": null,
   "metadata": {
    "id": "PauldMicR5Mc"
   },
   "outputs": [],
   "source": [
    "import pandas as pd\n",
    "import seaborn as sns\n",
    "\n",
    "\n",
    "data = pd.read_csv('flu_2016_2017.csv', quotechar='\"')\n"
   ]
  },
  {
   "cell_type": "code",
   "execution_count": null,
   "metadata": {
    "id": "TGUTdeCIR5Mc"
   },
   "outputs": [],
   "source": [
    "data['Country'].unique()"
   ]
  },
  {
   "cell_type": "code",
   "execution_count": null,
   "metadata": {
    "id": "f1G62u0rR5Md"
   },
   "outputs": [],
   "source": [
    "data['FLUREGION'].unique()"
   ]
  },
  {
   "cell_type": "code",
   "execution_count": null,
   "metadata": {
    "id": "9gtCsCOAR5Md"
   },
   "outputs": [],
   "source": [
    "region = data[(data['FLUREGION'] == 'Temperate South America') &\n",
    "           (data['Year'] == 2016)]\n",
    "region.shape"
   ]
  },
  {
   "cell_type": "code",
   "execution_count": null,
   "metadata": {
    "id": "2nwaZjLZR5Md"
   },
   "outputs": [],
   "source": [
    "region[0:10]"
   ]
  },
  {
   "cell_type": "code",
   "execution_count": null,
   "metadata": {
    "id": "-rT6Ejj9R5Md"
   },
   "outputs": [],
   "source": [
    "region['Country'].unique()"
   ]
  },
  {
   "cell_type": "markdown",
   "metadata": {},
   "source": [
    "# Create Bar Chart\n",
    "\n"
   ]
  },
  {
   "cell_type": "code",
   "execution_count": null,
   "metadata": {
    "id": "Sx615C_sR5Md"
   },
   "outputs": [],
   "source": [
    "sns.barplot(x='Country', y='INF_A', data=region)"
   ]
  },
  {
   "cell_type": "code",
   "execution_count": null,
   "metadata": {
    "id": "bvS8Y_5bR5Md"
   },
   "outputs": [],
   "source": [
    "sns.barplot(x='Country', y='INF_A', data=region, estimator=sum, errorbar=None)"
   ]
  }
 ],
 "metadata": {
  "colab": {
   "provenance": []
  },
  "kernelspec": {
   "display_name": "Python 3 (ipykernel)",
   "language": "python",
   "name": "python3"
  },
  "language_info": {
   "codemirror_mode": {
    "name": "ipython",
    "version": 3
   },
   "file_extension": ".py",
   "mimetype": "text/x-python",
   "name": "python",
   "nbconvert_exporter": "python",
   "pygments_lexer": "ipython3",
   "version": "3.13.0"
  }
 },
 "nbformat": 4,
 "nbformat_minor": 0
}
