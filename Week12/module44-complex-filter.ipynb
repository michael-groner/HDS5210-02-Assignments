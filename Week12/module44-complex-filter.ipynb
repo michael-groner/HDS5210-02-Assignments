{
 "cells": [
  {
   "cell_type": "markdown",
   "metadata": {
    "colab_type": "text",
    "id": "view-in-github"
   },
   "source": [
    "<a href=\"https://colab.research.google.com/github/paulboal/hds5210-2023/blob/main/week11/module31-complex-filter.ipynb\" target=\"_parent\"><img src=\"https://colab.research.google.com/assets/colab-badge.svg\" alt=\"Open In Colab\"/></a>"
   ]
  },
  {
   "cell_type": "code",
   "execution_count": null,
   "metadata": {
    "id": "LbHMyPnadnBV"
   },
   "outputs": [],
   "source": [
    "import pandas as pd"
   ]
  },
  {
   "cell_type": "code",
   "execution_count": null,
   "metadata": {
    "id": "GpSMNRy-dnBW"
   },
   "outputs": [],
   "source": [
    "data = pd.read_csv('https://hds5210-data.s3.amazonaws.com/complications.csv')"
   ]
  },
  {
   "cell_type": "code",
   "execution_count": null,
   "metadata": {
    "colab": {
     "base_uri": "https://localhost:8080/"
    },
    "id": "tt-soG_vd5BC",
    "outputId": "55e1fcbf-e63d-47e3-d606-4438f715ab20"
   },
   "outputs": [],
   "source": [
    "data['compared_to_national'].value_counts()"
   ]
  },
  {
   "cell_type": "markdown",
   "metadata": {
    "id": "w-xwd3wqdnBX"
   },
   "source": [
    "# Multiple Filters\n",
    "\n",
    "Where the **Compared to National** is not `Number of Cases Too Small` and the Denominator is not `Not Available`, except we want all the mortality related measures regardless of those first two rules."
   ]
  },
  {
   "cell_type": "code",
   "execution_count": null,
   "metadata": {
    "id": "LTGtcsipdnBY"
   },
   "outputs": [],
   "source": [
    "too_small = data['compared_to_national'] == 'Number of Cases Too Small'\n",
    "not_avail = data['denominator'] == 'Not Available'\n",
    "mortality = data['measure_id'].str.contains(\"^MORT\")"
   ]
  },
  {
   "cell_type": "code",
   "execution_count": null,
   "metadata": {
    "colab": {
     "base_uri": "https://localhost:8080/"
    },
    "id": "rSa1Ss3cdnBY",
    "outputId": "d0c5d717-7adb-4b4e-8873-cb9f5548114f"
   },
   "outputs": [],
   "source": [
    "data.shape"
   ]
  },
  {
   "cell_type": "code",
   "execution_count": null,
   "metadata": {
    "colab": {
     "base_uri": "https://localhost:8080/"
    },
    "id": "w-7Z5t-sdnBY",
    "outputId": "1eb74a69-1546-45d2-c1ed-3eb34b285e0f"
   },
   "outputs": [],
   "source": [
    "data[too_small].shape"
   ]
  },
  {
   "cell_type": "code",
   "execution_count": null,
   "metadata": {
    "colab": {
     "base_uri": "https://localhost:8080/"
    },
    "id": "tGFbuxBqdnBZ",
    "outputId": "c717b53d-1d7f-4ffe-9d84-901d01ba855d"
   },
   "outputs": [],
   "source": [
    "data[not_avail].shape"
   ]
  },
  {
   "cell_type": "code",
   "execution_count": null,
   "metadata": {
    "colab": {
     "base_uri": "https://localhost:8080/"
    },
    "id": "9Dt2QKsGdnBZ",
    "outputId": "f17a114a-08a1-4938-d867-f47ca1f0be55"
   },
   "outputs": [],
   "source": [
    "data[mortality].shape"
   ]
  },
  {
   "cell_type": "code",
   "execution_count": null,
   "metadata": {
    "id": "qI44pQJ4dnBZ"
   },
   "outputs": [],
   "source": [
    "subset = data[mortality & (~too_small & ~not_avail)]"
   ]
  },
  {
   "cell_type": "code",
   "execution_count": null,
   "metadata": {
    "colab": {
     "base_uri": "https://localhost:8080/"
    },
    "id": "HEDYyNO4dnBZ",
    "outputId": "749ab0ec-994f-49ec-9c38-5c9aec8c196f"
   },
   "outputs": [],
   "source": [
    "subset.shape"
   ]
  },
  {
   "cell_type": "code",
   "execution_count": null,
   "metadata": {
    "colab": {
     "base_uri": "https://localhost:8080/"
    },
    "id": "ngQdNFT7fFq1",
    "outputId": "97f50b35-4a49-48de-f21c-3173fb386425"
   },
   "outputs": [],
   "source": [
    "subset['measure_id'].value_counts()"
   ]
  },
  {
   "cell_type": "code",
   "execution_count": null,
   "metadata": {
    "colab": {
     "base_uri": "https://localhost:8080/"
    },
    "id": "dCsg_2uZfKK8",
    "outputId": "a7bb3edb-01a7-4bd3-aff2-a766279f4e96"
   },
   "outputs": [],
   "source": [
    "subset['compared_to_national'].value_counts()"
   ]
  },
  {
   "cell_type": "code",
   "execution_count": null,
   "metadata": {
    "colab": {
     "base_uri": "https://localhost:8080/"
    },
    "id": "ae1te7nDfQXS",
    "outputId": "6b5a2ce9-0c03-42e9-b8b7-c6bd2618e11b"
   },
   "outputs": [],
   "source": [
    "subset['denominator'].value_counts()"
   ]
  },
  {
   "cell_type": "code",
   "execution_count": null,
   "metadata": {
    "colab": {
     "base_uri": "https://localhost:8080/",
     "height": 486
    },
    "id": "rDsyBFPQdnBZ",
    "outputId": "907da212-574d-4d3f-e0a2-6c38ca5a2995"
   },
   "outputs": [],
   "source": [
    "subset.head()"
   ]
  },
  {
   "cell_type": "markdown",
   "metadata": {},
   "source": [
    "The following example will fail because the length of \"subset\" is smaller than the length of the filters \"mortality\" and \"too_small\""
   ]
  },
  {
   "cell_type": "code",
   "execution_count": null,
   "metadata": {
    "id": "L5wQRZbidnBZ"
   },
   "outputs": [],
   "source": [
    "subset[mortality & too_small].head()\n"
   ]
  },
  {
   "cell_type": "code",
   "execution_count": null,
   "metadata": {
    "id": "OnmwfSEYdnBZ"
   },
   "outputs": [],
   "source": [
    "subset[mortality & too_small].shape"
   ]
  },
  {
   "cell_type": "markdown",
   "metadata": {},
   "source": [
    "The following will fail because the filters aren't built correctly"
   ]
  },
  {
   "cell_type": "code",
   "execution_count": null,
   "metadata": {
    "id": "J2MtseeuhBWU"
   },
   "outputs": [],
   "source": [
    "data[data['city'] == 'DADEVILLE' | data['city'] == 'BIRMINGHAM']"
   ]
  },
  {
   "cell_type": "code",
   "execution_count": null,
   "metadata": {
    "colab": {
     "base_uri": "https://localhost:8080/"
    },
    "id": "g-2MEeWfdnBZ",
    "outputId": "2cd1019d-f648-4869-9c8c-2bc75372683e"
   },
   "outputs": [],
   "source": [
    "birmingham = data['city'] == 'BIRMINGHAM'\n",
    "dadeville = data['city'] == 'DADEVILLE'\n",
    "data[birmingham | dadeville]\n",
    "\n",
    "data[birmingham | dadeville]['city'].value_counts()"
   ]
  },
  {
   "cell_type": "markdown",
   "metadata": {
    "id": "rAAn7epGdnBa"
   },
   "source": [
    "# DataFrame.query()"
   ]
  },
  {
   "cell_type": "code",
   "execution_count": null,
   "metadata": {
    "colab": {
     "base_uri": "https://localhost:8080/",
     "height": 999
    },
    "id": "d1eN_5YAgdMT",
    "outputId": "d6c64cf0-4d47-4ebb-eef5-be6347c0c66d"
   },
   "outputs": [],
   "source": [
    "data.query('city in (\"DADEVILLE\", \"BIRMINGHAM\")')"
   ]
  },
  {
   "cell_type": "code",
   "execution_count": null,
   "metadata": {
    "id": "vlN9dc5JdnBa"
   },
   "outputs": [],
   "source": [
    "data.head()"
   ]
  },
  {
   "cell_type": "code",
   "execution_count": null,
   "metadata": {
    "colab": {
     "base_uri": "https://localhost:8080/",
     "height": 417
    },
    "id": "ouCkMhufdnBa",
    "outputId": "c4895cef-7e2b-4734-d806-571ca2011890"
   },
   "outputs": [],
   "source": [
    "data.query('city == \"DADEVILLE\" and state == \"AL\"').head()"
   ]
  }
 ],
 "metadata": {
  "colab": {
   "include_colab_link": true,
   "provenance": []
  },
  "kernelspec": {
   "display_name": "Python 3 (ipykernel)",
   "language": "python",
   "name": "python3"
  },
  "language_info": {
   "codemirror_mode": {
    "name": "ipython",
    "version": 3
   },
   "file_extension": ".py",
   "mimetype": "text/x-python",
   "name": "python",
   "nbconvert_exporter": "python",
   "pygments_lexer": "ipython3",
   "version": "3.13.0"
  }
 },
 "nbformat": 4,
 "nbformat_minor": 0
}
