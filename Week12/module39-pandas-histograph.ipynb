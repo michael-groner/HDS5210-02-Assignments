{
 "cells": [
  {
   "cell_type": "markdown",
   "metadata": {
    "id": "2lOxtzI1Qre2"
   },
   "source": [
    "# Run this first to download test data"
   ]
  },
  {
   "cell_type": "code",
   "execution_count": null,
   "metadata": {
    "id": "iVJMDd2DQuZ_"
   },
   "outputs": [],
   "source": [
    "import requests\n",
    "\n",
    "url = \"https://hds5210-data.s3.amazonaws.com/flu_2016_2017.csv\"\n",
    "filename = \"flu_2016_2017.csv\"\n",
    "\n",
    "response = requests.get(url)\n",
    "with open(filename, \"wb\") as file:\n",
    "  file.write(response.content)"
   ]
  },
  {
   "cell_type": "markdown",
   "metadata": {
    "id": "YwkYigglQqZ7"
   },
   "source": [
    "Use `%matplotlib notebook` to make plots interactive"
   ]
  },
  {
   "cell_type": "code",
   "execution_count": null,
   "metadata": {
    "id": "QZaglXpKQqZ9"
   },
   "outputs": [],
   "source": [
    "%matplotlib inline"
   ]
  },
  {
   "cell_type": "markdown",
   "metadata": {
    "id": "fwuh72V6QqZ-"
   },
   "source": [
    "Plotting from pandas\n",
    "---"
   ]
  },
  {
   "cell_type": "code",
   "execution_count": null,
   "metadata": {
    "id": "-x7VYceYQqZ-"
   },
   "outputs": [],
   "source": [
    "import pandas as pd\n",
    "data = pd.read_csv('flu_2016_2017.csv', quotechar='\"')\n",
    "data.shape"
   ]
  },
  {
   "cell_type": "code",
   "execution_count": null,
   "metadata": {
    "id": "T-3w-IqvQqZ-"
   },
   "outputs": [],
   "source": [
    "data[0:2]"
   ]
  },
  {
   "cell_type": "markdown",
   "metadata": {
    "id": "yFjowBSBQqZ_"
   },
   "source": [
    "---\n",
    "\n",
    "Histogram\n",
    "---\n",
    "\n",
    "Plot a histogram of the number of Influenza B cases per week"
   ]
  },
  {
   "cell_type": "code",
   "execution_count": null,
   "metadata": {
    "id": "EIpmarb9QqZ_"
   },
   "outputs": [],
   "source": [
    "data['INF_B'].hist()"
   ]
  },
  {
   "cell_type": "code",
   "execution_count": null,
   "metadata": {},
   "outputs": [],
   "source": [
    "data[['INF_B','INF_A','SPEC_RECEIVED_NB']].hist(bins=10)\n"
   ]
  },
  {
   "cell_type": "code",
   "execution_count": null,
   "metadata": {
    "id": "x6Y8SWAQQqZ_"
   },
   "outputs": [],
   "source": [
    "data[['INF_B','INF_A','SPEC_RECEIVED_NB']].hist(bins=10)\n"
   ]
  }
 ],
 "metadata": {
  "colab": {
   "provenance": []
  },
  "kernelspec": {
   "display_name": "Python 3 (ipykernel)",
   "language": "python",
   "name": "python3"
  },
  "language_info": {
   "codemirror_mode": {
    "name": "ipython",
    "version": 3
   },
   "file_extension": ".py",
   "mimetype": "text/x-python",
   "name": "python",
   "nbconvert_exporter": "python",
   "pygments_lexer": "ipython3",
   "version": "3.13.0"
  }
 },
 "nbformat": 4,
 "nbformat_minor": 0
}
