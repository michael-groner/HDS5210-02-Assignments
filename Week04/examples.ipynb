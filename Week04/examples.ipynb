{
 "cells": [
  {
   "cell_type": "markdown",
   "metadata": {
    "colab_type": "text",
    "id": "view-in-github"
   },
   "source": [
    "<a href=\"https://colab.research.google.com/github/michael-groner/HDS5210-02-Assignments/blob/main/Week04/examples.ipynb\" target=\"_parent\"><img src=\"https://colab.research.google.com/assets/colab-badge.svg\" alt=\"Open In Colab\"/></a>"
   ]
  },
  {
   "cell_type": "markdown",
   "metadata": {
    "id": "eUH8oVeNUtoC"
   },
   "source": [
    "# Lists\n",
    "\n",
    "## Creating a list"
   ]
  },
  {
   "cell_type": "code",
   "execution_count": null,
   "metadata": {
    "id": "tu-1uvt7Yx8M"
   },
   "outputs": [],
   "source": [
    "empty_list = [] # Empty list\n",
    "number_list = ['one', 'two', 'three']\n",
    "\n",
    "print(empty_list)\n",
    "print(number_list)"
   ]
  },
  {
   "cell_type": "markdown",
   "metadata": {
    "id": "UFfzl2MKZAnN"
   },
   "source": [
    "## Selecting values in a list\n",
    "\n",
    "**Remember, the first position in the list has the index 0**"
   ]
  },
  {
   "cell_type": "code",
   "execution_count": null,
   "metadata": {
    "id": "uToACM-RY_Rb"
   },
   "outputs": [],
   "source": [
    "number_list = ['one', 'two', 'three']\n",
    "\n",
    "print(number_list[0])\n",
    "print(number_list[2])"
   ]
  },
  {
   "cell_type": "markdown",
   "metadata": {
    "id": "qQst9wyscwi1"
   },
   "source": [
    "## Using a negative index counts backwards thorugh the list"
   ]
  },
  {
   "cell_type": "code",
   "execution_count": null,
   "metadata": {
    "id": "K2D_jGmFc6vP"
   },
   "outputs": [],
   "source": [
    "number_list = ['one', 'two', 'three']\n",
    "\n",
    "print(number_list[-1])\n",
    "print(number_list[-3])"
   ]
  },
  {
   "cell_type": "markdown",
   "metadata": {
    "id": "06rG-yDRZqZU"
   },
   "source": [
    "## Changing values in a list"
   ]
  },
  {
   "cell_type": "code",
   "execution_count": null,
   "metadata": {
    "id": "9H92NrTMZspa"
   },
   "outputs": [],
   "source": [
    "number_list = ['one', 'two', 'three']\n",
    "\n",
    "number_list[1] = 'Michael'\n",
    "print(number_list)"
   ]
  },
  {
   "cell_type": "markdown",
   "metadata": {
    "id": "eUDf2-KIZzBb"
   },
   "source": [
    "## Adding an item to a list"
   ]
  },
  {
   "cell_type": "code",
   "execution_count": null,
   "metadata": {
    "id": "nyO1w0sCZ4x9"
   },
   "outputs": [],
   "source": [
    "number_list = ['one', 'Michael', 'three']\n",
    "\n",
    "number_list.append('four')\n",
    "print(number_list)"
   ]
  },
  {
   "cell_type": "markdown",
   "metadata": {
    "id": "MmkvRfntd9Vk"
   },
   "source": [
    "## Remove a specific value from a list\n",
    "\n",
    "**NOTE: This only works on the first list element with the given value**"
   ]
  },
  {
   "cell_type": "code",
   "execution_count": null,
   "metadata": {
    "id": "Bjgln4fMeCGi"
   },
   "outputs": [],
   "source": [
    "fruits = ['apple', 'bannana', 'orange', 'bannana']\n",
    "fruits.remove('bannana')\n",
    "print(fruits)"
   ]
  },
  {
   "cell_type": "markdown",
   "metadata": {
    "id": "FsancsbdZ-VK"
   },
   "source": [
    "## Remove a position from a list"
   ]
  },
  {
   "cell_type": "code",
   "execution_count": null,
   "metadata": {
    "id": "cN_OpmVbaCcP"
   },
   "outputs": [],
   "source": [
    "number_list = ['one', 'Michael', 'three', 'four']\n",
    "\n",
    "number_list.pop(1)\n",
    "print(number_list)"
   ]
  },
  {
   "cell_type": "markdown",
   "metadata": {
    "id": "QLhZH3CTaHeT"
   },
   "source": [
    "## Get the length of a list"
   ]
  },
  {
   "cell_type": "code",
   "execution_count": null,
   "metadata": {
    "id": "I9N62FUCaJM_"
   },
   "outputs": [],
   "source": [
    "number_list = ['one', 'three', 'four']\n",
    "\n",
    "size = len(number_list)\n",
    "\n",
    "print(f'The size of the list is {size}')"
   ]
  },
  {
   "cell_type": "markdown",
   "metadata": {
    "id": "VPFb3Ot9aT5K"
   },
   "source": [
    "## Adding lists together"
   ]
  },
  {
   "cell_type": "code",
   "execution_count": null,
   "metadata": {
    "id": "KWZaTYxXaV-_"
   },
   "outputs": [],
   "source": [
    "number_list = ['one', 'three', 'four']\n",
    "new_list = ['five','six']\n",
    "\n",
    "number_list = number_list + new_list\n",
    "\n",
    "print(number_list)"
   ]
  },
  {
   "cell_type": "markdown",
   "metadata": {
    "id": "rEAf7aJIah2y"
   },
   "source": [
    "## Test if an element is in a list\n"
   ]
  },
  {
   "cell_type": "code",
   "execution_count": null,
   "metadata": {
    "id": "Ojzsl5bFa2zt"
   },
   "outputs": [],
   "source": [
    "number_list = ['one', 'three', 'four', 'five', 'six']\n",
    "\n",
    "if 'two' in number_list:\n",
    "  print('The list contains the element \\'two\\'')\n",
    "else:\n",
    "  print('The list does not contain the element \\'two\\'')"
   ]
  },
  {
   "cell_type": "markdown",
   "metadata": {
    "id": "SGnln_2Ie4ri"
   },
   "source": [
    "## Looping over lists"
   ]
  },
  {
   "cell_type": "code",
   "execution_count": null,
   "metadata": {
    "id": "RL5wfhqje8dT"
   },
   "outputs": [],
   "source": [
    "fruits = ['apple', 'bannana', 'orange']\n",
    "\n",
    "for fruit in fruits:\n",
    "  print(fruit)"
   ]
  },
  {
   "cell_type": "markdown",
   "metadata": {
    "id": "m_b1ecazbTzm"
   },
   "source": [
    "## Copy a list"
   ]
  },
  {
   "cell_type": "code",
   "execution_count": null,
   "metadata": {
    "id": "YbNH5JPbbVgw"
   },
   "outputs": [],
   "source": [
    "list1 = ['a','b','c']\n",
    "list2 = list1 # Make 'list2' point to the same list as 'list1'\n",
    "list1[0] = 'd'\n",
    "print(f\"list 1: {list1}\")\n",
    "print(f\"list 2: {list2}\")\n",
    "\n",
    "list3 = ['d', 'e', 'f']\n",
    "list4 = list3[:]\n",
    "list3[0] = 'g'\n",
    "print(f\"list 3: {list3}\")\n",
    "print(f\"list 4: {list4}\")"
   ]
  },
  {
   "cell_type": "markdown",
   "metadata": {
    "id": "rQc0NQq9bNPN"
   },
   "source": [
    "## Slicing a list - return only portions of a list\n",
    "\n",
    "list[START:END] - returns a copy of the list from index START up to, but not including, END\n",
    "\n",
    "list[START:] - returns a copy of the list from index\n",
    "\n",
    "list[:END] - returns a copy of the list from the begining up to, but not including, the index END\n",
    "\n",
    "list[:] - returns a copy of the list"
   ]
  },
  {
   "cell_type": "code",
   "execution_count": null,
   "metadata": {
    "id": "3aG2FA9scTS-"
   },
   "outputs": [],
   "source": [
    "number_list = [0,1,2,3,4,5,6]\n",
    "\n",
    "print(number_list[1:4])\n",
    "print(number_list[2:])\n",
    "print(number_list[:3])\n",
    "print(number_list[:])"
   ]
  },
  {
   "cell_type": "markdown",
   "metadata": {
    "id": "E6tdKhVmdan3"
   },
   "source": [
    "Similar to indecies, you can use negative values to slice backwards through a list"
   ]
  },
  {
   "cell_type": "code",
   "execution_count": null,
   "metadata": {
    "id": "hGINp_Csdi4t"
   },
   "outputs": [],
   "source": [
    "number_list = [0,1,2,3,4,5,6]\n",
    "\n",
    "print(number_list[:-2])"
   ]
  },
  {
   "cell_type": "markdown",
   "metadata": {
    "id": "TdPI8CUEfzcj"
   },
   "source": [
    "## Lists of lists\n",
    "\n",
    "An element can be its own list"
   ]
  },
  {
   "cell_type": "code",
   "execution_count": null,
   "metadata": {
    "id": "iDS5Q3gogJA0"
   },
   "outputs": [],
   "source": [
    "name1 = ['Michael', 'Groner']\n",
    "name2 = ['George', 'Smith']\n",
    "\n",
    "names = [name1, name2]\n",
    "\n",
    "print(names)"
   ]
  },
  {
   "cell_type": "markdown",
   "metadata": {
    "id": "2B8xxS1XgWPg"
   },
   "source": [
    "## Reference an element in a list, which is in a list"
   ]
  },
  {
   "cell_type": "code",
   "execution_count": null,
   "metadata": {
    "id": "0ziGqP0Agbnu"
   },
   "outputs": [],
   "source": [
    "first_name_of_first_person_in_list = names[0][0]\n",
    "\n",
    "print(first_name_of_first_person_in_list)"
   ]
  },
  {
   "cell_type": "markdown",
   "metadata": {},
   "source": [
    "## Sort a list"
   ]
  },
  {
   "cell_type": "code",
   "execution_count": null,
   "metadata": {},
   "outputs": [],
   "source": [
    "list1 = [ 3, 4, 1, 9, 7]\n",
    "\n",
    "list2 = sorted(list1)\n",
    "\n",
    "# Note that list1 is not sorted because the built-in function `sorted()` was used\n",
    "print(list1)\n",
    "print(list2)\n",
    "\n",
    "# Note: list1 is now sorted because the `.sort()` command on the list was used\n",
    "list1.sort()\n",
    "print(list1)"
   ]
  },
  {
   "cell_type": "markdown",
   "metadata": {
    "id": "wjt1_jKdKrdB"
   },
   "source": [
    "# Exercise 1\n",
    "\n",
    "Loop over the names in the list below and print out \"`FirstName` is a `LastName`\""
   ]
  },
  {
   "cell_type": "code",
   "execution_count": null,
   "metadata": {
    "id": "F8ISAB98I4fK"
   },
   "outputs": [],
   "source": [
    "names = [['Michael', 'Johnson'],\n",
    "         ['Emily', 'Davis'],\n",
    "         ['James', 'Wilson'],\n",
    "         ['Sarah', 'Smith']]\n",
    "\n",
    "# BEGIN SOLUTION HERE\n",
    "\n",
    "# END SOLUTION HERE"
   ]
  },
  {
   "cell_type": "markdown",
   "metadata": {
    "id": "VjI-uAVxKITz"
   },
   "source": [
    "# Exercise 2\n",
    "\n",
    "Can you print out 'FirstName LastName', but in alphabetical order of last name?\n",
    "\n",
    "**NOTE: This takes more than one command and one step to implement**"
   ]
  },
  {
   "cell_type": "code",
   "execution_count": null,
   "metadata": {
    "id": "G5BDWjqMPh8O"
   },
   "outputs": [],
   "source": [
    "names = [['Michael', 'Johnson'],\n",
    "         ['Emily', 'Davis'],\n",
    "         ['James', 'Wilson'],\n",
    "         ['Sarah', 'Smith']]\n",
    "\n",
    "# BEGIN SOLUTION HERE\n",
    "\n",
    "# END SOLUTION HERE"
   ]
  },
  {
   "cell_type": "markdown",
   "metadata": {
    "id": "-xwRujwzVQe8"
   },
   "source": [
    "# Range\n",
    "\n",
    "`range()` can be used three ways\n",
    "\n",
    "`range(STOP)` counts from 0 up to, but not including, the value of STOP\n",
    "* 'range(START, STOP)' counts from the value of START (including START) up to, but not including, the value of STOP\n",
    "* 'range(START, STOP, STEP)' counts from the start value to, but not including, the STOP value"
   ]
  },
  {
   "cell_type": "code",
   "execution_count": null,
   "metadata": {
    "id": "Wj2PEZkaWFZy"
   },
   "outputs": [],
   "source": [
    "for i in range(10):\n",
    "  print(i)"
   ]
  },
  {
   "cell_type": "markdown",
   "metadata": {
    "id": "tlSCImRBWHsK"
   },
   "source": [
    "`range(START, STOP)` counts form the value of START (including START) up to, but not including the value of STOP\n"
   ]
  },
  {
   "cell_type": "code",
   "execution_count": null,
   "metadata": {
    "id": "9XKTCeLvWrhF"
   },
   "outputs": [],
   "source": [
    "for i in range(1, 10):\n",
    "  print(i)"
   ]
  },
  {
   "cell_type": "markdown",
   "metadata": {
    "id": "mrEqANwPWHeF"
   },
   "source": [
    "`range(START, STOP, STEP)` counts from the value of START (including START) up to, but not including, STOP by the value of STEP"
   ]
  },
  {
   "cell_type": "code",
   "execution_count": null,
   "metadata": {
    "id": "opSSedchXGlZ"
   },
   "outputs": [],
   "source": [
    "for i in range(2,20,2):\n",
    "  print(i)"
   ]
  },
  {
   "cell_type": "markdown",
   "metadata": {
    "id": "86SQnwLCWHOQ"
   },
   "source": [
    "'range()' can take negative values in STEP"
   ]
  },
  {
   "cell_type": "code",
   "execution_count": null,
   "metadata": {
    "id": "VbNGkGqiXVQI"
   },
   "outputs": [],
   "source": [
    "for i in range(10, 1, -1):\n",
    "  print(i)"
   ]
  },
  {
   "cell_type": "markdown",
   "metadata": {
    "id": "s_7T638bXg5c"
   },
   "source": [
    "If you give range imposible values, it will have no value and skip the loop"
   ]
  },
  {
   "cell_type": "code",
   "execution_count": null,
   "metadata": {
    "id": "TIWDyUSpXazF"
   },
   "outputs": [],
   "source": [
    "for i in range(10, 1, 1):\n",
    "  print(i)"
   ]
  },
  {
   "cell_type": "markdown",
   "metadata": {
    "id": "0Ez3STP6hE9Y"
   },
   "source": [
    "# Exercise 3\n",
    "\n",
    "Create a list of all the integers from 1 to 100 (including 100) using `range()`"
   ]
  },
  {
   "cell_type": "code",
   "execution_count": null,
   "metadata": {
    "id": "WR1kCiWIhNoc"
   },
   "outputs": [],
   "source": []
  },
  {
   "cell_type": "markdown",
   "metadata": {
    "id": "5I4pj3kgS-mM"
   },
   "source": [
    "# Tuples\n",
    "\n",
    "Tuples are similar to lists, but once the tuple is created, it cannot be changed!\n",
    "\n"
   ]
  },
  {
   "cell_type": "code",
   "execution_count": null,
   "metadata": {
    "id": "T_UjvJ5IT2Uj"
   },
   "outputs": [],
   "source": [
    "names = ('Michael', 'Sam')\n",
    "\n",
    "print( names )"
   ]
  },
  {
   "cell_type": "markdown",
   "metadata": {},
   "source": [
    "## Tuples cannot be altered"
   ]
  },
  {
   "cell_type": "code",
   "execution_count": null,
   "metadata": {},
   "outputs": [],
   "source": [
    "names = ('Michael', 'Sam')\n",
    "\n",
    "print( names ) # You can print a tuple similar to a list\n",
    "\n",
    "print( names[0]) # You can reference elements of a tuple similar to a list\n",
    "\n",
    "print(sorted(names)) # You can use the built-in sorted function to create a list of sorted elements of the tuple\n",
    "\n",
    "try:\n",
    "    names[1] = 'George'  # This will fail because you cannot change elements of a tuple\n",
    "except:\n",
    "    print(\"Cannot change elements within a tuple\")"
   ]
  },
  {
   "cell_type": "markdown",
   "metadata": {
    "id": "GD0QncnOUI6t"
   },
   "source": [
    "### When have we used tuples?"
   ]
  },
  {
   "cell_type": "code",
   "execution_count": null,
   "metadata": {
    "id": "9Ixc5sGJUY7r"
   },
   "outputs": [],
   "source": [
    "name = {'First' : 'Michael', 'Last' : 'Groner'}\n",
    "\n",
    "for x in name.items():\n",
    "  print(x)"
   ]
  },
  {
   "cell_type": "markdown",
   "metadata": {
    "id": "YZzKirCzicYf"
   },
   "source": [
    "# Sets\n",
    "\n",
    "Sets are similar to lists, but each set can only have each value saved one time!"
   ]
  },
  {
   "cell_type": "markdown",
   "metadata": {
    "id": "ldPNqUpmikLK"
   },
   "source": [
    "## Create a set"
   ]
  },
  {
   "cell_type": "code",
   "execution_count": null,
   "metadata": {
    "id": "DYK1EWpdimhN"
   },
   "outputs": [],
   "source": [
    "# Create an empty set\n",
    "empty_set = set()\n",
    "print(f'{empty_set}')\n",
    "\n",
    "# Create a set from values\n",
    "set_of_names = {'Michael', 'George', 'Jeffrey'}\n",
    "print(f\"{set_of_names}\")\n",
    "\n",
    "# Create set from a list\n",
    "numbers = [1, 2, 3, 4]\n",
    "set_of_numbers = set(numbers)\n",
    "print(f'{set_of_numbers}')"
   ]
  },
  {
   "cell_type": "markdown",
   "metadata": {
    "id": "Xzp12TGwjGTs"
   },
   "source": [
    "## Add an element to a set"
   ]
  },
  {
   "cell_type": "code",
   "execution_count": null,
   "metadata": {
    "id": "Bu4fInXxjJKZ"
   },
   "outputs": [],
   "source": [
    "set_of_numbers = {1, 2, 3, 4}\n",
    "\n",
    "set_of_numbers.add(5)\n",
    "print( set_of_numbers )\n",
    "\n",
    "set_of_numbers.add(5)\n",
    "print( set_of_numbers)   # NOTE: Adding the same value twice doesn't add two elements to a set\n"
   ]
  },
  {
   "cell_type": "markdown",
   "metadata": {
    "id": "lfPWBYiYjGGV"
   },
   "source": [
    "## Remove elements from a set"
   ]
  },
  {
   "cell_type": "code",
   "execution_count": null,
   "metadata": {
    "id": "WUF0G1e8kig7"
   },
   "outputs": [],
   "source": [
    "set_of_numbers = {1, 2, 3, 4}\n",
    "\n",
    "set_of_numbers.remove(4)\n",
    "print(set_of_numbers)"
   ]
  },
  {
   "cell_type": "markdown",
   "metadata": {
    "id": "v3v79Jh9jGBk"
   },
   "source": [
    "## Clear a set of numbers"
   ]
  },
  {
   "cell_type": "code",
   "execution_count": null,
   "metadata": {
    "id": "juHQjZwKksER"
   },
   "outputs": [],
   "source": [
    "set_of_numbers = {1, 2, 3, 4}\n",
    "\n",
    "set_of_numbers.clear()\n",
    "print(set_of_numbers)"
   ]
  },
  {
   "cell_type": "markdown",
   "metadata": {
    "id": "Zhnye2QcjF9V"
   },
   "source": [
    "## Union of two sets"
   ]
  },
  {
   "cell_type": "code",
   "execution_count": null,
   "metadata": {
    "id": "HPgC-3F3jFQF"
   },
   "outputs": [],
   "source": [
    "set1 = {1, 2, 3}\n",
    "set2 = {3, 4, 5}\n",
    "\n",
    "new_set = set1.union(set2)\n",
    "\n",
    "print(new_set)"
   ]
  },
  {
   "cell_type": "markdown",
   "metadata": {
    "id": "7I1I6ZuGlDnT"
   },
   "source": [
    "## Intersection of two sets"
   ]
  },
  {
   "cell_type": "code",
   "execution_count": null,
   "metadata": {
    "id": "2MBh5OMUlHBL"
   },
   "outputs": [],
   "source": [
    "set1 = {1, 2, 3}\n",
    "set2 = {3, 4, 5}\n",
    "\n",
    "new_set = set1.intersection(set2)\n",
    "\n",
    "print(new_set)"
   ]
  },
  {
   "cell_type": "markdown",
   "metadata": {
    "id": "lqV92W1tlN13"
   },
   "source": [
    "## Difference of two sets"
   ]
  },
  {
   "cell_type": "code",
   "execution_count": null,
   "metadata": {
    "id": "11ug-NPVlNfT"
   },
   "outputs": [],
   "source": [
    "set1 = {1, 2, 3}\n",
    "set2 = {3, 4, 5}\n",
    "\n",
    "print(f\"set1 - set2 = {set1.difference(set2)}\")\n",
    "print(f\"set2 - set1 = {set2.difference(set1)}\")\n"
   ]
  },
  {
   "cell_type": "markdown",
   "metadata": {
    "id": "Ci-9MlAzllox"
   },
   "source": [
    "## Test membership\n",
    "\n",
    "```\n",
    "# This is formatted as code\n",
    "```\n",
    "\n"
   ]
  },
  {
   "cell_type": "code",
   "execution_count": null,
   "metadata": {
    "id": "NWBQqLPRllOv"
   },
   "outputs": [],
   "source": [
    "names_set = {'Michael', 'George', 'Jeffrey'}\n",
    "\n",
    "if 'Michael' in names_set:\n",
    "  print(\"Michael is in the name set\")\n",
    "else:\n",
    "  print(\"Michael is not in the name set\")"
   ]
  },
  {
   "cell_type": "markdown",
   "metadata": {
    "id": "modFaDcGl1uQ"
   },
   "source": [
    "# Exercise 4\n",
    "\n",
    "## How many unique items are in this list?\n",
    "\n",
    "Gernerate a list of 100 random numbers"
   ]
  },
  {
   "cell_type": "code",
   "execution_count": null,
   "metadata": {
    "id": "s1NguRbCl-xx"
   },
   "outputs": [],
   "source": [
    "from random import randrange\n",
    "\n",
    "a_list = []\n",
    "for i in range(100):\n",
    "  a_list.append(randrange(1, 101))\n",
    "\n",
    "# BEGIN SOLUTION HERE\n",
    "\n",
    "# END SOLUTION HERE"
   ]
  },
  {
   "cell_type": "markdown",
   "metadata": {
    "id": "nWwTUQv_qzZ8"
   },
   "source": [
    "# Dictionaries\n"
   ]
  },
  {
   "cell_type": "markdown",
   "metadata": {
    "id": "r5p-wyFmq2Jp"
   },
   "source": [
    "## Creating a dictionary"
   ]
  },
  {
   "cell_type": "code",
   "execution_count": null,
   "metadata": {
    "id": "NZvA-cUXq35u"
   },
   "outputs": [],
   "source": [
    "# Create an empty dictionary\n",
    "dict1 = {}\n",
    "\n",
    "# Create a dictionary with values\n",
    "dict2 = {\n",
    "    \"first_name\" : 'Michael',\n",
    "    \"second_name\" : 'Groner'\n",
    "}\n",
    "\n",
    "print(dict1)\n",
    "print(dict2)"
   ]
  },
  {
   "cell_type": "markdown",
   "metadata": {
    "id": "NNOrFpP9rMU3"
   },
   "source": [
    "## Add key/value pair to a dictionary\n",
    "\n",
    "**NOTE: Dictionary keys don't have to be strings, they can be numbers, floats, or any data type"
   ]
  },
  {
   "cell_type": "code",
   "execution_count": null,
   "metadata": {
    "id": "IFIRu9c8r5YY"
   },
   "outputs": [],
   "source": [
    "patient = {\n",
    "  'first_name' : 'Michael',\n",
    "  'last_name' : 'Groner'\n",
    "}\n",
    "\n",
    "patient['age'] = 50\n",
    "patient[4] = 'non-sensical key'\n",
    "\n",
    "print(patient)"
   ]
  },
  {
   "cell_type": "markdown",
   "metadata": {
    "id": "3dlWbExWr8kI"
   },
   "source": [
    "## Retrieve value from dictionary\n"
   ]
  },
  {
   "cell_type": "code",
   "execution_count": null,
   "metadata": {
    "id": "UZyYQ0akr_bH"
   },
   "outputs": [],
   "source": [
    "patient = {\n",
    "  'first_name' : 'Michael',\n",
    "  'last_name' : 'Groner',\n",
    "  'age' : 50\n",
    "}\n",
    "\n",
    "# Option 1 - get() function\n",
    "last_name = patient.get('last_name')\n",
    "print(f'Patients last name is {last_name}')\n",
    "\n",
    "# Option 2 - direct calling\n",
    "first_name = patient['first_name']\n",
    "print(f'Patient\\'s first name is {first_name}')\n"
   ]
  },
  {
   "cell_type": "markdown",
   "metadata": {
    "id": "TpKj33WJtVbk"
   },
   "source": [
    "## Modifying an element in a ditionary"
   ]
  },
  {
   "cell_type": "code",
   "execution_count": null,
   "metadata": {
    "id": "T3FX2Q3MtaGQ"
   },
   "outputs": [],
   "source": [
    "patient = {\n",
    "  'first_name' : 'Michael',\n",
    "  'last_name' : 'Groner',\n",
    "  'age' : 50\n",
    "}\n",
    "\n",
    "patient['age'] = 60\n",
    "\n",
    "print(patient)"
   ]
  },
  {
   "cell_type": "code",
   "execution_count": null,
   "metadata": {
    "id": "yM3aGVUDvnef"
   },
   "outputs": [],
   "source": [
    "# BEGIN SOLUTION HERE\n",
    "\n",
    "# END SOLUTION HERE"
   ]
  },
  {
   "cell_type": "markdown",
   "metadata": {
    "id": "VGr93-dptjq1"
   },
   "source": [
    "## Remove a key/value pair from a dictionary"
   ]
  },
  {
   "cell_type": "code",
   "execution_count": null,
   "metadata": {
    "id": "VMN5LWTOtoYy"
   },
   "outputs": [],
   "source": [
    "patient = {\n",
    "  'first_name' : 'Michael',\n",
    "  'last_name' : 'Groner',\n",
    "  'age' : 50\n",
    "}\n",
    "\n",
    "age = patient.pop('age')\n",
    "\n",
    "print(age)\n",
    "print(patient)"
   ]
  },
  {
   "cell_type": "markdown",
   "metadata": {
    "id": "_WNL2dBOtygo"
   },
   "source": [
    "## Loop over a dictionary"
   ]
  },
  {
   "cell_type": "code",
   "execution_count": null,
   "metadata": {
    "id": "nHgFXnWNt0em"
   },
   "outputs": [],
   "source": [
    "patient = {\n",
    "  'first_name' : 'Michael',\n",
    "  'last_name' : 'Groner',\n",
    "  'age' : 50\n",
    "}\n",
    "\n",
    "# Loop by keys\n",
    "for key in patient:\n",
    "  print(key)"
   ]
  },
  {
   "cell_type": "code",
   "execution_count": null,
   "metadata": {
    "id": "LFoASoMPuAN4"
   },
   "outputs": [],
   "source": [
    "patient = {\n",
    "  'first_name' : 'Michael',\n",
    "  'last_name' : 'Groner',\n",
    "  'age' : 50\n",
    "}\n",
    "\n",
    "# Loop by values\n",
    "for value in patient.values():\n",
    "  print(value)"
   ]
  },
  {
   "cell_type": "code",
   "execution_count": null,
   "metadata": {
    "id": "8kgQPgX3uG2P"
   },
   "outputs": [],
   "source": [
    "patient = {\n",
    "  'first_name' : 'Michael',\n",
    "  'last_name' : 'Groner',\n",
    "  'age' : 50\n",
    "}\n",
    "\n",
    "# Loop by both\n",
    "for key, value in patient.items():\n",
    "  print(f'Key: {key}  Value:{value}')"
   ]
  },
  {
   "cell_type": "markdown",
   "metadata": {
    "id": "LNJlGI0_uUUB"
   },
   "source": [
    "## Check for membership in the dictionary\n"
   ]
  },
  {
   "cell_type": "code",
   "execution_count": null,
   "metadata": {
    "id": "zFFjdRZYuYQs"
   },
   "outputs": [],
   "source": [
    "patient = {\n",
    "  'first_name' : 'Michael',\n",
    "  'last_name' : 'Groner',\n",
    "  'age' : 50\n",
    "}\n",
    "\n",
    "if 'weight' in patient:\n",
    "  print('The key weight is in the dictionary')\n",
    "else:\n",
    "  print('The key weight is not in the dictionary')"
   ]
  },
  {
   "cell_type": "markdown",
   "metadata": {
    "id": "BQ-pH61iu0YY"
   },
   "source": [
    "# Exercise 5\n",
    "\n",
    "1. Create a data structure by hand\n",
    "\n",
    "* Create a dictionary of unique last names which holds a list of family members\n",
    "\n",
    "* Each family member has a first name, last name, and age in their individual list\n",
    "\n",
    "* Put multiple families each with multiple members in your list\n",
    "\n",
    "2. Compute and output the last name of each family along with the average age per family\n",
    "\n",
    "\n",
    "\n"
   ]
  },
  {
   "cell_type": "markdown",
   "metadata": {
    "id": "RCJdxjVFQBd5"
   },
   "source": [
    "# Comprehensions"
   ]
  },
  {
   "cell_type": "markdown",
   "metadata": {
    "id": "fRIPrkyioxFp"
   },
   "source": [
    "## List Comprehensions"
   ]
  },
  {
   "cell_type": "code",
   "execution_count": null,
   "metadata": {
    "id": "C-n1ia5jQAx8"
   },
   "outputs": [],
   "source": [
    "family = ['Michael', 'Christy', 'Brennen', 'Chloe', 'Kylie']\n",
    "\n",
    "[name + ' Groner' for name in family]"
   ]
  },
  {
   "cell_type": "code",
   "execution_count": null,
   "metadata": {
    "id": "DpQTem7RQ1UV"
   },
   "outputs": [],
   "source": [
    "family = ['Michael', 'Christy', 'Brennen', 'Chloe', 'Kylie']\n",
    "\n",
    "[name.upper() for name in family]"
   ]
  },
  {
   "cell_type": "markdown",
   "metadata": {
    "id": "qw-VP2GcSAPz"
   },
   "source": [
    "## Dictionary Comprehension"
   ]
  },
  {
   "cell_type": "code",
   "execution_count": null,
   "metadata": {
    "id": "Tim3bmNqRO-T"
   },
   "outputs": [],
   "source": [
    "family = [\n",
    "    ['MSG', 'Michael Groner'],\n",
    "    ['CAG', 'Chrsity Groner']\n",
    "]\n",
    "\n",
    "{ x[0]:x[1] for x in family }"
   ]
  },
  {
   "cell_type": "markdown",
   "metadata": {
    "id": "bAIhtYjZpJv6"
   },
   "source": [
    "# Exercise 6\n",
    "\n",
    "Use a comprehension to create a new list with each value of the older list doubled"
   ]
  },
  {
   "cell_type": "code",
   "execution_count": null,
   "metadata": {
    "id": "vM5D2Z3bpUmd"
   },
   "outputs": [],
   "source": [
    "old_list = [3, 7, 2, 9, 5]\n",
    "\n",
    "# BEGIN SOLUTION HERE\n",
    "new_list = [] # Build your comprehension between the square brackets\n",
    "# END SOLUTION HERE\n",
    "\n",
    "print(new_list)"
   ]
  }
 ],
 "metadata": {
  "colab": {
   "authorship_tag": "ABX9TyM5e5z/MB+D1lJvjD0hPcqh",
   "collapsed_sections": [
    "eUH8oVeNUtoC",
    "wjt1_jKdKrdB",
    "VjI-uAVxKITz",
    "-xwRujwzVQe8",
    "0Ez3STP6hE9Y",
    "5I4pj3kgS-mM",
    "YZzKirCzicYf",
    "modFaDcGl1uQ",
    "nWwTUQv_qzZ8",
    "VGr93-dptjq1",
    "RCJdxjVFQBd5",
    "bAIhtYjZpJv6"
   ],
   "include_colab_link": true,
   "provenance": []
  },
  "kernelspec": {
   "display_name": "Python 3 (ipykernel)",
   "language": "python",
   "name": "python3"
  },
  "language_info": {
   "codemirror_mode": {
    "name": "ipython",
    "version": 3
   },
   "file_extension": ".py",
   "mimetype": "text/x-python",
   "name": "python",
   "nbconvert_exporter": "python",
   "pygments_lexer": "ipython3",
   "version": "3.12.6"
  }
 },
 "nbformat": 4,
 "nbformat_minor": 4
}
