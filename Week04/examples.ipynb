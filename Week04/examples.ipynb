{
  "nbformat": 4,
  "nbformat_minor": 0,
  "metadata": {
    "colab": {
      "provenance": [],
      "collapsed_sections": [
        "eUH8oVeNUtoC",
        "wjt1_jKdKrdB",
        "VjI-uAVxKITz",
        "-xwRujwzVQe8",
        "0Ez3STP6hE9Y",
        "5I4pj3kgS-mM",
        "YZzKirCzicYf",
        "modFaDcGl1uQ",
        "nWwTUQv_qzZ8",
        "VGr93-dptjq1",
        "RCJdxjVFQBd5",
        "bAIhtYjZpJv6"
      ],
      "authorship_tag": "ABX9TyM5e5z/MB+D1lJvjD0hPcqh",
      "include_colab_link": true
    },
    "kernelspec": {
      "name": "python3",
      "display_name": "Python 3"
    },
    "language_info": {
      "name": "python"
    }
  },
  "cells": [
    {
      "cell_type": "markdown",
      "metadata": {
        "id": "view-in-github",
        "colab_type": "text"
      },
      "source": [
        "<a href=\"https://colab.research.google.com/github/michael-groner/HDS5210-02-Assignments/blob/main/Week04/examples.ipynb\" target=\"_parent\"><img src=\"https://colab.research.google.com/assets/colab-badge.svg\" alt=\"Open In Colab\"/></a>"
      ]
    },
    {
      "cell_type": "markdown",
      "source": [
        "# Lists\n",
        "\n",
        "## Creating a list"
      ],
      "metadata": {
        "id": "eUH8oVeNUtoC"
      }
    },
    {
      "cell_type": "code",
      "source": [
        "empty_list = [] # Empty list\n",
        "number_list = ['one', 'two', 'three']"
      ],
      "metadata": {
        "id": "tu-1uvt7Yx8M"
      },
      "execution_count": null,
      "outputs": []
    },
    {
      "cell_type": "markdown",
      "source": [
        "## Selecting values in a list\n",
        "\n",
        "**Remember, the first position in the list has the index 0**"
      ],
      "metadata": {
        "id": "UFfzl2MKZAnN"
      }
    },
    {
      "cell_type": "code",
      "source": [
        "print(number_list[0])\n",
        "print(number_list[2])"
      ],
      "metadata": {
        "id": "uToACM-RY_Rb"
      },
      "execution_count": null,
      "outputs": []
    },
    {
      "cell_type": "markdown",
      "source": [
        "## Using a negative index counts backwards thorugh the list"
      ],
      "metadata": {
        "id": "qQst9wyscwi1"
      }
    },
    {
      "cell_type": "code",
      "source": [
        "print(number_list[-1])\n",
        "print(number_list[-3])"
      ],
      "metadata": {
        "id": "K2D_jGmFc6vP"
      },
      "execution_count": null,
      "outputs": []
    },
    {
      "cell_type": "markdown",
      "source": [
        "## Changing values in a list"
      ],
      "metadata": {
        "id": "06rG-yDRZqZU"
      }
    },
    {
      "cell_type": "code",
      "source": [
        "number_list[1] = 'Michael'\n",
        "print(number_list)"
      ],
      "metadata": {
        "id": "9H92NrTMZspa"
      },
      "execution_count": null,
      "outputs": []
    },
    {
      "cell_type": "markdown",
      "source": [
        "## Adding an item to a list"
      ],
      "metadata": {
        "id": "eUDf2-KIZzBb"
      }
    },
    {
      "cell_type": "code",
      "source": [
        "number_list.append('four')\n",
        "print(number_list)"
      ],
      "metadata": {
        "id": "nyO1w0sCZ4x9"
      },
      "execution_count": null,
      "outputs": []
    },
    {
      "cell_type": "markdown",
      "source": [
        "## Remove a specific value from a list\n",
        "\n",
        "**NOTE: This only works on the first list element with the given value**"
      ],
      "metadata": {
        "id": "MmkvRfntd9Vk"
      }
    },
    {
      "cell_type": "code",
      "source": [
        "fruits = ['apple', 'bannana', 'orange', 'bannana']\n",
        "fruits.remove('bannana')\n",
        "print(f\"{fruits}\")"
      ],
      "metadata": {
        "id": "Bjgln4fMeCGi"
      },
      "execution_count": null,
      "outputs": []
    },
    {
      "cell_type": "markdown",
      "source": [
        "## Remove a position from a list"
      ],
      "metadata": {
        "id": "FsancsbdZ-VK"
      }
    },
    {
      "cell_type": "code",
      "source": [
        "number_list.pop(1)\n",
        "print(number_list)"
      ],
      "metadata": {
        "id": "cN_OpmVbaCcP"
      },
      "execution_count": null,
      "outputs": []
    },
    {
      "cell_type": "markdown",
      "source": [
        "## Get the length of a list"
      ],
      "metadata": {
        "id": "QLhZH3CTaHeT"
      }
    },
    {
      "cell_type": "code",
      "source": [
        "size = len(number_list)\n",
        "\n",
        "print(f'The size of the list is {size}')"
      ],
      "metadata": {
        "id": "I9N62FUCaJM_"
      },
      "execution_count": null,
      "outputs": []
    },
    {
      "cell_type": "markdown",
      "source": [
        "## Adding lists together"
      ],
      "metadata": {
        "id": "VPFb3Ot9aT5K"
      }
    },
    {
      "cell_type": "code",
      "source": [
        "new_list = ['five','six']\n",
        "\n",
        "number_list = number_list + new_list\n",
        "\n",
        "print(number_list)"
      ],
      "metadata": {
        "id": "KWZaTYxXaV-_"
      },
      "execution_count": null,
      "outputs": []
    },
    {
      "cell_type": "markdown",
      "source": [
        "## Test if an element is in a list\n"
      ],
      "metadata": {
        "id": "rEAf7aJIah2y"
      }
    },
    {
      "cell_type": "code",
      "source": [
        "if 'two' in number_list:\n",
        "  print('The list contains the element \\'two\\'')\n",
        "else:\n",
        "  print('The list does not contain the element \\'two\\'')"
      ],
      "metadata": {
        "id": "Ojzsl5bFa2zt"
      },
      "execution_count": null,
      "outputs": []
    },
    {
      "cell_type": "markdown",
      "source": [
        "## Looping over lists"
      ],
      "metadata": {
        "id": "SGnln_2Ie4ri"
      }
    },
    {
      "cell_type": "code",
      "source": [
        "fruits = ['apple', 'bannana', 'orange']\n",
        "\n",
        "for fruit in fruits:\n",
        "  print(f'{fruit}')"
      ],
      "metadata": {
        "id": "RL5wfhqje8dT"
      },
      "execution_count": null,
      "outputs": []
    },
    {
      "cell_type": "markdown",
      "source": [
        "## Copy a list"
      ],
      "metadata": {
        "id": "m_b1ecazbTzm"
      }
    },
    {
      "cell_type": "code",
      "source": [
        "list1 = ['a','b','c']\n",
        "list2 = list1 # Make 'list2' point to the same list as 'list1'\n",
        "list1[0] = 'd'\n",
        "print(f\"list 1: {list1}\")\n",
        "print(f\"list 2: {list2}\")\n",
        "\n",
        "list3 = ['d', 'e', 'f']\n",
        "list4 = list3[:]\n",
        "list3[0] = 'g'\n",
        "print(f\"list 3: {list3}\")\n",
        "print(f\"list 4: {list4}\")"
      ],
      "metadata": {
        "id": "YbNH5JPbbVgw"
      },
      "execution_count": null,
      "outputs": []
    },
    {
      "cell_type": "markdown",
      "source": [
        "## Slicing a list - return only portions of a list\n",
        "\n",
        "list[START:END] - returns a copy of the list from index START up to, but not including, END\n",
        "\n",
        "list[START:] - returns a copy of the list from index\n",
        "\n",
        "list[:END] - returns a copy of the list from the begining up to, but not including, the index END\n",
        "\n",
        "list[:] - returns a copy of the list"
      ],
      "metadata": {
        "id": "rQc0NQq9bNPN"
      }
    },
    {
      "cell_type": "code",
      "source": [
        "number_list = [0,1,2,3,4,5,6]\n",
        "\n",
        "print(number_list[1:4])\n",
        "print(number_list[2:])\n",
        "print(number_list[:3])\n",
        "print(number_list[:])"
      ],
      "metadata": {
        "id": "3aG2FA9scTS-"
      },
      "execution_count": null,
      "outputs": []
    },
    {
      "cell_type": "markdown",
      "source": [
        "Similar to indecies, you can use negative values to slice backwards through a list"
      ],
      "metadata": {
        "id": "E6tdKhVmdan3"
      }
    },
    {
      "cell_type": "code",
      "source": [
        "print(number_list[:-2])"
      ],
      "metadata": {
        "id": "hGINp_Csdi4t"
      },
      "execution_count": null,
      "outputs": []
    },
    {
      "cell_type": "markdown",
      "source": [
        "## Lists of lists\n",
        "\n",
        "An element can be its own list"
      ],
      "metadata": {
        "id": "TdPI8CUEfzcj"
      }
    },
    {
      "cell_type": "code",
      "source": [
        "name1 = ['Michael', 'Groner']\n",
        "name2 = ['George', 'Smith']\n",
        "\n",
        "names = [name1, name2]\n",
        "\n",
        "print(names)"
      ],
      "metadata": {
        "id": "iDS5Q3gogJA0"
      },
      "execution_count": null,
      "outputs": []
    },
    {
      "cell_type": "markdown",
      "source": [
        "## Reference an element in a list, which is in a list"
      ],
      "metadata": {
        "id": "2B8xxS1XgWPg"
      }
    },
    {
      "cell_type": "code",
      "source": [
        "first_name_of_first_person_in_list = names[0][0]\n",
        "\n",
        "print(first_name_of_first_person_in_list)"
      ],
      "metadata": {
        "id": "0ziGqP0Agbnu"
      },
      "execution_count": null,
      "outputs": []
    },
    {
      "cell_type": "markdown",
      "source": [
        "# Exercise 1\n",
        "\n",
        "Loop over the names in the list below and print out \"`FirstName` is a `LastName`\""
      ],
      "metadata": {
        "id": "wjt1_jKdKrdB"
      }
    },
    {
      "cell_type": "code",
      "execution_count": null,
      "metadata": {
        "id": "F8ISAB98I4fK"
      },
      "outputs": [],
      "source": [
        "names = [['Michael', 'Johnson'],\n",
        "         ['Emily', 'Davis'],\n",
        "         ['James', 'Wilson'],\n",
        "         ['Sarah', 'Smith']]\n",
        "\n",
        "# BEGIN SOLUTION HERE\n",
        "\n",
        "# END SOLUTION HERE"
      ]
    },
    {
      "cell_type": "markdown",
      "source": [
        "# Exercise 2\n",
        "\n",
        "Can you print out 'FirstName LastName', but in alphabetical order of last name?\n",
        "\n",
        "**NOTE: This takes more than one command and one step to implement**"
      ],
      "metadata": {
        "id": "VjI-uAVxKITz"
      }
    },
    {
      "cell_type": "code",
      "source": [
        "names = [['Michael', 'Johnson'],\n",
        "         ['Emily', 'Davis'],\n",
        "         ['James', 'Wilson'],\n",
        "         ['Sarah', 'Smith']]\n",
        "\n",
        "# BEGIN SOLUTION HERE\n",
        "\n",
        "# END SOLUTION HERE"
      ],
      "metadata": {
        "id": "G5BDWjqMPh8O"
      },
      "execution_count": null,
      "outputs": []
    },
    {
      "cell_type": "markdown",
      "source": [
        "# Range\n",
        "\n",
        "`range()` can be used three ways\n",
        "\n",
        "`range(STOP)` counts from 0 up to, but not including, the value of STOP\n",
        "* 'range(START, STOP)' counts from the value of START (including START) up to, but not including, the value of STOP\n",
        "* 'range(START, STOP, STEP)' counts from the start value to, but not including, the STOP value"
      ],
      "metadata": {
        "id": "-xwRujwzVQe8"
      }
    },
    {
      "cell_type": "code",
      "source": [
        "for i in range(10):\n",
        "  print(i)"
      ],
      "metadata": {
        "id": "Wj2PEZkaWFZy"
      },
      "execution_count": null,
      "outputs": []
    },
    {
      "cell_type": "markdown",
      "source": [
        "`range(START, STOP)` counts form the value of START (including START) up to, but not including the value of STOP\n"
      ],
      "metadata": {
        "id": "tlSCImRBWHsK"
      }
    },
    {
      "cell_type": "code",
      "source": [
        "for i in range(1, 10):\n",
        "  print(i)"
      ],
      "metadata": {
        "id": "9XKTCeLvWrhF"
      },
      "execution_count": null,
      "outputs": []
    },
    {
      "cell_type": "markdown",
      "source": [
        "`range(START, STOP, STEP)` counts from the value of START (including START) up to, but not including, STOP by the value of STEP"
      ],
      "metadata": {
        "id": "mrEqANwPWHeF"
      }
    },
    {
      "cell_type": "code",
      "source": [
        "for i in range(2,20,2):\n",
        "  print(i)"
      ],
      "metadata": {
        "id": "opSSedchXGlZ"
      },
      "execution_count": null,
      "outputs": []
    },
    {
      "cell_type": "markdown",
      "source": [
        "'range()' can take negative values in STEP"
      ],
      "metadata": {
        "id": "86SQnwLCWHOQ"
      }
    },
    {
      "cell_type": "code",
      "source": [
        "for i in range(10, 1, -1):\n",
        "  print(i)"
      ],
      "metadata": {
        "id": "VbNGkGqiXVQI"
      },
      "execution_count": null,
      "outputs": []
    },
    {
      "cell_type": "markdown",
      "source": [
        "If you give range imposible values, it will have no value and skip the loop"
      ],
      "metadata": {
        "id": "s_7T638bXg5c"
      }
    },
    {
      "cell_type": "code",
      "source": [
        "for i in range(10, 1, 1):\n",
        "  print(i)"
      ],
      "metadata": {
        "id": "TIWDyUSpXazF"
      },
      "execution_count": null,
      "outputs": []
    },
    {
      "cell_type": "markdown",
      "source": [
        "# Exercise 3\n",
        "\n",
        "Create a list of all the integers from 1 to 100 (including 100) using `range()`"
      ],
      "metadata": {
        "id": "0Ez3STP6hE9Y"
      }
    },
    {
      "cell_type": "code",
      "source": [],
      "metadata": {
        "id": "WR1kCiWIhNoc"
      },
      "execution_count": null,
      "outputs": []
    },
    {
      "cell_type": "markdown",
      "source": [
        "# Tuples\n",
        "\n",
        "Tuples are similar to lists, but once the tuple is created, it cannot be changed!\n",
        "\n"
      ],
      "metadata": {
        "id": "5I4pj3kgS-mM"
      }
    },
    {
      "cell_type": "code",
      "source": [
        "names = ('Michael', 'Sam')\n",
        "\n",
        "print( names )"
      ],
      "metadata": {
        "id": "T_UjvJ5IT2Uj"
      },
      "execution_count": null,
      "outputs": []
    },
    {
      "cell_type": "markdown",
      "source": [
        "### When have we used tuples?"
      ],
      "metadata": {
        "id": "GD0QncnOUI6t"
      }
    },
    {
      "cell_type": "code",
      "source": [
        "name = {'First' : 'Michael', 'Last' : 'Groner'}\n",
        "\n",
        "for x in name.items():\n",
        "  print(x)\n",
        "\n"
      ],
      "metadata": {
        "id": "9Ixc5sGJUY7r"
      },
      "execution_count": null,
      "outputs": []
    },
    {
      "cell_type": "code",
      "source": [],
      "metadata": {
        "id": "WCG4ii_eUY30"
      },
      "execution_count": null,
      "outputs": []
    },
    {
      "cell_type": "markdown",
      "source": [
        "# Sets\n",
        "\n",
        "Sets are similar to lists, but each set can only have each value saved one time!"
      ],
      "metadata": {
        "id": "YZzKirCzicYf"
      }
    },
    {
      "cell_type": "markdown",
      "source": [
        "## Create a set"
      ],
      "metadata": {
        "id": "ldPNqUpmikLK"
      }
    },
    {
      "cell_type": "code",
      "source": [
        "# Create an empty set\n",
        "empty_set = set()\n",
        "print(f'{empty_set}')\n",
        "\n",
        "# Create a set from values\n",
        "set_of_names = {'Michael', 'George', 'Jeffrey'}\n",
        "print(f\"{set_of_names}\")\n",
        "\n",
        "# Create set from a list\n",
        "numbers = [1, 2, 3, 4]\n",
        "set_of_numbers = set(numbers)\n",
        "print(f'{set_of_numbers}')"
      ],
      "metadata": {
        "id": "DYK1EWpdimhN"
      },
      "execution_count": null,
      "outputs": []
    },
    {
      "cell_type": "markdown",
      "source": [
        "## Add an element to a set"
      ],
      "metadata": {
        "id": "Xzp12TGwjGTs"
      }
    },
    {
      "cell_type": "code",
      "source": [
        "set_of_numbers = {1, 2, 3, 4}\n",
        "\n",
        "set_of_numbers.add(5)\n",
        "print( set_of_numbers )\n",
        "\n",
        "set_of_numbers.add(5)\n",
        "print( set_of_numbers)   # NOTE: Adding the same value twice doesn't add two elements to a set\n"
      ],
      "metadata": {
        "id": "Bu4fInXxjJKZ"
      },
      "execution_count": null,
      "outputs": []
    },
    {
      "cell_type": "markdown",
      "source": [
        "## Remove elements from a set"
      ],
      "metadata": {
        "id": "lfPWBYiYjGGV"
      }
    },
    {
      "cell_type": "code",
      "source": [
        "set_of_numbers = {1, 2, 3, 4}\n",
        "\n",
        "set_of_numbers.remove(4)\n",
        "print(set_of_numbers)"
      ],
      "metadata": {
        "id": "WUF0G1e8kig7"
      },
      "execution_count": null,
      "outputs": []
    },
    {
      "cell_type": "markdown",
      "source": [
        "## Clear a set of numbers"
      ],
      "metadata": {
        "id": "v3v79Jh9jGBk"
      }
    },
    {
      "cell_type": "code",
      "source": [
        "set_of_numbers = {1, 2, 3, 4}\n",
        "\n",
        "set_of_numbers.clear()\n",
        "print(set_of_numbers)"
      ],
      "metadata": {
        "id": "juHQjZwKksER"
      },
      "execution_count": null,
      "outputs": []
    },
    {
      "cell_type": "markdown",
      "source": [
        "## Union of two sets"
      ],
      "metadata": {
        "id": "Zhnye2QcjF9V"
      }
    },
    {
      "cell_type": "code",
      "source": [
        "set1 = {1, 2, 3}\n",
        "set2 = {3, 4, 5}\n",
        "\n",
        "new_set = set1.union(set2)\n",
        "\n",
        "print(new_set)"
      ],
      "metadata": {
        "id": "HPgC-3F3jFQF"
      },
      "execution_count": null,
      "outputs": []
    },
    {
      "cell_type": "markdown",
      "source": [
        "## Intersection of two sets"
      ],
      "metadata": {
        "id": "7I1I6ZuGlDnT"
      }
    },
    {
      "cell_type": "code",
      "source": [
        "set1 = {1, 2, 3}\n",
        "set2 = {3, 4, 5}\n",
        "\n",
        "new_set = set1.intersection(set2)\n",
        "\n",
        "print(new_set)"
      ],
      "metadata": {
        "id": "2MBh5OMUlHBL"
      },
      "execution_count": null,
      "outputs": []
    },
    {
      "cell_type": "markdown",
      "source": [
        "## Difference of two sets"
      ],
      "metadata": {
        "id": "lqV92W1tlN13"
      }
    },
    {
      "cell_type": "code",
      "source": [
        "set1 = {1, 2, 3}\n",
        "set2 = {3, 4, 5}\n",
        "\n",
        "print(f\"set1 - set2 = {set1.difference(set2)}\")\n",
        "print(f\"set2 - set1 = {set2.difference(set1)}\")\n"
      ],
      "metadata": {
        "id": "11ug-NPVlNfT"
      },
      "execution_count": null,
      "outputs": []
    },
    {
      "cell_type": "markdown",
      "source": [
        "## Test membership\n",
        "\n",
        "```\n",
        "# This is formatted as code\n",
        "```\n",
        "\n"
      ],
      "metadata": {
        "id": "Ci-9MlAzllox"
      }
    },
    {
      "cell_type": "code",
      "source": [
        "names_set = {'Michael', 'George', 'Jeffrey'}\n",
        "\n",
        "if 'Michael' in names_set:\n",
        "  print(\"Michael is in the name set\")\n",
        "else:\n",
        "  print(\"Michael is not in the name set\")"
      ],
      "metadata": {
        "id": "NWBQqLPRllOv"
      },
      "execution_count": null,
      "outputs": []
    },
    {
      "cell_type": "markdown",
      "source": [
        "# Exercise 4\n",
        "\n",
        "## How many unique items are in this list?\n",
        "\n",
        "Gernerate a list of 100 random numbers"
      ],
      "metadata": {
        "id": "modFaDcGl1uQ"
      }
    },
    {
      "cell_type": "code",
      "source": [
        "from random import randrange\n",
        "\n",
        "a_list = []\n",
        "for i in range(100):\n",
        "  a_list.append(randrange(1, 101))\n",
        "\n",
        "# BEGIN SOLUTION HERE\n",
        "\n",
        "# END SOLUTION HERE"
      ],
      "metadata": {
        "id": "s1NguRbCl-xx"
      },
      "execution_count": null,
      "outputs": []
    },
    {
      "cell_type": "markdown",
      "source": [
        "# Dictionaries\n"
      ],
      "metadata": {
        "id": "nWwTUQv_qzZ8"
      }
    },
    {
      "cell_type": "markdown",
      "source": [
        "## Creating a dictionary"
      ],
      "metadata": {
        "id": "r5p-wyFmq2Jp"
      }
    },
    {
      "cell_type": "code",
      "source": [
        "# Create an empty dictionary\n",
        "dict1 = {}\n",
        "\n",
        "# Create a dictionary with values\n",
        "dict2 = {\n",
        "    \"first_name\" : 'Michael',\n",
        "    \"second_name\" : 'Groner'\n",
        "}\n",
        "\n",
        "print(dict1)\n",
        "print(dict2)"
      ],
      "metadata": {
        "id": "NZvA-cUXq35u"
      },
      "execution_count": null,
      "outputs": []
    },
    {
      "cell_type": "markdown",
      "source": [
        "## Add key/value pair to a dictionary\n",
        "\n",
        "**NOTE: Dictionary keys don't have to be strings, they can be numbers, floats, or any data type"
      ],
      "metadata": {
        "id": "NNOrFpP9rMU3"
      }
    },
    {
      "cell_type": "code",
      "source": [
        "patient = {\n",
        "  'first_name' : 'Michael',\n",
        "  'last_name' : 'Groner'\n",
        "}\n",
        "\n",
        "patient['age'] = 50\n",
        "patient[4] = 'non-sensical key'\n",
        "\n",
        "print(patient)"
      ],
      "metadata": {
        "id": "IFIRu9c8r5YY"
      },
      "execution_count": null,
      "outputs": []
    },
    {
      "cell_type": "markdown",
      "source": [
        "## Retrieve value from dictionary\n"
      ],
      "metadata": {
        "id": "3dlWbExWr8kI"
      }
    },
    {
      "cell_type": "code",
      "source": [
        "patient = {\n",
        "  'first_name' : 'Michael',\n",
        "  'last_name' : 'Groner',\n",
        "  'age' : 50\n",
        "}\n",
        "\n",
        "# Option 1 - get() function\n",
        "last_name = patient.get('last_name')\n",
        "print(f'Patients last name is {last_name}')\n",
        "\n",
        "# Option 2 - direct calling\n",
        "first_name = patient['first_name']\n",
        "print(f'Patient\\'s first name is {first_name}')\n"
      ],
      "metadata": {
        "id": "UZyYQ0akr_bH"
      },
      "execution_count": null,
      "outputs": []
    },
    {
      "cell_type": "markdown",
      "source": [
        "## Modifying an element in a ditionary"
      ],
      "metadata": {
        "id": "TpKj33WJtVbk"
      }
    },
    {
      "cell_type": "code",
      "source": [
        "patient = {\n",
        "  'first_name' : 'Michael',\n",
        "  'last_name' : 'Groner',\n",
        "  'age' : 50\n",
        "}\n",
        "\n",
        "patient['age'] = 60\n",
        "\n",
        "print(patient)"
      ],
      "metadata": {
        "id": "T3FX2Q3MtaGQ"
      },
      "execution_count": null,
      "outputs": []
    },
    {
      "cell_type": "code",
      "source": [
        "# BEGIN SOLUTION HERE\n",
        "\n",
        "# END SOLUTION HERE"
      ],
      "metadata": {
        "id": "yM3aGVUDvnef"
      },
      "execution_count": null,
      "outputs": []
    },
    {
      "cell_type": "markdown",
      "source": [
        "## Remove a key/value pair from a dictionary"
      ],
      "metadata": {
        "id": "VGr93-dptjq1"
      }
    },
    {
      "cell_type": "code",
      "source": [
        "patient = {\n",
        "  'first_name' : 'Michael',\n",
        "  'last_name' : 'Groner',\n",
        "  'age' : 50\n",
        "}\n",
        "\n",
        "age = patient.pop('age')\n",
        "\n",
        "print(age)\n",
        "print(patient)"
      ],
      "metadata": {
        "id": "VMN5LWTOtoYy"
      },
      "execution_count": null,
      "outputs": []
    },
    {
      "cell_type": "markdown",
      "source": [
        "## Loop over a dictionary"
      ],
      "metadata": {
        "id": "_WNL2dBOtygo"
      }
    },
    {
      "cell_type": "code",
      "source": [
        "patient = {\n",
        "  'first_name' : 'Michael',\n",
        "  'last_name' : 'Groner',\n",
        "  'age' : 50\n",
        "}\n",
        "\n",
        "# Loop by keys\n",
        "for key in patient:\n",
        "  print(key)"
      ],
      "metadata": {
        "id": "nHgFXnWNt0em"
      },
      "execution_count": null,
      "outputs": []
    },
    {
      "cell_type": "code",
      "source": [
        "patient = {\n",
        "  'first_name' : 'Michael',\n",
        "  'last_name' : 'Groner',\n",
        "  'age' : 50\n",
        "}\n",
        "\n",
        "# Loop by values\n",
        "for value in patient.values():\n",
        "  print(value)"
      ],
      "metadata": {
        "id": "LFoASoMPuAN4"
      },
      "execution_count": null,
      "outputs": []
    },
    {
      "cell_type": "code",
      "source": [
        "patient = {\n",
        "  'first_name' : 'Michael',\n",
        "  'last_name' : 'Groner',\n",
        "  'age' : 50\n",
        "}\n",
        "\n",
        "# Loop by both\n",
        "for key, value in patient.items():\n",
        "  print(f'Key: {key}  Value:{value}')"
      ],
      "metadata": {
        "id": "8kgQPgX3uG2P"
      },
      "execution_count": null,
      "outputs": []
    },
    {
      "cell_type": "markdown",
      "source": [
        "## Check for membership in the dictionary\n"
      ],
      "metadata": {
        "id": "LNJlGI0_uUUB"
      }
    },
    {
      "cell_type": "code",
      "source": [
        "patient = {\n",
        "  'first_name' : 'Michael',\n",
        "  'last_name' : 'Groner',\n",
        "  'age' : 50\n",
        "}\n",
        "\n",
        "if 'weight' in patient:\n",
        "  print('The key weight is in the dictionary')\n",
        "else:\n",
        "  print('The key weight is not in the dictionary')"
      ],
      "metadata": {
        "id": "zFFjdRZYuYQs"
      },
      "execution_count": null,
      "outputs": []
    },
    {
      "cell_type": "markdown",
      "source": [
        "# Exercise 5\n",
        "\n",
        "1. Create a data structure by hand\n",
        "\n",
        "* Create a dictionary of unique last names which holds a list of family members\n",
        "\n",
        "* Each family member has a first name, last name, and age in their individual list\n",
        "\n",
        "* Put multiple families each with multiple members in your list\n",
        "\n",
        "2. Compute and output the last name of each family along with the average age per family\n",
        "\n",
        "\n",
        "\n"
      ],
      "metadata": {
        "id": "BQ-pH61iu0YY"
      }
    },
    {
      "cell_type": "markdown",
      "source": [
        "# Comprehensions"
      ],
      "metadata": {
        "id": "RCJdxjVFQBd5"
      }
    },
    {
      "cell_type": "markdown",
      "source": [
        "## List Comprehensions"
      ],
      "metadata": {
        "id": "fRIPrkyioxFp"
      }
    },
    {
      "cell_type": "code",
      "source": [
        "family = ['Michael', 'Christy', 'Brennen', 'Chloe', 'Kylie']\n",
        "\n",
        "[name + ' Groner' for name in family]"
      ],
      "metadata": {
        "id": "C-n1ia5jQAx8"
      },
      "execution_count": null,
      "outputs": []
    },
    {
      "cell_type": "code",
      "source": [
        "family = ['Michael', 'Christy', 'Brennen', 'Chloe', 'Kylie']\n",
        "\n",
        "[name.upper() for name in family]"
      ],
      "metadata": {
        "id": "DpQTem7RQ1UV"
      },
      "execution_count": null,
      "outputs": []
    },
    {
      "cell_type": "markdown",
      "source": [
        "## Dictionary Comprehension"
      ],
      "metadata": {
        "id": "qw-VP2GcSAPz"
      }
    },
    {
      "cell_type": "code",
      "source": [
        "family = [\n",
        "    ['MSG', 'Michael Groner'],\n",
        "    ['CAG', 'Chrsity Groner']\n",
        "]\n",
        "\n",
        "{ x[0]:x[1] for x in family }"
      ],
      "metadata": {
        "id": "Tim3bmNqRO-T"
      },
      "execution_count": null,
      "outputs": []
    },
    {
      "cell_type": "markdown",
      "source": [
        "# Exercise 6\n",
        "\n",
        "Use a comprehension to create a new list with each value of the older list doubled"
      ],
      "metadata": {
        "id": "bAIhtYjZpJv6"
      }
    },
    {
      "cell_type": "code",
      "source": [
        "old_list = [3, 7, 2, 9, 5]\n",
        "\n",
        "# BEGIN SOLUTION HERE\n",
        "new_list = [] # Build your comprehension between the square brackets\n",
        "# END SOLUTION HERE\n",
        "\n",
        "print(new_list)"
      ],
      "metadata": {
        "id": "vM5D2Z3bpUmd"
      },
      "execution_count": null,
      "outputs": []
    }
  ]
}