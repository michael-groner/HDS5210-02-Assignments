{
 "cells": [
  {
   "cell_type": "markdown",
   "id": "1b6ec2f1-6f59-4927-b39b-287694fa6bea",
   "metadata": {},
   "source": [
    "# Week 05 Examples"
   ]
  },
  {
   "cell_type": "markdown",
   "id": "9d734ba3-2098-4755-896b-81967add2e60",
   "metadata": {},
   "source": [
    "# Comprehensions"
   ]
  },
  {
   "cell_type": "markdown",
   "id": "04adc491-9651-474a-931d-dadbfb006f9e",
   "metadata": {
    "editable": true,
    "slideshow": {
     "slide_type": ""
    },
    "tags": []
   },
   "source": [
    "## List Comprehensions\n",
    "\n",
    "Create a new list with text added to each element of the starting list"
   ]
  },
  {
   "cell_type": "code",
   "execution_count": 13,
   "id": "8d8c1629-5ddc-4786-838b-7985abef5931",
   "metadata": {},
   "outputs": [
    {
     "data": {
      "text/plain": [
       "['Michael Groner',\n",
       " 'Christy Groner',\n",
       " 'Brennen Groner',\n",
       " 'Chloe Groner',\n",
       " 'Kylie Groner']"
      ]
     },
     "execution_count": 13,
     "metadata": {},
     "output_type": "execute_result"
    }
   ],
   "source": [
    "family = ['Michael', 'Christy', 'Brennen', 'Chloe', 'Kylie']\n",
    "\n",
    "[name + ' Groner' for name in family]"
   ]
  },
  {
   "cell_type": "markdown",
   "id": "6c3ee1bb-53fb-4cd3-97d9-8cf59e2eb531",
   "metadata": {},
   "source": [
    "Create a new list with all elements of the original list converted to upper case"
   ]
  },
  {
   "cell_type": "code",
   "execution_count": 14,
   "id": "5bd2bbf0-7f1d-49f2-8d97-7fd7171b36a6",
   "metadata": {},
   "outputs": [
    {
     "data": {
      "text/plain": [
       "['MICHAEL', 'CHRISTY', 'BRENNEN', 'CHLOE', 'KYLIE']"
      ]
     },
     "execution_count": 14,
     "metadata": {},
     "output_type": "execute_result"
    }
   ],
   "source": [
    "family = ['Michael', 'Christy', 'Brennen', 'Chloe', 'Kylie']\n",
    "\n",
    "[name.upper() for name in family]"
   ]
  },
  {
   "cell_type": "markdown",
   "id": "10c45c23-3ee2-46a0-b41e-be0329a1d2ac",
   "metadata": {},
   "source": [
    "## Dictionary Comprehension\n",
    "\n",
    "Create a dictionary of a person's initials to their full name from a list of lists"
   ]
  },
  {
   "cell_type": "code",
   "execution_count": 15,
   "id": "49e9bbdf-a778-483a-a5d0-3b0191830e59",
   "metadata": {},
   "outputs": [
    {
     "data": {
      "text/plain": [
       "{'MSG': 'Michael Groner', 'CAG': 'Chrsity Groner'}"
      ]
     },
     "execution_count": 15,
     "metadata": {},
     "output_type": "execute_result"
    }
   ],
   "source": [
    "family = [\n",
    "    ['MSG', 'Michael Groner'],\n",
    "    ['CAG', 'Chrsity Groner']\n",
    "]\n",
    "\n",
    "{ x[0]:x[1] for x in family }"
   ]
  },
  {
   "cell_type": "markdown",
   "id": "f9d554c6-afd3-4588-a2cf-c15be77ddf90",
   "metadata": {},
   "source": [
    "# Exercise 1\n",
    "\n",
    "Use a comprehension to create a new list where each value of the original list is doubled"
   ]
  },
  {
   "cell_type": "code",
   "execution_count": 16,
   "id": "d1efa6b6-6da9-4759-a88e-b0503fc2033a",
   "metadata": {},
   "outputs": [
    {
     "name": "stdout",
     "output_type": "stream",
     "text": [
      "[]\n"
     ]
    }
   ],
   "source": [
    "old_list = [3, 7, 2, 9, 5]\n",
    "\n",
    "# BEGIN SOLUTION HERE\n",
    "new_list = [] # Build your comprehension between the square brackets\n",
    "# END SOLUTION HERE\n",
    "\n",
    "print(new_list)"
   ]
  },
  {
   "attachments": {},
   "cell_type": "markdown",
   "id": "6bcea23d-926d-4d78-bb4c-24d297572728",
   "metadata": {},
   "source": [
    "# Docstrings"
   ]
  },
  {
   "cell_type": "markdown",
   "id": "db3b3aab-4e6d-42d0-b4b4-52827eec2c07",
   "metadata": {},
   "source": [
    "## Basic Docstring example"
   ]
  },
  {
   "cell_type": "code",
   "execution_count": 17,
   "id": "553debab-4f09-4c19-bd1e-ca5e324f17ca",
   "metadata": {},
   "outputs": [
    {
     "name": "stdout",
     "output_type": "stream",
     "text": [
      "Help on function add_numbers in module __main__:\n",
      "\n",
      "add_numbers(x, y)\n",
      "    Adds numbers together\n",
      "\n"
     ]
    }
   ],
   "source": [
    "def add_numbers(x, y):\n",
    "  \"\"\" Adds numbers together \"\"\"\n",
    "  return x + y\n",
    "    \n",
    "help(add_numbers)"
   ]
  },
  {
   "cell_type": "markdown",
   "id": "4d2b16e5-e2c9-4ef9-bc45-b201d9a9e496",
   "metadata": {},
   "source": [
    "## Docstring with execution details"
   ]
  },
  {
   "cell_type": "code",
   "execution_count": 18,
   "id": "24e81e63-3235-4629-9e87-5f41cbd7219d",
   "metadata": {},
   "outputs": [
    {
     "name": "stdout",
     "output_type": "stream",
     "text": [
      "Help on function divide_numbers in module __main__:\n",
      "\n",
      "divide_numbers(x, y)\n",
      "    Adds numbers together\n",
      "\n",
      "    Args:\n",
      "      x (int): the dividend\n",
      "      y (int): the divisor\n",
      "\n",
      "    Returns:\n",
      "      float: the quotient\n",
      "\n",
      "    Raises:\n",
      "        ZeroDivisionError: If y is zero\n",
      "\n"
     ]
    }
   ],
   "source": [
    "def divide_numbers(x, y):\n",
    "  \"\"\"\n",
    "  Adds numbers together\n",
    "\n",
    "  Args:\n",
    "    x (int): the dividend\n",
    "    y (int): the divisor\n",
    "\n",
    "  Returns:\n",
    "    float: the quotient\n",
    "\n",
    "  Raises:\n",
    "      ZeroDivisionError: If y is zero\n",
    "  \"\"\"\n",
    "  return x / y\n",
    "\n",
    "help(divide_numbers)\n",
    "\n",
    "# To Do: Type \"divide_numbers(1, 2) below\n",
    "#    Note how Google Colab shows you function details as you \n"
   ]
  },
  {
   "cell_type": "markdown",
   "id": "e13494d7-2cf6-4591-a8dd-2c90bc4a39e8",
   "metadata": {},
   "source": [
    "## Docstring with tests"
   ]
  },
  {
   "cell_type": "code",
   "execution_count": 19,
   "id": "d9748bfe-b3c9-43c6-8c51-fd6513ad4d0e",
   "metadata": {},
   "outputs": [
    {
     "name": "stdout",
     "output_type": "stream",
     "text": [
      "Finding tests in NoName\n",
      "Trying:\n",
      "    is_divisible_by_three(1)\n",
      "Expecting:\n",
      "    False\n",
      "ok\n",
      "Trying:\n",
      "    is_divisible_by_three(2)\n",
      "Expecting:\n",
      "    False\n",
      "ok\n",
      "Trying:\n",
      "    is_divisible_by_three(3)\n",
      "Expecting:\n",
      "    True\n",
      "ok\n"
     ]
    }
   ],
   "source": [
    "import doctest # Tell Python to load the doctest module\n",
    "\n",
    "def is_divisible_by_three(x):\n",
    "    \"\"\"\n",
    "    Returns true if input variable is divisible by three\n",
    "\n",
    "    Args:\n",
    "        x (int): number to be tested\n",
    "\n",
    "    Returns:\n",
    "        bool: True if number is divisible by three, else False\n",
    "\n",
    "    >>> is_divisible_by_three(1)\n",
    "    False\n",
    "    >>> is_divisible_by_three(2)\n",
    "    False\n",
    "    >>> is_divisible_by_three(3)\n",
    "    True\n",
    "    \"\"\"\n",
    "    \n",
    "    if x % 3 == 0:\n",
    "      return True\n",
    "    else:\n",
    "      return False\n",
    "\n",
    "# Below is \"boilerplate\" code for running a test\n",
    "#  Simply copy the formate and place your function name as the first variable in \"run_docstring_examples\"\n",
    "if __name__ == \"__main__\":\n",
    "    doctest.run_docstring_examples(is_divisible_by_three, globals(), verbose=True)"
   ]
  },
  {
   "cell_type": "markdown",
   "id": "19b7630c-3dd8-4e09-a76b-85062b412a8f",
   "metadata": {},
   "source": [
    "# Exercise 2"
   ]
  },
  {
   "cell_type": "markdown",
   "id": "ad6ef551-d9f4-443b-ad85-74f18e392fd7",
   "metadata": {},
   "source": [
    "Implement the function `is_even( int )`\n",
    "\n",
    "- Use Docstrings to describe the function\n",
    "- Use Docstrings to declare the input\n",
    "- Use Docstrings to declare the output\n",
    "- Use Doctest to provide test cases\n",
    "\n",
    "You are complete when your tests pass and when Google Colab assists the user to implement the `is_even()` function"
   ]
  },
  {
   "cell_type": "code",
   "execution_count": 20,
   "id": "68eeb657-3d46-429b-bf4d-c570cff07dcb",
   "metadata": {},
   "outputs": [
    {
     "name": "stdout",
     "output_type": "stream",
     "text": [
      "Finding tests in NoName\n"
     ]
    }
   ],
   "source": [
    "import doctest\n",
    "\n",
    "def is_even(x):\n",
    "    return False\n",
    "\n",
    "if __name__ == \"__main__\":\n",
    "    doctest.run_docstring_examples(is_even, globals(), verbose=True)"
   ]
  },
  {
   "cell_type": "markdown",
   "id": "278312a4-7c54-4229-9e75-4ca5598f56a2",
   "metadata": {},
   "source": [
    "# Abstraction"
   ]
  },
  {
   "cell_type": "markdown",
   "id": "63d66b5b-2586-4975-988a-156ce94bb4ac",
   "metadata": {},
   "source": [
    "## LOS - Length of Stay\n",
    "\n",
    "What happens if we add the rules:\n",
    "- Observation encounters aren't included in length of stay\n",
    "- Patients with LOS of 0 should not be counted in average LOS"
   ]
  },
  {
   "cell_type": "code",
   "execution_count": 21,
   "id": "2975aaa1-8006-4439-8410-30971310cfe3",
   "metadata": {},
   "outputs": [],
   "source": [
    "from datetime import date\n",
    "\n",
    "my_encounters = [\n",
    "    { \"id\" : \"E1234\", \"admit\" : date(2019, 1, 3), \"diagnosis\" : \"COPD\", \"discharge\" : date(2019, 1, 8) },\n",
    "    { \"id\" : \"E3842\", \"admit\" : date(2019, 1, 5), \"diagnosis\" : \"Hypertension\", \"discharge\" : date(2019, 1, 9) },\n",
    "    { \"id\" : \"E3885\", \"admit\" : date(2019, 1, 12), \"diagnosis\" : \"Anxiety\", \"discharge\" : date(2019, 1, 13) }\n",
    "]\n",
    "\n",
    "# Example cases to add to implement new rules\n",
    "#     { \"id\" : \"E8562\", \"admit\" : date(2019, 1, 15), \"diagnosis\" : \"Observation\", \"discharge\" : date(2019, 1, 16) },\n",
    "#    { \"id\" : \"E7394\", \"admit\" : date(2019, 1, 4), \"diagnosis\" : \"Anxiety\", \"discharge\" : date(2019, 1, 4) }"
   ]
  },
  {
   "cell_type": "code",
   "execution_count": 22,
   "id": "d4c33a0f-fff1-4fd0-b36e-55eba7c7ca8f",
   "metadata": {},
   "outputs": [],
   "source": [
    "def los(admit, discharge):\n",
    "    \"\"\"\n",
    "    Compute the number of whole days between admin and discharge dates\n",
    "\n",
    "    Args:\n",
    "        admit (datetime): admission date\n",
    "        discharge (datetime): discharge date\n",
    "\n",
    "    Returns:\n",
    "        int: number of days betwen admission and discharge dates \n",
    "    \"\"\"\n",
    "    return (discharge - admit).days"
   ]
  },
  {
   "cell_type": "code",
   "execution_count": 23,
   "id": "67eb994e-1ba0-4ee3-be61-20c76e7f13cb",
   "metadata": {},
   "outputs": [],
   "source": [
    "def average_los(encounters):\n",
    "    \"\"\"\n",
    "    Average length of stay for all encounters\n",
    "\n",
    "    Args:\n",
    "        encounters (list): list of encounters to compute\n",
    "\n",
    "    Returns:\n",
    "        float: average length of stay for all encounters\n",
    "    \"\"\"\n",
    "    total_los = 0\n",
    "    total_encounters = len(encounters)\n",
    "\n",
    "    for encounter in encounters:\n",
    "        total_los += los(encounter['admit'], encounter['discharge'])\n",
    "\n",
    "    return total_los / total_encounters"
   ]
  },
  {
   "cell_type": "code",
   "execution_count": 24,
   "id": "3ecb2bd0-62d3-4ad5-a6ae-57eda4098650",
   "metadata": {},
   "outputs": [
    {
     "data": {
      "text/plain": [
       "3.3333333333333335"
      ]
     },
     "execution_count": 24,
     "metadata": {},
     "output_type": "execute_result"
    }
   ],
   "source": [
    "average_los(my_encounters)"
   ]
  },
  {
   "cell_type": "markdown",
   "id": "27f8b12c",
   "metadata": {},
   "source": [
    "# Exception Handling"
   ]
  },
  {
   "cell_type": "markdown",
   "id": "e09e3f7c",
   "metadata": {},
   "source": [
    "## Exception Handling with Dictionaries\n",
    "\n",
    "Dictionaries will throw an exception if you reference a key that doesn't exist with square brackets (\"[]\")"
   ]
  },
  {
   "cell_type": "code",
   "execution_count": 45,
   "id": "ab71a5f6",
   "metadata": {},
   "outputs": [
    {
     "ename": "KeyError",
     "evalue": "'last_name'",
     "output_type": "error",
     "traceback": [
      "\u001b[0;31m---------------------------------------------------------------------------\u001b[0m",
      "\u001b[0;31mKeyError\u001b[0m                                  Traceback (most recent call last)",
      "Cell \u001b[0;32mIn[45], line 3\u001b[0m\n\u001b[1;32m      1\u001b[0m names \u001b[38;5;241m=\u001b[39m { \u001b[38;5;124m\"\u001b[39m\u001b[38;5;124mfirst_name\u001b[39m\u001b[38;5;124m\"\u001b[39m : \u001b[38;5;124m\"\u001b[39m\u001b[38;5;124mMichael\u001b[39m\u001b[38;5;124m\"\u001b[39m }\n\u001b[0;32m----> 3\u001b[0m \u001b[38;5;28mprint\u001b[39m(\u001b[43mnames\u001b[49m\u001b[43m[\u001b[49m\u001b[38;5;124;43m\"\u001b[39;49m\u001b[38;5;124;43mlast_name\u001b[39;49m\u001b[38;5;124;43m\"\u001b[39;49m\u001b[43m]\u001b[49m)\n",
      "\u001b[0;31mKeyError\u001b[0m: 'last_name'"
     ]
    }
   ],
   "source": [
    "names = { \"first_name\" : \"Michael\" }\n",
    "\n",
    "print(names[\"last_name\"])"
   ]
  },
  {
   "cell_type": "markdown",
   "id": "db6b4f94",
   "metadata": {},
   "source": [
    "## Catching an exception "
   ]
  },
  {
   "cell_type": "code",
   "execution_count": 46,
   "id": "43a81bce",
   "metadata": {},
   "outputs": [
    {
     "name": "stdout",
     "output_type": "stream",
     "text": [
      "last_name is not in the dictionary\n"
     ]
    }
   ],
   "source": [
    "names = { \"first_name\" : \"Michael\" }\n",
    "\n",
    "try:\n",
    "    print(names[\"last_name\"])\n",
    "except:\n",
    "    print(\"last_name is not in the dictionary\")\n",
    "\n"
   ]
  },
  {
   "cell_type": "markdown",
   "id": "d322936c",
   "metadata": {},
   "source": [
    "## Finally block always executes after code runs"
   ]
  },
  {
   "cell_type": "code",
   "execution_count": 47,
   "id": "c773740e",
   "metadata": {},
   "outputs": [
    {
     "name": "stdout",
     "output_type": "stream",
     "text": [
      "First example:\n",
      "--------------\n",
      "ERROR: last_name isn't in the dictionary\n",
      "FINALLY: End of try block\n",
      "MISSING NAME\n",
      "\n",
      "Second Example\n",
      "---------------\n",
      "FINALLY: End of try block\n",
      "Groner\n"
     ]
    }
   ],
   "source": [
    "def get_last_name_from_dictionary(input_dictionary):\n",
    "    try:\n",
    "        result =  input_dictionary[\"last_name\"]\n",
    "    except:\n",
    "        result = \"MISSING NAME\"\n",
    "        print(\"ERROR: last_name isn't in the dictionary\")\n",
    "    finally:\n",
    "        print(\"FINALLY: End of try block\")\n",
    "    return result\n",
    "\n",
    "print( \"First example:\")\n",
    "print( \"--------------\")\n",
    "print( get_last_name_from_dictionary( { \"first_name\" : \"Michael\" }))\n",
    "print( \"\\nSecond Example\")\n",
    "print( \"---------------\")\n",
    "print( get_last_name_from_dictionary( { \"first_name\" : \"Michael\", \"last_name\" : \"Groner\" }))\n"
   ]
  },
  {
   "cell_type": "markdown",
   "id": "76369522",
   "metadata": {},
   "source": [
    "## Exceptions can be handled differently by type of error"
   ]
  },
  {
   "cell_type": "code",
   "execution_count": 48,
   "id": "0ecdeec9",
   "metadata": {},
   "outputs": [
    {
     "name": "stdout",
     "output_type": "stream",
     "text": [
      "File wasn't found\n",
      "Exception was caught\n"
     ]
    }
   ],
   "source": [
    "def helper_function_that_can_return_different_exceptions( exception_type ):\n",
    "    \"\"\"The only goal of this function is to create different types of exceptions based on the input type\"\"\"\n",
    "    if exception_type == \"FileNotFound\":\n",
    "        raise FileNotFoundError(\"This is my File Not Found Error\")\n",
    "    if exception_type == \"ValueError\":\n",
    "        raise ValueError(\"This is my Value Error Message\")\n",
    "\n",
    "\n",
    "def catch_error_function( exception_type ):\n",
    "    try:\n",
    "        helper_function_that_can_return_different_exceptions( exception_type )\n",
    "    except FileNotFoundError:           # Catch FileNotFound exception\n",
    "        print(\"File wasn't found\")\n",
    "    except:                             # Catch all other exceptions\n",
    "        print(\"Exception was caught\")\n",
    "\n",
    "catch_error_function(\"FileNotFound\")\n",
    "catch_error_function( \"ValueError\")"
   ]
  },
  {
   "cell_type": "markdown",
   "id": "263052f0",
   "metadata": {},
   "source": [
    "# Exercise 3: Add exceptions to your BMI code\n",
    "\n",
    "Given the BMI function below, throw a ValueError exception if the height or weight are 0 or less\n",
    "\n",
    "Then, put a try/except to catch the errors and print \"Value must be greater than zero\""
   ]
  },
  {
   "cell_type": "code",
   "execution_count": 55,
   "id": "5f563523",
   "metadata": {},
   "outputs": [
    {
     "ename": "ZeroDivisionError",
     "evalue": "division by zero",
     "output_type": "error",
     "traceback": [
      "\u001b[0;31m---------------------------------------------------------------------------\u001b[0m",
      "\u001b[0;31mZeroDivisionError\u001b[0m                         Traceback (most recent call last)",
      "Cell \u001b[0;32mIn[55], line 4\u001b[0m\n\u001b[1;32m      1\u001b[0m \u001b[38;5;28;01mdef\u001b[39;00m \u001b[38;5;21mbmi\u001b[39m(height_m, weight_m):\n\u001b[1;32m      2\u001b[0m     \u001b[38;5;28;01mreturn\u001b[39;00m( weight_m \u001b[38;5;241m/\u001b[39m height_m \u001b[38;5;241m*\u001b[39m\u001b[38;5;241m*\u001b[39m \u001b[38;5;241m2\u001b[39m )\n\u001b[0;32m----> 4\u001b[0m \u001b[43mbmi\u001b[49m\u001b[43m(\u001b[49m\u001b[43m \u001b[49m\u001b[38;5;241;43m0\u001b[39;49m\u001b[43m,\u001b[49m\u001b[43m \u001b[49m\u001b[38;5;241;43m70\u001b[39;49m\u001b[43m)\u001b[49m\n\u001b[1;32m      6\u001b[0m bmi(\u001b[38;5;241m1.7\u001b[39m, \u001b[38;5;241m0\u001b[39m)\n",
      "Cell \u001b[0;32mIn[55], line 2\u001b[0m, in \u001b[0;36mbmi\u001b[0;34m(height_m, weight_m)\u001b[0m\n\u001b[1;32m      1\u001b[0m \u001b[38;5;28;01mdef\u001b[39;00m \u001b[38;5;21mbmi\u001b[39m(height_m, weight_m):\n\u001b[0;32m----> 2\u001b[0m     \u001b[38;5;28;01mreturn\u001b[39;00m( \u001b[43mweight_m\u001b[49m\u001b[43m \u001b[49m\u001b[38;5;241;43m/\u001b[39;49m\u001b[43m \u001b[49m\u001b[43mheight_m\u001b[49m\u001b[43m \u001b[49m\u001b[38;5;241;43m*\u001b[39;49m\u001b[38;5;241;43m*\u001b[39;49m\u001b[43m \u001b[49m\u001b[38;5;241;43m2\u001b[39;49m )\n",
      "\u001b[0;31mZeroDivisionError\u001b[0m: division by zero"
     ]
    }
   ],
   "source": [
    "def bmi(height_m, weight_m):\n",
    "    return( weight_m / height_m ** 2 )\n",
    "\n",
    "bmi( 0, 70)\n",
    "\n",
    "bmi(1.7, 0)"
   ]
  },
  {
   "cell_type": "code",
   "execution_count": null,
   "id": "b66ef98e",
   "metadata": {},
   "outputs": [],
   "source": []
  }
 ],
 "metadata": {
  "kernelspec": {
   "display_name": "Python 3 (ipykernel)",
   "language": "python",
   "name": "python3"
  },
  "language_info": {
   "codemirror_mode": {
    "name": "ipython",
    "version": 3
   },
   "file_extension": ".py",
   "mimetype": "text/x-python",
   "name": "python",
   "nbconvert_exporter": "python",
   "pygments_lexer": "ipython3",
   "version": "3.12.6"
  }
 },
 "nbformat": 4,
 "nbformat_minor": 5
}
